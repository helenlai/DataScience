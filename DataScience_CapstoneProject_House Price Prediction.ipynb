{
 "cells": [
  {
   "cell_type": "markdown",
   "metadata": {},
   "source": [
    "## Defining the Research Questions and Research Plan\n",
    "\n",
    "### Research Aim (Exploratory):\n",
    "- A review of literature has shown that house prices are often modeled using regression models whereby structural and locational attributes are used to explain variances in house prices. This is justified on the basis that houses often share similar strucutral features with their nearby properties (Basu & Thibodeau, 1998). In addition, poverty index has also been used to identify at-risk housing (Margulis, 1998). The current research aims to extend the literature by simultanously exploring the effect of deprivation index, quality rating, distance to station and nearby venue categories in predicting house price categories. \n",
    "    \n",
    "    - Candiate Independent Variable: Nearby Venue Categories, Index of Multiple Deprivation, Quality rating, Distance to Station\n",
    "    - Dependent Variable: Housing Price Categories\n",
    "    \n",
    "### Research Design:\n",
    "   1. Data Preparation:\n",
    "        -- Importing pre-existing datasets\n",
    "              - London housing price by ward code __ downloaded from public database\n",
    "              - London geographical coordinates _ downloaded from public database   \n",
    "        -- Data Wangling:\n",
    "              - Merge the three dataframe with the primary key: ward code \n",
    "              - Clean and simplify the dataset to reduce computation time\n",
    "        -- Exploratory Data Analysis:\n",
    "              - Explore the normality of target variable__ Housing Price and remove the outliers if there are any.\n",
    "              - Its association with three candidate feature variables\n",
    "                   1. Index of Multiple Deprivation\n",
    "                   2. Distance to Station\n",
    "                   3. Quality Rating\n",
    "              - Conduct normality test for variables that appear to be associated with the housing price value \n",
    "                  - modify the data accordingly based on its distribution plot\n",
    "              - Compute the correlation coefficient and its associated statistical significance\n",
    "         \n",
    "         -- Further data sourcing:\n",
    "              - Fetch venue category data for each geographical coordinate using Foursquare API\n",
    "         -- Further data wangling:\n",
    "              - Convert Housing Price into categorical variable (low, medium, high)\n",
    "              - Converting venue data into dummy variables using one-hot encoding \n",
    "    \n",
    "   2. Modelling \n",
    "        -- Further feature selection:\n",
    "            - apply Randomforest classifier to the entire dataset\n",
    "            - generate a dataframe containing all the feature variables with its associated feature importance value\n",
    "            - drop the features that failed to provide sufficient meaningful information\n",
    "        -- Find the best classification model\n",
    "            - apply Random Forest, K-Nearest Neighbors and Support Vector Machine using the selected feature variables\n",
    "            - compute the accuracy score of each mode\n",
    "            - select the one the highest accuracy score\n",
    "            \n",
    "   3. Results Interpretation and Discussion          \n",
    "   "
   ]
  },
  {
   "cell_type": "code",
   "execution_count": 2,
   "metadata": {},
   "outputs": [],
   "source": [
    "## Importing packages\n",
    "from geopy.geocoders import Nominatim \n",
    "import requests\n",
    "import json \n",
    "import pandas as pd\n",
    "import numpy as np\n"
   ]
  },
  {
   "cell_type": "markdown",
   "metadata": {},
   "source": [
    "## Importing datasets"
   ]
  },
  {
   "cell_type": "code",
   "execution_count": 3,
   "metadata": {
    "scrolled": false
   },
   "outputs": [],
   "source": [
    " geo_data=pd.read_csv('london_postcodes.csv')"
   ]
  },
  {
   "cell_type": "code",
   "execution_count": 4,
   "metadata": {},
   "outputs": [],
   "source": [
    "hp_data=pd.read_csv('london_house_price.csv')"
   ]
  },
  {
   "cell_type": "code",
   "execution_count": 194,
   "metadata": {},
   "outputs": [
    {
     "data": {
      "text/plain": [
       "606"
      ]
     },
     "execution_count": 194,
     "metadata": {},
     "output_type": "execute_result"
    }
   ],
   "source": [
    "len(hp_data.Ward_name.unique())"
   ]
  },
  {
   "cell_type": "code",
   "execution_count": 445,
   "metadata": {},
   "outputs": [
    {
     "data": {
      "text/plain": [
       "638"
      ]
     },
     "execution_count": 445,
     "metadata": {},
     "output_type": "execute_result"
    }
   ],
   "source": [
    "len(geo_data.Ward.unique())"
   ]
  },
  {
   "cell_type": "markdown",
   "metadata": {},
   "source": [
    "## Data Wangling"
   ]
  },
  {
   "cell_type": "code",
   "execution_count": 786,
   "metadata": {
    "scrolled": true
   },
   "outputs": [],
   "source": [
    "#selecting the cells within the relavent timeframe\n",
    "hp_data=hp_data[hp_data['Year']=='Year ending Dec 2017']\n",
    "#selecting the mean values\n",
    "hp_data=hp_data[hp_data['Measure']=='Mean']\n",
    "hp_data=hp_data[hp_data['Value']!='-']\n",
    "hp_data=hp_data.rename(columns={'Code':'RegionalCode'})"
   ]
  },
  {
   "cell_type": "code",
   "execution_count": 138,
   "metadata": {},
   "outputs": [
    {
     "data": {
      "text/plain": [
       "Series([], Name: Value, dtype: int64)"
      ]
     },
     "execution_count": 138,
     "metadata": {},
     "output_type": "execute_result"
    }
   ],
   "source": [
    "#checking for any unwanted duplicates in the code columns\n",
    "mask=hp_data.groupby('RegionalCode').count()['Value']!=1\n",
    "hp_data.groupby('RegionalCode').count()['Value'][mask]"
   ]
  },
  {
   "cell_type": "code",
   "execution_count": 824,
   "metadata": {},
   "outputs": [],
   "source": [
    "#selecting relevant columns in the london geo dataset, \n",
    "#the last three columns are treated as candidate feature variables\n",
    "filtered_geo=geo_data[['Latitude','Longitude','District','Ward','Ward Code','Distance to station','Index of Multiple Deprivation', 'Quality']]\n",
    "#renaming the code column for inner join\n",
    "filtered_geo=filtered_geo.rename(columns={'Ward Code':'RegionalCode'})"
   ]
  },
  {
   "cell_type": "code",
   "execution_count": 825,
   "metadata": {},
   "outputs": [],
   "source": [
    "#merging the two datasets using inner join\n",
    "merged_df=pd.merge(filtered_geo,\n",
    "         hp_data[['RegionalCode','Value']],\n",
    "         on='RegionalCode')"
   ]
  },
  {
   "cell_type": "code",
   "execution_count": 826,
   "metadata": {},
   "outputs": [
    {
     "data": {
      "text/plain": [
       "(273567, 9)"
      ]
     },
     "execution_count": 826,
     "metadata": {},
     "output_type": "execute_result"
    }
   ],
   "source": [
    "merged_df.shape"
   ]
  },
  {
   "cell_type": "markdown",
   "metadata": {},
   "source": [
    "The dataset seems quite lengthy. Let's see if there is anything we could do about it"
   ]
  },
  {
   "cell_type": "code",
   "execution_count": 797,
   "metadata": {
    "scrolled": true
   },
   "outputs": [
    {
     "data": {
      "text/html": [
       "<div>\n",
       "<style scoped>\n",
       "    .dataframe tbody tr th:only-of-type {\n",
       "        vertical-align: middle;\n",
       "    }\n",
       "\n",
       "    .dataframe tbody tr th {\n",
       "        vertical-align: top;\n",
       "    }\n",
       "\n",
       "    .dataframe thead th {\n",
       "        text-align: right;\n",
       "    }\n",
       "</style>\n",
       "<table border=\"1\" class=\"dataframe\">\n",
       "  <thead>\n",
       "    <tr style=\"text-align: right;\">\n",
       "      <th></th>\n",
       "      <th>Latitude</th>\n",
       "      <th>Longitude</th>\n",
       "      <th>District</th>\n",
       "      <th>Ward</th>\n",
       "      <th>RegionalCode</th>\n",
       "      <th>Distance to station</th>\n",
       "      <th>Index of Multiple Deprivation</th>\n",
       "      <th>Quality</th>\n",
       "      <th>Value</th>\n",
       "    </tr>\n",
       "  </thead>\n",
       "  <tbody>\n",
       "    <tr>\n",
       "      <th>0</th>\n",
       "      <td>51.401546</td>\n",
       "      <td>0.015415</td>\n",
       "      <td>Bromley</td>\n",
       "      <td>Bromley Town</td>\n",
       "      <td>E05000109</td>\n",
       "      <td>0.218257</td>\n",
       "      <td>20532</td>\n",
       "      <td>1</td>\n",
       "      <td>469,534</td>\n",
       "    </tr>\n",
       "    <tr>\n",
       "      <th>1</th>\n",
       "      <td>51.406333</td>\n",
       "      <td>0.015208</td>\n",
       "      <td>Bromley</td>\n",
       "      <td>Bromley Town</td>\n",
       "      <td>E05000109</td>\n",
       "      <td>0.253666</td>\n",
       "      <td>10169</td>\n",
       "      <td>1</td>\n",
       "      <td>469,534</td>\n",
       "    </tr>\n",
       "    <tr>\n",
       "      <th>2</th>\n",
       "      <td>51.400057</td>\n",
       "      <td>0.016715</td>\n",
       "      <td>Bromley</td>\n",
       "      <td>Bromley Town</td>\n",
       "      <td>E05000109</td>\n",
       "      <td>0.044559</td>\n",
       "      <td>20532</td>\n",
       "      <td>1</td>\n",
       "      <td>469,534</td>\n",
       "    </tr>\n",
       "    <tr>\n",
       "      <th>3</th>\n",
       "      <td>51.404543</td>\n",
       "      <td>0.014195</td>\n",
       "      <td>Bromley</td>\n",
       "      <td>Bromley Town</td>\n",
       "      <td>E05000109</td>\n",
       "      <td>0.462939</td>\n",
       "      <td>19350</td>\n",
       "      <td>1</td>\n",
       "      <td>469,534</td>\n",
       "    </tr>\n",
       "    <tr>\n",
       "      <th>4</th>\n",
       "      <td>51.401392</td>\n",
       "      <td>0.014948</td>\n",
       "      <td>Bromley</td>\n",
       "      <td>Bromley Town</td>\n",
       "      <td>E05000109</td>\n",
       "      <td>0.227664</td>\n",
       "      <td>20532</td>\n",
       "      <td>1</td>\n",
       "      <td>469,534</td>\n",
       "    </tr>\n",
       "  </tbody>\n",
       "</table>\n",
       "</div>"
      ],
      "text/plain": [
       "    Latitude  Longitude District          Ward RegionalCode  \\\n",
       "0  51.401546   0.015415  Bromley  Bromley Town    E05000109   \n",
       "1  51.406333   0.015208  Bromley  Bromley Town    E05000109   \n",
       "2  51.400057   0.016715  Bromley  Bromley Town    E05000109   \n",
       "3  51.404543   0.014195  Bromley  Bromley Town    E05000109   \n",
       "4  51.401392   0.014948  Bromley  Bromley Town    E05000109   \n",
       "\n",
       "   Distance to station  Index of Multiple Deprivation  Quality    Value  \n",
       "0             0.218257                          20532        1  469,534  \n",
       "1             0.253666                          10169        1  469,534  \n",
       "2             0.044559                          20532        1  469,534  \n",
       "3             0.462939                          19350        1  469,534  \n",
       "4             0.227664                          20532        1  469,534  "
      ]
     },
     "execution_count": 797,
     "metadata": {},
     "output_type": "execute_result"
    }
   ],
   "source": [
    "merged_df.head()"
   ]
  },
  {
   "cell_type": "markdown",
   "metadata": {},
   "source": [
    "It seems like the latitude and longitude values are very precise which narrow down wards into \n",
    "very specific areas, which to some extent, is a good thing. However, if these areas are too specific,as it might result in duplications when we fetch nearby venue data."
   ]
  },
  {
   "cell_type": "code",
   "execution_count": 802,
   "metadata": {},
   "outputs": [
    {
     "data": {
      "text/plain": [
       "81752"
      ]
     },
     "execution_count": 802,
     "metadata": {},
     "output_type": "execute_result"
    }
   ],
   "source": [
    "#Let's first shorten the dataframe by rounding the geo coordinates to 3 decimal places.\n",
    "merged_df_1=merged_df.round(3)\n",
    "len(merged_df_1.groupby(['Latitude','Longitude']).count())"
   ]
  },
  {
   "cell_type": "markdown",
   "metadata": {},
   "source": [
    "Although the dataframe is now shorter than the original one, we still have 81752 rows. This will result in significant computation time when we later use Foursquare API to fetch venue data for each row. Therefore, we shall try shortening it further by rounding up to 2 decimal places as this is also the standard format used in Foursquare API."
   ]
  },
  {
   "cell_type": "code",
   "execution_count": 792,
   "metadata": {},
   "outputs": [],
   "source": [
    "merged_df=merged_df.round(2)"
   ]
  },
  {
   "cell_type": "code",
   "execution_count": 793,
   "metadata": {},
   "outputs": [
    {
     "data": {
      "text/plain": [
       "1809"
      ]
     },
     "execution_count": 793,
     "metadata": {},
     "output_type": "execute_result"
    }
   ],
   "source": [
    "len(merged_df.groupby(['Latitude','Longitude']).count())\n",
    "#Now this is much shorter."
   ]
  },
  {
   "cell_type": "code",
   "execution_count": 197,
   "metadata": {},
   "outputs": [
    {
     "data": {
      "text/html": [
       "<div>\n",
       "<style scoped>\n",
       "    .dataframe tbody tr th:only-of-type {\n",
       "        vertical-align: middle;\n",
       "    }\n",
       "\n",
       "    .dataframe tbody tr th {\n",
       "        vertical-align: top;\n",
       "    }\n",
       "\n",
       "    .dataframe thead th {\n",
       "        text-align: right;\n",
       "    }\n",
       "</style>\n",
       "<table border=\"1\" class=\"dataframe\">\n",
       "  <thead>\n",
       "    <tr style=\"text-align: right;\">\n",
       "      <th></th>\n",
       "      <th>Latitude</th>\n",
       "      <th>Longitude</th>\n",
       "      <th>District</th>\n",
       "      <th>Ward</th>\n",
       "      <th>RegionalCode</th>\n",
       "      <th>Distance to station</th>\n",
       "      <th>Index of Multiple Deprivation</th>\n",
       "      <th>Quality</th>\n",
       "      <th>Value</th>\n",
       "    </tr>\n",
       "  </thead>\n",
       "  <tbody>\n",
       "    <tr>\n",
       "      <th>0</th>\n",
       "      <td>51.40</td>\n",
       "      <td>0.02</td>\n",
       "      <td>Bromley</td>\n",
       "      <td>Bromley Town</td>\n",
       "      <td>E05000109</td>\n",
       "      <td>0.22</td>\n",
       "      <td>20532</td>\n",
       "      <td>1</td>\n",
       "      <td>469534.0</td>\n",
       "    </tr>\n",
       "    <tr>\n",
       "      <th>1</th>\n",
       "      <td>51.41</td>\n",
       "      <td>0.02</td>\n",
       "      <td>Bromley</td>\n",
       "      <td>Bromley Town</td>\n",
       "      <td>E05000109</td>\n",
       "      <td>0.25</td>\n",
       "      <td>10169</td>\n",
       "      <td>1</td>\n",
       "      <td>469534.0</td>\n",
       "    </tr>\n",
       "    <tr>\n",
       "      <th>2</th>\n",
       "      <td>51.40</td>\n",
       "      <td>0.02</td>\n",
       "      <td>Bromley</td>\n",
       "      <td>Bromley Town</td>\n",
       "      <td>E05000109</td>\n",
       "      <td>0.04</td>\n",
       "      <td>20532</td>\n",
       "      <td>1</td>\n",
       "      <td>469534.0</td>\n",
       "    </tr>\n",
       "    <tr>\n",
       "      <th>3</th>\n",
       "      <td>51.40</td>\n",
       "      <td>0.01</td>\n",
       "      <td>Bromley</td>\n",
       "      <td>Bromley Town</td>\n",
       "      <td>E05000109</td>\n",
       "      <td>0.46</td>\n",
       "      <td>19350</td>\n",
       "      <td>1</td>\n",
       "      <td>469534.0</td>\n",
       "    </tr>\n",
       "    <tr>\n",
       "      <th>4</th>\n",
       "      <td>51.40</td>\n",
       "      <td>0.02</td>\n",
       "      <td>Bromley</td>\n",
       "      <td>Bromley Town</td>\n",
       "      <td>E05000109</td>\n",
       "      <td>0.23</td>\n",
       "      <td>20532</td>\n",
       "      <td>1</td>\n",
       "      <td>469534.0</td>\n",
       "    </tr>\n",
       "  </tbody>\n",
       "</table>\n",
       "</div>"
      ],
      "text/plain": [
       "   Latitude  Longitude District          Ward RegionalCode  \\\n",
       "0     51.40       0.02  Bromley  Bromley Town    E05000109   \n",
       "1     51.41       0.02  Bromley  Bromley Town    E05000109   \n",
       "2     51.40       0.02  Bromley  Bromley Town    E05000109   \n",
       "3     51.40       0.01  Bromley  Bromley Town    E05000109   \n",
       "4     51.40       0.02  Bromley  Bromley Town    E05000109   \n",
       "\n",
       "   Distance to station  Index of Multiple Deprivation  Quality     Value  \n",
       "0                 0.22                          20532        1  469534.0  \n",
       "1                 0.25                          10169        1  469534.0  \n",
       "2                 0.04                          20532        1  469534.0  \n",
       "3                 0.46                          19350        1  469534.0  \n",
       "4                 0.23                          20532        1  469534.0  "
      ]
     },
     "execution_count": 197,
     "metadata": {},
     "output_type": "execute_result"
    }
   ],
   "source": [
    "merged_df.head()"
   ]
  },
  {
   "cell_type": "code",
   "execution_count": 198,
   "metadata": {},
   "outputs": [],
   "source": [
    "#Removing the ',' and converting the price value into float\n",
    "merged_df['Value']=merged_df['Value'].replace(',','',regex=True).astype('float64')"
   ]
  },
  {
   "cell_type": "code",
   "execution_count": 199,
   "metadata": {},
   "outputs": [],
   "source": [
    "#identifying the unique price value for each coordinate\n",
    "grouped_df=merged_df.groupby(['Latitude','Longitude']).mean().reset_index()"
   ]
  },
  {
   "cell_type": "code",
   "execution_count": 200,
   "metadata": {},
   "outputs": [
    {
     "data": {
      "text/plain": [
       "(1810, 6)"
      ]
     },
     "execution_count": 200,
     "metadata": {},
     "output_type": "execute_result"
    }
   ],
   "source": [
    "grouped_df.shape"
   ]
  },
  {
   "cell_type": "code",
   "execution_count": 201,
   "metadata": {},
   "outputs": [],
   "source": [
    "RC=merged_df.groupby(['Latitude','Longitude'])['RegionalCode'].apply(lambda x: set(x.tolist()))\n"
   ]
  },
  {
   "cell_type": "code",
   "execution_count": null,
   "metadata": {},
   "outputs": [],
   "source": []
  },
  {
   "cell_type": "code",
   "execution_count": 202,
   "metadata": {},
   "outputs": [
    {
     "data": {
      "text/plain": [
       "1810"
      ]
     },
     "execution_count": 202,
     "metadata": {},
     "output_type": "execute_result"
    }
   ],
   "source": [
    "#converting set into list and selecting the first item in the list\n",
    "RC_list=[]\n",
    "for i in RC:\n",
    "    RC_list.append(list(i))\n",
    "\n",
    "Code=[]\n",
    "\n",
    "for i in range(len(RC_list)):\n",
    "    Code.append(RC_list[i][0])    \n",
    "\n",
    "len(Code)"
   ]
  },
  {
   "cell_type": "code",
   "execution_count": 203,
   "metadata": {},
   "outputs": [],
   "source": [
    "#appending the areacode to the grouped_df\n",
    "grouped_df['Code']=Code"
   ]
  },
  {
   "cell_type": "code",
   "execution_count": 204,
   "metadata": {},
   "outputs": [
    {
     "data": {
      "text/html": [
       "<div>\n",
       "<style scoped>\n",
       "    .dataframe tbody tr th:only-of-type {\n",
       "        vertical-align: middle;\n",
       "    }\n",
       "\n",
       "    .dataframe tbody tr th {\n",
       "        vertical-align: top;\n",
       "    }\n",
       "\n",
       "    .dataframe thead th {\n",
       "        text-align: right;\n",
       "    }\n",
       "</style>\n",
       "<table border=\"1\" class=\"dataframe\">\n",
       "  <thead>\n",
       "    <tr style=\"text-align: right;\">\n",
       "      <th></th>\n",
       "      <th>Latitude</th>\n",
       "      <th>Longitude</th>\n",
       "      <th>Distance to station</th>\n",
       "      <th>Index of Multiple Deprivation</th>\n",
       "      <th>Quality</th>\n",
       "      <th>Value</th>\n",
       "      <th>Code</th>\n",
       "    </tr>\n",
       "  </thead>\n",
       "  <tbody>\n",
       "    <tr>\n",
       "      <th>0</th>\n",
       "      <td>51.29</td>\n",
       "      <td>0.06</td>\n",
       "      <td>6.12000</td>\n",
       "      <td>19725.000000</td>\n",
       "      <td>1.000000</td>\n",
       "      <td>575544.000000</td>\n",
       "      <td>E05000117</td>\n",
       "    </tr>\n",
       "    <tr>\n",
       "      <th>1</th>\n",
       "      <td>51.29</td>\n",
       "      <td>0.07</td>\n",
       "      <td>6.74000</td>\n",
       "      <td>19725.000000</td>\n",
       "      <td>1.000000</td>\n",
       "      <td>575544.000000</td>\n",
       "      <td>E05000117</td>\n",
       "    </tr>\n",
       "    <tr>\n",
       "      <th>2</th>\n",
       "      <td>51.30</td>\n",
       "      <td>0.02</td>\n",
       "      <td>5.03625</td>\n",
       "      <td>23230.000000</td>\n",
       "      <td>1.875000</td>\n",
       "      <td>378844.000000</td>\n",
       "      <td>E05000107</td>\n",
       "    </tr>\n",
       "    <tr>\n",
       "      <th>3</th>\n",
       "      <td>51.30</td>\n",
       "      <td>0.03</td>\n",
       "      <td>5.18200</td>\n",
       "      <td>25924.000000</td>\n",
       "      <td>1.000000</td>\n",
       "      <td>378844.000000</td>\n",
       "      <td>E05000107</td>\n",
       "    </tr>\n",
       "    <tr>\n",
       "      <th>4</th>\n",
       "      <td>51.30</td>\n",
       "      <td>0.04</td>\n",
       "      <td>5.92000</td>\n",
       "      <td>20042.636364</td>\n",
       "      <td>2.272727</td>\n",
       "      <td>539780.363636</td>\n",
       "      <td>E05000107</td>\n",
       "    </tr>\n",
       "  </tbody>\n",
       "</table>\n",
       "</div>"
      ],
      "text/plain": [
       "   Latitude  Longitude  Distance to station  Index of Multiple Deprivation  \\\n",
       "0     51.29       0.06              6.12000                   19725.000000   \n",
       "1     51.29       0.07              6.74000                   19725.000000   \n",
       "2     51.30       0.02              5.03625                   23230.000000   \n",
       "3     51.30       0.03              5.18200                   25924.000000   \n",
       "4     51.30       0.04              5.92000                   20042.636364   \n",
       "\n",
       "    Quality          Value       Code  \n",
       "0  1.000000  575544.000000  E05000117  \n",
       "1  1.000000  575544.000000  E05000117  \n",
       "2  1.875000  378844.000000  E05000107  \n",
       "3  1.000000  378844.000000  E05000107  \n",
       "4  2.272727  539780.363636  E05000107  "
      ]
     },
     "execution_count": 204,
     "metadata": {},
     "output_type": "execute_result"
    }
   ],
   "source": [
    "grouped_df.head()"
   ]
  },
  {
   "cell_type": "code",
   "execution_count": 205,
   "metadata": {},
   "outputs": [
    {
     "data": {
      "text/plain": [
       "(1810, 7)"
      ]
     },
     "execution_count": 205,
     "metadata": {},
     "output_type": "execute_result"
    }
   ],
   "source": [
    "#checking if there is any null value\n",
    "grouped_df.dropna().shape"
   ]
  },
  {
   "cell_type": "markdown",
   "metadata": {},
   "source": [
    "Now we have merged and shortened the length of the housing price and london geo dataset. Before moving on to source venue data, we shall now carry out exploratory data analysis on the existing feature and target variables for feature selection."
   ]
  },
  {
   "cell_type": "markdown",
   "metadata": {},
   "source": [
    "### Exploratory Data Analysis"
   ]
  },
  {
   "cell_type": "markdown",
   "metadata": {},
   "source": [
    "Existing candidate feature variables: Distance to Station,Index of Multiple Deprivation, Quality Rating"
   ]
  },
  {
   "cell_type": "code",
   "execution_count": 206,
   "metadata": {},
   "outputs": [
    {
     "data": {
      "text/plain": [
       "count    1.810000e+03\n",
       "mean     5.761378e+05\n",
       "std      3.330070e+05\n",
       "min      2.599718e+05\n",
       "25%      3.927840e+05\n",
       "50%      5.046423e+05\n",
       "75%      6.288940e+05\n",
       "max      3.624164e+06\n",
       "Name: Value, dtype: float64"
      ]
     },
     "execution_count": 206,
     "metadata": {},
     "output_type": "execute_result"
    }
   ],
   "source": [
    "##Exploring price value\n",
    "\n",
    "#descriptive stats summary\n",
    "grouped_df['Value'].describe()"
   ]
  },
  {
   "cell_type": "code",
   "execution_count": 207,
   "metadata": {},
   "outputs": [],
   "source": [
    "import seaborn as sns\n",
    "from scipy.stats import norm\n",
    "from scipy import stats\n",
    "\n",
    "%matplotlib inline\n",
    "import matplotlib.pyplot as plt"
   ]
  },
  {
   "cell_type": "code",
   "execution_count": 212,
   "metadata": {},
   "outputs": [
    {
     "name": "stderr",
     "output_type": "stream",
     "text": [
      "C:\\Users\\helen\\AppData\\Local\\Continuum\\anaconda3\\lib\\site-packages\\matplotlib\\axes\\_axes.py:6462: UserWarning: The 'normed' kwarg is deprecated, and has been replaced by the 'density' kwarg.\n",
      "  warnings.warn(\"The 'normed' kwarg is deprecated, and has been \"\n"
     ]
    },
    {
     "data": {
      "image/png": "[encoded data removed]",
      "text/plain": [
       "<Figure size 432x288 with 1 Axes>"
      ]
     },
     "metadata": {},
     "output_type": "display_data"
    },
    {
     "data": {
      "image/png": "[encoded data removed]",
      "text/plain": [
       "<Figure size 432x288 with 1 Axes>"
      ]
     },
     "metadata": {},
     "output_type": "display_data"
    }
   ],
   "source": [
    "# histogram and normal probability plot\n",
    "sns.distplot(grouped_df['Value'],fit=norm)\n",
    "fig=plt.figure()\n",
    "res=stats.probplot(grouped_df['Value'],plot=plt)"
   ]
  },
  {
   "cell_type": "markdown",
   "metadata": {},
   "source": [
    "From the above distribution plot, we could see the price value deviate from normal distribution with positive skewness and high peakedness. Let's find out more about it."
   ]
  },
  {
   "cell_type": "code",
   "execution_count": 209,
   "metadata": {},
   "outputs": [
    {
     "name": "stdout",
     "output_type": "stream",
     "text": [
      "Skewness: 3.874237\n",
      "Kurtosis: 21.852947\n"
     ]
    }
   ],
   "source": [
    "\n",
    "print(\"Skewness: %f\" % grouped_df['Value'].skew())\n",
    "print(\"Kurtosis: %f\" % grouped_df['Value'].kurt())"
   ]
  },
  {
   "cell_type": "markdown",
   "metadata": {},
   "source": [
    "The skewness and kurtosis seems to be quite high. There are quite a few outliers above the 3000000 price point, let's see what we could do about it."
   ]
  },
  {
   "cell_type": "code",
   "execution_count": 219,
   "metadata": {},
   "outputs": [
    {
     "data": {
      "text/html": [
       "<div>\n",
       "<style scoped>\n",
       "    .dataframe tbody tr th:only-of-type {\n",
       "        vertical-align: middle;\n",
       "    }\n",
       "\n",
       "    .dataframe tbody tr th {\n",
       "        vertical-align: top;\n",
       "    }\n",
       "\n",
       "    .dataframe thead th {\n",
       "        text-align: right;\n",
       "    }\n",
       "</style>\n",
       "<table border=\"1\" class=\"dataframe\">\n",
       "  <thead>\n",
       "    <tr style=\"text-align: right;\">\n",
       "      <th></th>\n",
       "      <th>Latitude</th>\n",
       "      <th>Longitude</th>\n",
       "      <th>Distance to station</th>\n",
       "      <th>Index of Multiple Deprivation</th>\n",
       "      <th>Quality</th>\n",
       "      <th>Value</th>\n",
       "      <th>Code</th>\n",
       "    </tr>\n",
       "  </thead>\n",
       "  <tbody>\n",
       "    <tr>\n",
       "      <th>801</th>\n",
       "      <td>51.50</td>\n",
       "      <td>-0.17</td>\n",
       "      <td>0.500909</td>\n",
       "      <td>21629.630854</td>\n",
       "      <td>3.214876</td>\n",
       "      <td>3.624164e+06</td>\n",
       "      <td>E05009389</td>\n",
       "    </tr>\n",
       "    <tr>\n",
       "      <th>802</th>\n",
       "      <td>51.50</td>\n",
       "      <td>-0.16</td>\n",
       "      <td>0.331698</td>\n",
       "      <td>19357.174165</td>\n",
       "      <td>3.413643</td>\n",
       "      <td>3.547302e+06</td>\n",
       "      <td>E05009403</td>\n",
       "    </tr>\n",
       "    <tr>\n",
       "      <th>803</th>\n",
       "      <td>51.50</td>\n",
       "      <td>-0.15</td>\n",
       "      <td>0.306286</td>\n",
       "      <td>20728.318095</td>\n",
       "      <td>3.099048</td>\n",
       "      <td>3.514427e+06</td>\n",
       "      <td>E05000637</td>\n",
       "    </tr>\n",
       "    <tr>\n",
       "      <th>862</th>\n",
       "      <td>51.51</td>\n",
       "      <td>-0.15</td>\n",
       "      <td>0.333911</td>\n",
       "      <td>17880.248130</td>\n",
       "      <td>1.951787</td>\n",
       "      <td>3.035658e+06</td>\n",
       "      <td>E05000641</td>\n",
       "    </tr>\n",
       "    <tr>\n",
       "      <th>863</th>\n",
       "      <td>51.51</td>\n",
       "      <td>-0.14</td>\n",
       "      <td>0.296197</td>\n",
       "      <td>13070.137135</td>\n",
       "      <td>2.417059</td>\n",
       "      <td>2.921195e+06</td>\n",
       "      <td>E05000644</td>\n",
       "    </tr>\n",
       "  </tbody>\n",
       "</table>\n",
       "</div>"
      ],
      "text/plain": [
       "     Latitude  Longitude  Distance to station  Index of Multiple Deprivation  \\\n",
       "801     51.50      -0.17             0.500909                   21629.630854   \n",
       "802     51.50      -0.16             0.331698                   19357.174165   \n",
       "803     51.50      -0.15             0.306286                   20728.318095   \n",
       "862     51.51      -0.15             0.333911                   17880.248130   \n",
       "863     51.51      -0.14             0.296197                   13070.137135   \n",
       "\n",
       "      Quality         Value       Code  \n",
       "801  3.214876  3.624164e+06  E05009389  \n",
       "802  3.413643  3.547302e+06  E05009403  \n",
       "803  3.099048  3.514427e+06  E05000637  \n",
       "862  1.951787  3.035658e+06  E05000641  \n",
       "863  2.417059  2.921195e+06  E05000644  "
      ]
     },
     "execution_count": 219,
     "metadata": {},
     "output_type": "execute_result"
    }
   ],
   "source": [
    "\n",
    "grouped_df.sort_values(by='Value',ascending=False).head()"
   ]
  },
  {
   "cell_type": "code",
   "execution_count": 827,
   "metadata": {},
   "outputs": [],
   "source": [
    "#Dropping the four outliers\n",
    "filtered_df=grouped_df.drop(grouped_df[grouped_df['Value']>3000000].index)"
   ]
  },
  {
   "cell_type": "code",
   "execution_count": 828,
   "metadata": {},
   "outputs": [
    {
     "data": {
      "text/html": [
       "<div>\n",
       "<style scoped>\n",
       "    .dataframe tbody tr th:only-of-type {\n",
       "        vertical-align: middle;\n",
       "    }\n",
       "\n",
       "    .dataframe tbody tr th {\n",
       "        vertical-align: top;\n",
       "    }\n",
       "\n",
       "    .dataframe thead th {\n",
       "        text-align: right;\n",
       "    }\n",
       "</style>\n",
       "<table border=\"1\" class=\"dataframe\">\n",
       "  <thead>\n",
       "    <tr style=\"text-align: right;\">\n",
       "      <th></th>\n",
       "      <th>Latitude</th>\n",
       "      <th>Longitude</th>\n",
       "      <th>Distance to station</th>\n",
       "      <th>Index of Multiple Deprivation</th>\n",
       "      <th>Quality</th>\n",
       "      <th>Value</th>\n",
       "      <th>Code</th>\n",
       "    </tr>\n",
       "  </thead>\n",
       "  <tbody>\n",
       "    <tr>\n",
       "      <th>863</th>\n",
       "      <td>51.51</td>\n",
       "      <td>-0.14</td>\n",
       "      <td>0.296197</td>\n",
       "      <td>13070.137135</td>\n",
       "      <td>2.417059</td>\n",
       "      <td>2.921195e+06</td>\n",
       "      <td>E05000644</td>\n",
       "    </tr>\n",
       "    <tr>\n",
       "      <th>930</th>\n",
       "      <td>51.52</td>\n",
       "      <td>-0.15</td>\n",
       "      <td>0.386573</td>\n",
       "      <td>19523.701121</td>\n",
       "      <td>1.911703</td>\n",
       "      <td>2.860267e+06</td>\n",
       "      <td>E05000641</td>\n",
       "    </tr>\n",
       "    <tr>\n",
       "      <th>800</th>\n",
       "      <td>51.50</td>\n",
       "      <td>-0.18</td>\n",
       "      <td>0.419418</td>\n",
       "      <td>23232.576419</td>\n",
       "      <td>2.425036</td>\n",
       "      <td>2.803907e+06</td>\n",
       "      <td>E05009401</td>\n",
       "    </tr>\n",
       "    <tr>\n",
       "      <th>799</th>\n",
       "      <td>51.50</td>\n",
       "      <td>-0.19</td>\n",
       "      <td>0.307586</td>\n",
       "      <td>21810.589354</td>\n",
       "      <td>2.958175</td>\n",
       "      <td>2.658732e+06</td>\n",
       "      <td>E05009388</td>\n",
       "    </tr>\n",
       "    <tr>\n",
       "      <th>861</th>\n",
       "      <td>51.51</td>\n",
       "      <td>-0.16</td>\n",
       "      <td>0.262131</td>\n",
       "      <td>17749.051823</td>\n",
       "      <td>2.285988</td>\n",
       "      <td>2.632389e+06</td>\n",
       "      <td>E05000641</td>\n",
       "    </tr>\n",
       "  </tbody>\n",
       "</table>\n",
       "</div>"
      ],
      "text/plain": [
       "     Latitude  Longitude  Distance to station  Index of Multiple Deprivation  \\\n",
       "863     51.51      -0.14             0.296197                   13070.137135   \n",
       "930     51.52      -0.15             0.386573                   19523.701121   \n",
       "800     51.50      -0.18             0.419418                   23232.576419   \n",
       "799     51.50      -0.19             0.307586                   21810.589354   \n",
       "861     51.51      -0.16             0.262131                   17749.051823   \n",
       "\n",
       "      Quality         Value       Code  \n",
       "863  2.417059  2.921195e+06  E05000644  \n",
       "930  1.911703  2.860267e+06  E05000641  \n",
       "800  2.425036  2.803907e+06  E05009401  \n",
       "799  2.958175  2.658732e+06  E05009388  \n",
       "861  2.285988  2.632389e+06  E05000641  "
      ]
     },
     "execution_count": 828,
     "metadata": {},
     "output_type": "execute_result"
    }
   ],
   "source": [
    "#Checking if the outliers are dropped correctly\n",
    "filtered_df.sort_values(by='Value',ascending=False).head()"
   ]
  },
  {
   "cell_type": "code",
   "execution_count": 829,
   "metadata": {},
   "outputs": [
    {
     "name": "stderr",
     "output_type": "stream",
     "text": [
      "C:\\Users\\helen\\AppData\\Local\\Continuum\\anaconda3\\lib\\site-packages\\matplotlib\\axes\\_axes.py:6462: UserWarning: The 'normed' kwarg is deprecated, and has been replaced by the 'density' kwarg.\n",
      "  warnings.warn(\"The 'normed' kwarg is deprecated, and has been \"\n"
     ]
    },
    {
     "data": {
      "image/png": "[encoded data removed]",
      "text/plain": [
       "<Figure size 432x288 with 1 Axes>"
      ]
     },
     "metadata": {},
     "output_type": "display_data"
    },
    {
     "data": {
      "image/png": "[encoded data removed]",
      "text/plain": [
       "<Figure size 432x288 with 1 Axes>"
      ]
     },
     "metadata": {},
     "output_type": "display_data"
    }
   ],
   "source": [
    "#plotting the distribution again\n",
    "\n",
    "sns.distplot(filtered_df['Value'],fit=norm)\n",
    "fig=plt.figure()\n",
    "res=stats.probplot(filtered_df['Value'],plot=plt)"
   ]
  },
  {
   "cell_type": "code",
   "execution_count": 830,
   "metadata": {},
   "outputs": [
    {
     "name": "stderr",
     "output_type": "stream",
     "text": [
      "C:\\Users\\helen\\AppData\\Local\\Continuum\\anaconda3\\lib\\site-packages\\matplotlib\\axes\\_axes.py:6462: UserWarning: The 'normed' kwarg is deprecated, and has been replaced by the 'density' kwarg.\n",
      "  warnings.warn(\"The 'normed' kwarg is deprecated, and has been \"\n"
     ]
    },
    {
     "data": {
      "image/png": "[encoded data removed]",
      "text/plain": [
       "<Figure size 432x288 with 1 Axes>"
      ]
     },
     "metadata": {},
     "output_type": "display_data"
    },
    {
     "data": {
      "image/png": "[encoded data removed]",
      "text/plain": [
       "<Figure size 432x288 with 1 Axes>"
      ]
     },
     "metadata": {},
     "output_type": "display_data"
    }
   ],
   "source": [
    "#Before removing any more outliers,let's check the logtransfomred plot\n",
    "transformed_price=np.log(filtered_df['Value'])\n",
    "sns.distplot(transformed_price,fit=norm)\n",
    "fig=plt.figure()\n",
    "res=stats.probplot(transformed_price,plot=plt)"
   ]
  },
  {
   "cell_type": "markdown",
   "metadata": {},
   "source": [
    "Despite the relatively poor fit at the outer range,the distribution now looks a lot similar to the normal probability plot compared to the initial plot. We shall leave it for now as we might loose some important information if we remove too many outer range values. \n",
    "\n",
    "We shall now move on to examine our candidate features."
   ]
  },
  {
   "cell_type": "code",
   "execution_count": 831,
   "metadata": {},
   "outputs": [
    {
     "data": {
      "text/plain": [
       "<matplotlib.axes._subplots.AxesSubplot at 0x1eccdf68b00>"
      ]
     },
     "execution_count": 831,
     "metadata": {},
     "output_type": "execute_result"
    },
    {
     "data": {
      "image/png": "[encoded data removed]",
      "text/plain": [
       "<Figure size 432x288 with 1 Axes>"
      ]
     },
     "metadata": {},
     "output_type": "display_data"
    }
   ],
   "source": [
    "##Examining our first variable：Distance to Station\n",
    "var='Distance to station'\n",
    "data=pd.concat([transformed_price,np.log(filtered_df[var])],axis=1)\n",
    "data.plot.scatter(x=var,y='Value')"
   ]
  },
  {
   "cell_type": "markdown",
   "metadata": {},
   "source": [
    "Seems like our first candidate variable is not associated with the housing price, we shall exclude it from our model."
   ]
  },
  {
   "cell_type": "code",
   "execution_count": 832,
   "metadata": {},
   "outputs": [
    {
     "data": {
      "text/plain": [
       "<matplotlib.axes._subplots.AxesSubplot at 0x1ecc49c37f0>"
      ]
     },
     "execution_count": 832,
     "metadata": {},
     "output_type": "execute_result"
    },
    {
     "data": {
      "image/png": "[encoded data removed]",
      "text/plain": [
       "<Figure size 432x288 with 1 Axes>"
      ]
     },
     "metadata": {},
     "output_type": "display_data"
    }
   ],
   "source": [
    "##Examining the second variable：Index of Multiple Deprivation\n",
    "var='Index of Multiple Deprivation'\n",
    "data=pd.concat([transformed_price,filtered_df[var]],axis=1)\n",
    "data.plot.scatter(x=var,y='Value')"
   ]
  },
  {
   "cell_type": "markdown",
   "metadata": {},
   "source": [
    "Interesting, the second feature variable does appear to be somewhat positively associated with the price value. However, the slope appears to be quite flat, it is possible that they are only weakly associated. Let's examine this variable in more details."
   ]
  },
  {
   "cell_type": "code",
   "execution_count": 833,
   "metadata": {},
   "outputs": [
    {
     "name": "stderr",
     "output_type": "stream",
     "text": [
      "C:\\Users\\helen\\AppData\\Local\\Continuum\\anaconda3\\lib\\site-packages\\matplotlib\\axes\\_axes.py:6462: UserWarning: The 'normed' kwarg is deprecated, and has been replaced by the 'density' kwarg.\n",
      "  warnings.warn(\"The 'normed' kwarg is deprecated, and has been \"\n"
     ]
    },
    {
     "data": {
      "image/png": "[encoded data removed]",
      "text/plain": [
       "<Figure size 432x288 with 1 Axes>"
      ]
     },
     "metadata": {},
     "output_type": "display_data"
    },
    {
     "data": {
      "image/png": "[encoded data removed]",
      "text/plain": [
       "<Figure size 432x288 with 1 Axes>"
      ]
     },
     "metadata": {},
     "output_type": "display_data"
    }
   ],
   "source": [
    "#Distribution Plot of the multiple index of deprivation\n",
    "sns.distplot(filtered_df[var],fit=norm)\n",
    "fig=plt.figure()\n",
    "res=stats.probplot(filtered_df[var],plot=plt)"
   ]
  },
  {
   "cell_type": "code",
   "execution_count": 834,
   "metadata": {},
   "outputs": [
    {
     "name": "stdout",
     "output_type": "stream",
     "text": [
      "Skewness: 0.231209\n",
      "Kurtosis: -1.039848\n"
     ]
    }
   ],
   "source": [
    "\n",
    "print(\"Skewness: %f\" % filtered_df['Index of Multiple Deprivation'].skew())\n",
    "print(\"Kurtosis: %f\" % filtered_df['Index of Multiple Deprivation'].kurt())"
   ]
  },
  {
   "cell_type": "markdown",
   "metadata": {},
   "source": [
    "From the distribution plot, we could see both tails (low end:below 5000; high end: above 30000) of the distribution have contributed to the poor fit. "
   ]
  },
  {
   "cell_type": "code",
   "execution_count": 836,
   "metadata": {},
   "outputs": [
    {
     "data": {
      "text/plain": [
       "1610    32217.000000\n",
       "74      32118.466667\n",
       "1342    32089.000000\n",
       "1201    31878.904762\n",
       "325     31499.477273\n",
       "222     31418.400000\n",
       "223     31103.194030\n",
       "1343    31087.750000\n",
       "1552    30993.000000\n",
       "90      30987.242424\n",
       "203     30976.810345\n",
       "231     30918.445545\n",
       "1422    30891.093750\n",
       "75      30847.388889\n",
       "1281    30817.941176\n",
       "185     30787.000000\n",
       "51      30781.478261\n",
       "1275    30751.875000\n",
       "1200    30747.180328\n",
       "50      30706.750000\n",
       "Name: Index of Multiple Deprivation, dtype: float64"
      ]
     },
     "execution_count": 836,
     "metadata": {},
     "output_type": "execute_result"
    }
   ],
   "source": [
    "#We can see that most of the values at the higher end are indeed around 30000. \n",
    "#For the higher end, we shall set the outliers threshold at 30000.\n",
    "filtered_df[var].sort_values(ascending=False).head(20)"
   ]
  },
  {
   "cell_type": "code",
   "execution_count": 837,
   "metadata": {},
   "outputs": [],
   "source": [
    "#dropping the upper outliers\n",
    "filtered_df=filtered_df.drop(filtered_df[filtered_df['Index of Multiple Deprivation']>30000].index)"
   ]
  },
  {
   "cell_type": "code",
   "execution_count": 838,
   "metadata": {},
   "outputs": [
    {
     "data": {
      "text/plain": [
       "1521    1724.333333\n",
       "1586    2386.931034\n",
       "1690    2438.500000\n",
       "282     2453.000000\n",
       "237     2453.000000\n",
       "Name: Index of Multiple Deprivation, dtype: float64"
      ]
     },
     "execution_count": 838,
     "metadata": {},
     "output_type": "execute_result"
    }
   ],
   "source": [
    "#From here we could see there are quite a few under 3000 values and it ranges from 1724.3.\n",
    "#To avoid missing important information, \n",
    "#we will adopt a more conservative threshold (under 3000) for lower outliers .\n",
    "filtered_df[var].sort_values(ascending=True).head()"
   ]
  },
  {
   "cell_type": "code",
   "execution_count": 839,
   "metadata": {},
   "outputs": [],
   "source": [
    "#dropping the lower outliers\n",
    "filtered_df=filtered_df.drop(filtered_df[filtered_df['Index of Multiple Deprivation']<3000].index)"
   ]
  },
  {
   "cell_type": "code",
   "execution_count": null,
   "metadata": {},
   "outputs": [],
   "source": []
  },
  {
   "cell_type": "code",
   "execution_count": 245,
   "metadata": {},
   "outputs": [],
   "source": [
    "#We shall remove them now.\n",
    "#filtered_df=filtered_df.drop(filtered_df[np.log(filtered_df['Index of Multiple Deprivation'])==0].index)"
   ]
  },
  {
   "cell_type": "code",
   "execution_count": 252,
   "metadata": {},
   "outputs": [
    {
     "data": {
      "text/html": [
       "<div>\n",
       "<style scoped>\n",
       "    .dataframe tbody tr th:only-of-type {\n",
       "        vertical-align: middle;\n",
       "    }\n",
       "\n",
       "    .dataframe tbody tr th {\n",
       "        vertical-align: top;\n",
       "    }\n",
       "\n",
       "    .dataframe thead th {\n",
       "        text-align: right;\n",
       "    }\n",
       "</style>\n",
       "<table border=\"1\" class=\"dataframe\">\n",
       "  <thead>\n",
       "    <tr style=\"text-align: right;\">\n",
       "      <th></th>\n",
       "      <th>Latitude</th>\n",
       "      <th>Longitude</th>\n",
       "      <th>Distance to station</th>\n",
       "      <th>Index of Multiple Deprivation</th>\n",
       "      <th>Quality</th>\n",
       "      <th>Value</th>\n",
       "      <th>Code</th>\n",
       "    </tr>\n",
       "  </thead>\n",
       "  <tbody>\n",
       "  </tbody>\n",
       "</table>\n",
       "</div>"
      ],
      "text/plain": [
       "Empty DataFrame\n",
       "Columns: [Latitude, Longitude, Distance to station, Index of Multiple Deprivation, Quality, Value, Code]\n",
       "Index: []"
      ]
     },
     "execution_count": 252,
     "metadata": {},
     "output_type": "execute_result"
    }
   ],
   "source": [
    "#Checking if we have dropped the 0 successfully\n",
    "#filtered_df[np.log(filtered_df['Index of Multiple Deprivation'])==0]"
   ]
  },
  {
   "cell_type": "code",
   "execution_count": 841,
   "metadata": {},
   "outputs": [
    {
     "name": "stdout",
     "output_type": "stream",
     "text": [
      "Skewness: 0.216058\n",
      "Kurtosis: -1.088509\n"
     ]
    },
    {
     "name": "stderr",
     "output_type": "stream",
     "text": [
      "C:\\Users\\helen\\AppData\\Local\\Continuum\\anaconda3\\lib\\site-packages\\matplotlib\\axes\\_axes.py:6462: UserWarning: The 'normed' kwarg is deprecated, and has been replaced by the 'density' kwarg.\n",
      "  warnings.warn(\"The 'normed' kwarg is deprecated, and has been \"\n"
     ]
    },
    {
     "data": {
      "image/png": "[encoded data removed]",
      "text/plain": [
       "<Figure size 432x288 with 1 Axes>"
      ]
     },
     "metadata": {},
     "output_type": "display_data"
    },
    {
     "data": {
      "image/png": "[encoded data removed]",
      "text/plain": [
       "<Figure size 432x288 with 1 Axes>"
      ]
     },
     "metadata": {},
     "output_type": "display_data"
    }
   ],
   "source": [
    "#Now let's have a look at the distribution again\n",
    "\n",
    "sns.distplot(filtered_df['Index of Multiple Deprivation'], fit=norm)\n",
    "fig=plt.figure()\n",
    "stats.probplot(filtered_df['Index of Multiple Deprivation'], plot=plt)\n",
    "\n",
    "\n",
    "print(\"Skewness: %f\" % filtered_df['Index of Multiple Deprivation'].skew())\n",
    "print(\"Kurtosis: %f\" % filtered_df['Index of Multiple Deprivation'].kurt())"
   ]
  },
  {
   "cell_type": "markdown",
   "metadata": {},
   "source": [
    "Although removing outliers did slightly reduce the skewness, the fit is still relatively poor at the end. However, before removing any more data, we shall examine the distribution again with log-transformed data."
   ]
  },
  {
   "cell_type": "code",
   "execution_count": null,
   "metadata": {},
   "outputs": [],
   "source": []
  },
  {
   "cell_type": "code",
   "execution_count": 856,
   "metadata": {},
   "outputs": [
    {
     "name": "stdout",
     "output_type": "stream",
     "text": [
      "Skewness: -0.669634\n",
      "Kurtosis: -0.288680\n"
     ]
    },
    {
     "name": "stderr",
     "output_type": "stream",
     "text": [
      "C:\\Users\\helen\\AppData\\Local\\Continuum\\anaconda3\\lib\\site-packages\\matplotlib\\axes\\_axes.py:6462: UserWarning: The 'normed' kwarg is deprecated, and has been replaced by the 'density' kwarg.\n",
      "  warnings.warn(\"The 'normed' kwarg is deprecated, and has been \"\n"
     ]
    },
    {
     "data": {
      "image/png": "[encoded data removed]",
      "text/plain": [
       "<Figure size 432x288 with 1 Axes>"
      ]
     },
     "metadata": {},
     "output_type": "display_data"
    },
    {
     "data": {
      "image/png": "[encoded data removed]",
      "text/plain": [
       "<Figure size 432x288 with 1 Axes>"
      ]
     },
     "metadata": {},
     "output_type": "display_data"
    }
   ],
   "source": [
    "log_index=np.log(filtered_df['Index of Multiple Deprivation'])\n",
    "sns.distplot(log_index, fit=norm)\n",
    "fig=plt.figure()\n",
    "stats.probplot(log_index, plot=plt)\n",
    "\n",
    "\n",
    "print(\"Skewness: %f\" % np.log(log_index).skew())\n",
    "print(\"Kurtosis: %f\" % np.log(log_index).kurt())"
   ]
  },
  {
   "cell_type": "code",
   "execution_count": 871,
   "metadata": {},
   "outputs": [
    {
     "data": {
      "text/html": [
       "<div>\n",
       "<style scoped>\n",
       "    .dataframe tbody tr th:only-of-type {\n",
       "        vertical-align: middle;\n",
       "    }\n",
       "\n",
       "    .dataframe tbody tr th {\n",
       "        vertical-align: top;\n",
       "    }\n",
       "\n",
       "    .dataframe thead th {\n",
       "        text-align: right;\n",
       "    }\n",
       "</style>\n",
       "<table border=\"1\" class=\"dataframe\">\n",
       "  <thead>\n",
       "    <tr style=\"text-align: right;\">\n",
       "      <th></th>\n",
       "      <th>Latitude</th>\n",
       "      <th>Longitude</th>\n",
       "      <th>Distance to station</th>\n",
       "      <th>Index of Multiple Deprivation</th>\n",
       "      <th>Quality</th>\n",
       "      <th>Value</th>\n",
       "      <th>Code</th>\n",
       "    </tr>\n",
       "  </thead>\n",
       "  <tbody>\n",
       "    <tr>\n",
       "      <th>0</th>\n",
       "      <td>51.29</td>\n",
       "      <td>0.06</td>\n",
       "      <td>6.12000</td>\n",
       "      <td>19725.000000</td>\n",
       "      <td>1.000000</td>\n",
       "      <td>575544.000000</td>\n",
       "      <td>E05000117</td>\n",
       "    </tr>\n",
       "    <tr>\n",
       "      <th>1</th>\n",
       "      <td>51.29</td>\n",
       "      <td>0.07</td>\n",
       "      <td>6.74000</td>\n",
       "      <td>19725.000000</td>\n",
       "      <td>1.000000</td>\n",
       "      <td>575544.000000</td>\n",
       "      <td>E05000117</td>\n",
       "    </tr>\n",
       "    <tr>\n",
       "      <th>2</th>\n",
       "      <td>51.30</td>\n",
       "      <td>0.02</td>\n",
       "      <td>5.03625</td>\n",
       "      <td>23230.000000</td>\n",
       "      <td>1.875000</td>\n",
       "      <td>378844.000000</td>\n",
       "      <td>E05000107</td>\n",
       "    </tr>\n",
       "    <tr>\n",
       "      <th>3</th>\n",
       "      <td>51.30</td>\n",
       "      <td>0.03</td>\n",
       "      <td>5.18200</td>\n",
       "      <td>25924.000000</td>\n",
       "      <td>1.000000</td>\n",
       "      <td>378844.000000</td>\n",
       "      <td>E05000107</td>\n",
       "    </tr>\n",
       "    <tr>\n",
       "      <th>4</th>\n",
       "      <td>51.30</td>\n",
       "      <td>0.04</td>\n",
       "      <td>5.92000</td>\n",
       "      <td>20042.636364</td>\n",
       "      <td>2.272727</td>\n",
       "      <td>539780.363636</td>\n",
       "      <td>E05000107</td>\n",
       "    </tr>\n",
       "  </tbody>\n",
       "</table>\n",
       "</div>"
      ],
      "text/plain": [
       "   Latitude  Longitude  Distance to station  Index of Multiple Deprivation  \\\n",
       "0     51.29       0.06              6.12000                   19725.000000   \n",
       "1     51.29       0.07              6.74000                   19725.000000   \n",
       "2     51.30       0.02              5.03625                   23230.000000   \n",
       "3     51.30       0.03              5.18200                   25924.000000   \n",
       "4     51.30       0.04              5.92000                   20042.636364   \n",
       "\n",
       "    Quality          Value       Code  \n",
       "0  1.000000  575544.000000  E05000117  \n",
       "1  1.000000  575544.000000  E05000117  \n",
       "2  1.875000  378844.000000  E05000107  \n",
       "3  1.000000  378844.000000  E05000107  \n",
       "4  2.272727  539780.363636  E05000107  "
      ]
     },
     "execution_count": 871,
     "metadata": {},
     "output_type": "execute_result"
    }
   ],
   "source": [
    "filtered_df.head()"
   ]
  },
  {
   "cell_type": "markdown",
   "metadata": {},
   "source": [
    "It does fit the normal distribution better now but the upper range is a bit off. We shall not remove any outliers for now.\n",
    "Let's examine its association with price value again."
   ]
  },
  {
   "cell_type": "code",
   "execution_count": 875,
   "metadata": {},
   "outputs": [
    {
     "data": {
      "text/plain": [
       "<matplotlib.axes._subplots.AxesSubplot at 0x1ece62392b0>"
      ]
     },
     "execution_count": 875,
     "metadata": {},
     "output_type": "execute_result"
    },
    {
     "data": {
      "image/png": "[encoded data removed]",
      "text/plain": [
       "<Figure size 432x288 with 1 Axes>"
      ]
     },
     "metadata": {},
     "output_type": "display_data"
    }
   ],
   "source": [
    "\n",
    "data=pd.concat([np.log(filtered_df['Index of Multiple Deprivation']), np.log(filtered_df['Value'])],axis=1)\n",
    "data.plot.scatter(x='Index of Multiple Deprivation',y='Value')"
   ]
  },
  {
   "cell_type": "code",
   "execution_count": 864,
   "metadata": {},
   "outputs": [
    {
     "data": {
      "text/plain": [
       "LinregressResult(slope=0.26248303477142465, intercept=10.660311630284452, rvalue=0.3542345070238794, pvalue=1.1731932992157074e-52, stderr=0.016611930473209174)"
      ]
     },
     "execution_count": 864,
     "metadata": {},
     "output_type": "execute_result"
    }
   ],
   "source": [
    "from scipy.stats import linregress\n",
    "linregress(log_index, np.log(filtered_df['Value']))"
   ]
  },
  {
   "cell_type": "markdown",
   "metadata": {},
   "source": [
    "From the results above, we could see the deprivation index is indeed significantly and positively correlated with the price value. Therefore, we will keep it as our feature variable."
   ]
  },
  {
   "cell_type": "code",
   "execution_count": 876,
   "metadata": {},
   "outputs": [
    {
     "data": {
      "text/plain": [
       "<matplotlib.axes._subplots.AxesSubplot at 0x1eccb3e7c50>"
      ]
     },
     "execution_count": 876,
     "metadata": {},
     "output_type": "execute_result"
    },
    {
     "data": {
      "image/png": "[encoded data removed]",
      "text/plain": [
       "<Figure size 432x288 with 1 Axes>"
      ]
     },
     "metadata": {},
     "output_type": "display_data"
    }
   ],
   "source": [
    "#Now move on the third candidate variable:Quality rating\n",
    "var='Quality'\n",
    "data=pd.concat([transformed_price,np.log(filtered_df[var])],axis=1)\n",
    "data.plot.scatter(x=var,y='Value')"
   ]
  },
  {
   "cell_type": "markdown",
   "metadata": {},
   "source": [
    "As shown above, the quality rating failed to provide any meaningful information about the price value, therefore, it will not be included in the modelling stage. Taken together, among the three candiate variables, only the depreivation index is retained as the feature variable. We shall now move on to source venue data using Foursquare API."
   ]
  },
  {
   "cell_type": "code",
   "execution_count": 317,
   "metadata": {},
   "outputs": [],
   "source": [
    "def getNearbyVenues(area_code,price,deprivation_index,latitude,longitude,radius=500):\n",
    "    \n",
    "    venues_list=[]\n",
    "    for area_code,price,index,lat, lng in zip(area_code,price,deprivation_index,latitude,longitude):\n",
    "            \n",
    "        # create the API request URL\n",
    "        url = 'https://api.foursquare.com/v2/venues/explore?&client_id={}&client_secret={}&v={}&ll={},{}&radius={}&limit={}'.format(\n",
    "            CLIENT_ID, \n",
    "            CLIENT_SECRET, \n",
    "            VERSION, \n",
    "            lat, \n",
    "            lng, \n",
    "            radius, \n",
    "            LIMIT)\n",
    "            \n",
    "        # make the GET request\n",
    "        for i in range(3):\n",
    "            response = requests.get(url).json()['response']\n",
    "            \n",
    "            if response.get('groups'):\n",
    "                results = response['groups'][0]['items']\n",
    "                break\n",
    "                \n",
    "            print('repeating')\n",
    "            \n",
    "        if not response.get('groups'):\n",
    "            continue\n",
    "                \n",
    "        venues_list.append([(\n",
    "            area_code,\n",
    "            price,\n",
    "            index,\n",
    "            lat, \n",
    "            lng, \n",
    "            v['venue']['name'],\n",
    "            v['venue']['id'],\n",
    "            v['venue']['location']['lat'], \n",
    "            v['venue']['location']['lng'],\n",
    "            v['venue']['categories'][0]['name']) for v in results])\n",
    "\n",
    "    nearby_venues = pd.DataFrame([item for venue_list in venues_list for item in venue_list])\n",
    "    nearby_venues.columns = [ \n",
    "                  'Code',\n",
    "                  'Price',\n",
    "                  'Deprivation_index',\n",
    "                  'District Latitude', \n",
    "                  'District Longitude',\n",
    "                  'Venue',\n",
    "                  'Venue ID', \n",
    "                  'Venue Latitude', \n",
    "                  'Venue Longitude', \n",
    "                  'Venue Category']\n",
    "    \n",
    "    return(nearby_venues)\n",
    "\n"
   ]
  },
  {
   "cell_type": "code",
   "execution_count": 318,
   "metadata": {},
   "outputs": [],
   "source": [
    "\n",
    "\n",
    "    \n",
    "CLIENT_ID='JRMAOQ23QH2AR2G01QNCFARI5IKTISMVT2PHM3D0DXKGHF5N'\n",
    "CLIENT_SECRET='M1P2CGJKPR0J1N1GMUV0P5CH1BGLFD3SHIPP4YTOFQ4NTATE'\n",
    "VERSION = '20190128'\n",
    "LIMIT=100\n",
    "\n",
    "    "
   ]
  },
  {
   "cell_type": "code",
   "execution_count": 877,
   "metadata": {},
   "outputs": [
    {
     "name": "stdout",
     "output_type": "stream",
     "text": [
      "repeating\n"
     ]
    }
   ],
   "source": [
    "London_venues=getNearbyVenues(area_code=filtered_df['Code'],\n",
    "                              price=np.log(filtered_df['Value']),\n",
    "                              deprivation_index=np.log(filtered_df['Index of Multiple Deprivation']),\n",
    "                              latitude=filtered_df['Latitude'],\n",
    "                              longitude=filtered_df['Longitude'])\n",
    "\n"
   ]
  },
  {
   "cell_type": "code",
   "execution_count": 950,
   "metadata": {},
   "outputs": [
    {
     "data": {
      "text/html": [
       "<div>\n",
       "<style scoped>\n",
       "    .dataframe tbody tr th:only-of-type {\n",
       "        vertical-align: middle;\n",
       "    }\n",
       "\n",
       "    .dataframe tbody tr th {\n",
       "        vertical-align: top;\n",
       "    }\n",
       "\n",
       "    .dataframe thead th {\n",
       "        text-align: right;\n",
       "    }\n",
       "</style>\n",
       "<table border=\"1\" class=\"dataframe\">\n",
       "  <thead>\n",
       "    <tr style=\"text-align: right;\">\n",
       "      <th></th>\n",
       "      <th>Code</th>\n",
       "      <th>Price</th>\n",
       "      <th>Deprivation_index</th>\n",
       "      <th>District Latitude</th>\n",
       "      <th>District Longitude</th>\n",
       "      <th>Venue</th>\n",
       "      <th>Venue ID</th>\n",
       "      <th>Venue Latitude</th>\n",
       "      <th>Venue Longitude</th>\n",
       "      <th>Venue Category</th>\n",
       "    </tr>\n",
       "  </thead>\n",
       "  <tbody>\n",
       "    <tr>\n",
       "      <th>0</th>\n",
       "      <td>E05000117</td>\n",
       "      <td>13.263071</td>\n",
       "      <td>9.889642</td>\n",
       "      <td>51.29</td>\n",
       "      <td>0.06</td>\n",
       "      <td>Shampan At The Spinning Wheel</td>\n",
       "      <td>4edb85d6e300851bfad7955e</td>\n",
       "      <td>51.292974</td>\n",
       "      <td>0.056939</td>\n",
       "      <td>Indian Restaurant</td>\n",
       "    </tr>\n",
       "    <tr>\n",
       "      <th>1</th>\n",
       "      <td>E05000117</td>\n",
       "      <td>13.263071</td>\n",
       "      <td>9.889642</td>\n",
       "      <td>51.29</td>\n",
       "      <td>0.06</td>\n",
       "      <td>Westerham Heights</td>\n",
       "      <td>59b435445a2c9107744a89d2</td>\n",
       "      <td>51.289698</td>\n",
       "      <td>0.057968</td>\n",
       "      <td>Scenic Lookout</td>\n",
       "    </tr>\n",
       "    <tr>\n",
       "      <th>2</th>\n",
       "      <td>E05000117</td>\n",
       "      <td>13.263071</td>\n",
       "      <td>9.889642</td>\n",
       "      <td>51.29</td>\n",
       "      <td>0.06</td>\n",
       "      <td>Biggin Hill Saddlery &amp; Gun Room</td>\n",
       "      <td>5308c801498ebfb5ae1d784d</td>\n",
       "      <td>51.288883</td>\n",
       "      <td>0.058852</td>\n",
       "      <td>Gun Shop</td>\n",
       "    </tr>\n",
       "    <tr>\n",
       "      <th>3</th>\n",
       "      <td>E05000117</td>\n",
       "      <td>13.263071</td>\n",
       "      <td>9.889642</td>\n",
       "      <td>51.29</td>\n",
       "      <td>0.06</td>\n",
       "      <td>The Old Farmhouse</td>\n",
       "      <td>4e5d56d0d164ced553f6f6f6</td>\n",
       "      <td>51.293183</td>\n",
       "      <td>0.056939</td>\n",
       "      <td>Bed &amp; Breakfast</td>\n",
       "    </tr>\n",
       "    <tr>\n",
       "      <th>4</th>\n",
       "      <td>E05000107</td>\n",
       "      <td>12.844880</td>\n",
       "      <td>10.053200</td>\n",
       "      <td>51.30</td>\n",
       "      <td>0.02</td>\n",
       "      <td>Pinky &amp; Perky Manor</td>\n",
       "      <td>5843fe72d0bb3e5513d37dd9</td>\n",
       "      <td>51.303328</td>\n",
       "      <td>0.018773</td>\n",
       "      <td>Pizza Place</td>\n",
       "    </tr>\n",
       "  </tbody>\n",
       "</table>\n",
       "</div>"
      ],
      "text/plain": [
       "        Code      Price  Deprivation_index  District Latitude  \\\n",
       "0  E05000117  13.263071           9.889642              51.29   \n",
       "1  E05000117  13.263071           9.889642              51.29   \n",
       "2  E05000117  13.263071           9.889642              51.29   \n",
       "3  E05000117  13.263071           9.889642              51.29   \n",
       "4  E05000107  12.844880          10.053200              51.30   \n",
       "\n",
       "   District Longitude                            Venue  \\\n",
       "0                0.06    Shampan At The Spinning Wheel   \n",
       "1                0.06                Westerham Heights   \n",
       "2                0.06  Biggin Hill Saddlery & Gun Room   \n",
       "3                0.06                The Old Farmhouse   \n",
       "4                0.02              Pinky & Perky Manor   \n",
       "\n",
       "                   Venue ID  Venue Latitude  Venue Longitude  \\\n",
       "0  4edb85d6e300851bfad7955e       51.292974         0.056939   \n",
       "1  59b435445a2c9107744a89d2       51.289698         0.057968   \n",
       "2  5308c801498ebfb5ae1d784d       51.288883         0.058852   \n",
       "3  4e5d56d0d164ced553f6f6f6       51.293183         0.056939   \n",
       "4  5843fe72d0bb3e5513d37dd9       51.303328         0.018773   \n",
       "\n",
       "      Venue Category  \n",
       "0  Indian Restaurant  \n",
       "1     Scenic Lookout  \n",
       "2           Gun Shop  \n",
       "3    Bed & Breakfast  \n",
       "4        Pizza Place  "
      ]
     },
     "execution_count": 950,
     "metadata": {},
     "output_type": "execute_result"
    }
   ],
   "source": [
    "London_venues.head()"
   ]
  },
  {
   "cell_type": "code",
   "execution_count": 321,
   "metadata": {},
   "outputs": [
    {
     "data": {
      "text/plain": [
       "array(['Indian Restaurant', 'Scenic Lookout', 'Gun Shop',\n",
       "       'Bed & Breakfast', 'Pizza Place', 'Stables', 'Restaurant',\n",
       "       'Supermarket', 'Pool', 'Grocery Store', 'Pub', 'Café',\n",
       "       'Coffee Shop', 'Golf Course', 'Train Station', 'Platform',\n",
       "       'English Restaurant', 'Print Shop', 'Construction & Landscaping',\n",
       "       'Motorcycle Shop', 'Carpet Store', 'Airport Terminal',\n",
       "       'Pet Service', 'Campground', 'Forest', 'Athletics & Sports',\n",
       "       'Auto Garage', 'Clothing Store', 'Seafood Restaurant',\n",
       "       'Fish & Chips Shop', 'Mobile Phone Shop', 'Gym / Fitness Center',\n",
       "       'Home Service', 'Bar', 'Sports Club', 'Fast Food Restaurant',\n",
       "       'Rock Club', 'Music Venue', 'Farm', 'IT Services',\n",
       "       'Massage Studio', 'Airport', 'Airport Service', 'History Museum',\n",
       "       'Lake', 'Garden Center', 'Convenience Store', 'Bus Stop',\n",
       "       'Playground', 'Asian Restaurant', 'Park', 'Tea Room',\n",
       "       'Tennis Court', 'Automotive Shop', 'Business Service',\n",
       "       'Arts & Crafts Store', 'Bookstore', 'Theme Park Ride / Attraction',\n",
       "       'Aquarium', 'Theme Park', 'Hotel', 'Theater', 'Zoo Exhibit',\n",
       "       'BBQ Joint', 'Fried Chicken Joint', 'Gift Shop', 'Exhibit', 'Zoo',\n",
       "       'Rugby Pitch', 'Soccer Field', 'Gym', 'Shoe Store',\n",
       "       'Warehouse Store', 'Memorial Site', 'Miscellaneous Shop',\n",
       "       'Gastropub', 'Gas Station', 'Paintball Field',\n",
       "       'Performing Arts Venue', 'Turkish Restaurant', 'Breakfast Spot',\n",
       "       'Nature Preserve', 'Dog Run', 'Rental Service', 'Thai Restaurant',\n",
       "       'American Restaurant', 'Creperie', 'Italian Restaurant',\n",
       "       'Salon / Barbershop', 'Portuguese Restaurant', 'French Restaurant',\n",
       "       'Sandwich Place', 'Bakery', 'Irish Pub', 'Electronics Store',\n",
       "       'Garden', 'Pharmacy', 'Chinese Restaurant',\n",
       "       'Vietnamese Restaurant', 'Hotel Bar', 'Hardware Store',\n",
       "       'Yoga Studio', 'Pet Store', 'Fishing Store',\n",
       "       'Health & Beauty Service', 'Climbing Gym', 'Skate Park',\n",
       "       'Dance Studio', 'Soccer Stadium', 'Malay Restaurant', 'Spa',\n",
       "       'Furniture / Home Store', 'Tree', 'Cricket Ground',\n",
       "       'Event Service', 'Food Truck', 'Flea Market', 'Bowling Alley',\n",
       "       'Lebanese Restaurant', 'Cosmetics Shop', 'Art Gallery', 'Field',\n",
       "       'Hookah Bar', 'River', 'Bridal Shop', 'Rental Car Location',\n",
       "       'Scandinavian Restaurant', 'Shopping Plaza', 'Sporting Goods Shop',\n",
       "       'Baby Store', 'Movie Theater', 'Smoothie Shop',\n",
       "       'Mexican Restaurant', 'Middle Eastern Restaurant', 'Steakhouse',\n",
       "       'Food', 'Locksmith', 'Driving School', 'Wine Shop', 'Post Office',\n",
       "       'Deli / Bodega', 'Insurance Office', 'Tram Station',\n",
       "       'Shipping Store', 'Kebab Restaurant', 'Mini Golf',\n",
       "       'Assisted Living', 'Martial Arts Dojo', 'Mediterranean Restaurant',\n",
       "       'Sushi Restaurant', 'Department Store', 'Boarding House',\n",
       "       'Photography Studio', 'Palace', 'Hockey Field', 'Fountain',\n",
       "       'Historic Site', 'Pier', 'Harbor / Marina', 'Korean Restaurant',\n",
       "       'Gym Pool', 'Karaoke Bar', 'Japanese Restaurant', 'Discount Store',\n",
       "       \"Doctor's Office\", 'Trail', 'Donut Shop', 'Road',\n",
       "       'Other Repair Shop', 'Diner', 'Burger Joint', 'Lawyer',\n",
       "       'Indian Chinese Restaurant', 'Sports Bar', 'Bus Station',\n",
       "       'General Entertainment', 'Thrift / Vintage Store',\n",
       "       'Ice Cream Shop', 'Chocolate Shop', 'Toy / Game Store',\n",
       "       'Video Game Store', 'Tunnel', 'Cantonese Restaurant', 'Beer Store',\n",
       "       'Boat or Ferry', 'Hill', 'Waterfront', 'Other Great Outdoors',\n",
       "       'Market', 'German Restaurant', 'Record Shop',\n",
       "       'Latin American Restaurant', 'Plaza', 'Shopping Mall',\n",
       "       'Vegetarian / Vegan Restaurant', 'Kitchen Supply Store',\n",
       "       'Stationery Store', 'Candy Store', \"Women's Store\",\n",
       "       'Falafel Restaurant', 'Music Store', 'Public Art', 'Dessert Shop',\n",
       "       'Souvlaki Shop', 'Nightclub', 'Multiplex', 'Dry Cleaner',\n",
       "       'Wine Bar', 'Health Food Store', 'Brazilian Restaurant',\n",
       "       'Music School', 'Beer Bar', 'Brewery', 'Go Kart Track',\n",
       "       'Tapas Restaurant', 'Cocktail Bar', 'Noodle House', 'Buffet',\n",
       "       'Lingerie Store', 'Cave', 'Financial or Legal Service', 'Pet Café',\n",
       "       'Waste Facility', 'Shop & Service', 'Modern European Restaurant',\n",
       "       'Argentinian Restaurant', 'Juice Bar', 'Burrito Place', 'Office',\n",
       "       \"Men's Store\", 'Liquor Store', 'Metro Station', 'Indoor Play Area',\n",
       "       'Sri Lankan Restaurant', 'Skating Rink', 'Kids Store', 'Bike Shop',\n",
       "       'Himalayan Restaurant', 'Antique Shop', 'African Restaurant',\n",
       "       'Sculpture Garden', 'Track Stadium', 'Outdoor Sculpture',\n",
       "       'Concert Hall', 'Accessories Store', 'Fire Station', 'Brasserie',\n",
       "       'Bistro', 'Museum', 'Tailor Shop', 'Food Service', 'Optical Shop',\n",
       "       'Gourmet Shop', 'Tennis Stadium', 'Pakistani Restaurant',\n",
       "       'Social Club', 'South Indian Restaurant', 'Ramen Restaurant',\n",
       "       'Track', 'Jazz Club', 'Polish Restaurant', 'Food & Drink Shop',\n",
       "       'Recreation Center', 'Farmers Market', 'Caribbean Restaurant',\n",
       "       'Design Studio', 'Vape Store', 'Outdoors & Recreation', 'Windmill',\n",
       "       'Country Dance Club', 'Lounge', 'Moroccan Restaurant',\n",
       "       'Organic Grocery', 'Spanish Restaurant', 'Flower Shop',\n",
       "       'Greek Restaurant', 'Veterinarian', 'Auto Dealership',\n",
       "       'Rugby Stadium', 'Stadium', 'Fish Market', 'Beer Garden',\n",
       "       'Racetrack', 'Intersection', 'Caucasian Restaurant',\n",
       "       'Airport Lounge', 'Duty-free Shop', 'Currency Exchange',\n",
       "       'Border Crossing', 'Video Store', 'Comedy Club', 'Comic Shop',\n",
       "       'Persian Restaurant', 'South American Restaurant', 'Chaat Place',\n",
       "       'Boutique', 'Dim Sum Restaurant', 'Gay Bar', 'Indie Movie Theater',\n",
       "       'Street Art', 'New American Restaurant', 'Winery', 'Cupcake Shop',\n",
       "       'Okonomiyaki Restaurant', 'Dumpling Restaurant', 'Food Court',\n",
       "       'Reservoir', 'Street Food Gathering', 'Hostel', 'Champagne Bar',\n",
       "       'Souvenir Shop', 'Jewelry Store', 'Luggage Store',\n",
       "       'Paper / Office Supplies Store', 'Taxi Stand', 'Building',\n",
       "       'Outlet Store', 'Heliport', 'Peruvian Restaurant',\n",
       "       'Xinjiang Restaurant', 'Szechuan Restaurant', 'Whisky Bar',\n",
       "       'College Quad', 'Library', 'Auto Workshop', 'Light Rail Station',\n",
       "       'Castle', 'Fruit & Vegetable Store', 'Bubble Tea Shop',\n",
       "       'Moving Target', 'General Travel', 'Smoke Shop', 'Canal Lock',\n",
       "       'Botanical Garden', 'Australian Restaurant', 'Cycle Studio',\n",
       "       'Rock Climbing Spot', 'Speakeasy', 'Monument / Landmark',\n",
       "       'Animal Shelter', 'Ethiopian Restaurant', 'Pie Shop', 'Canal',\n",
       "       'Observatory', 'Planetarium', 'Hobby Shop', 'Event Space',\n",
       "       'Rest Area', 'Art Museum', 'Recording Studio', 'Wings Joint',\n",
       "       'Indie Theater', 'Grilled Meat Restaurant',\n",
       "       'Residential Building (Apartment / Condo)', 'Boxing Gym',\n",
       "       'Bagel Shop', 'Perfume Shop', 'Tour Provider', 'Camera Store',\n",
       "       'Cheese Shop', 'Churrascaria', 'Basketball Court', 'Film Studio',\n",
       "       'Arepa Restaurant', 'Bike Rental / Bike Share', 'Factory',\n",
       "       'Recruiting Agency', 'Lighthouse', 'Entertainment Service',\n",
       "       'Betting Shop', 'Arcade', 'Convention Center',\n",
       "       'Filipino Restaurant', 'Opera House', 'Piano Bar', 'Hot Dog Joint',\n",
       "       'Austrian Restaurant', 'Salad Place', 'University',\n",
       "       'Science Museum', 'Poke Place', 'Pedestrian Plaza', 'Distillery',\n",
       "       'Indonesian Restaurant', 'Bridge', 'Nail Salon',\n",
       "       'Golf Driving Range', 'Outlet Mall', 'Cable Car', 'Pawn Shop',\n",
       "       'Doner Restaurant', 'Southern / Soul Food Restaurant',\n",
       "       'Eastern European Restaurant', 'Roof Deck', 'Frozen Yogurt Shop',\n",
       "       'Butcher', 'Volleyball Court', 'Watch Shop', 'Russian Restaurant',\n",
       "       'Israeli Restaurant', 'Church', 'Cuban Restaurant',\n",
       "       'North Indian Restaurant', 'Japanese Curry Restaurant',\n",
       "       'Outdoor Supply Store', 'Currywurst Joint', 'Soba Restaurant',\n",
       "       'Dive Bar', 'Beach', 'Rafting', 'Halal Restaurant',\n",
       "       'Baseball Field', 'Snack Place', 'Casino', 'Radio Station',\n",
       "       'Medical School', 'College Residence Hall',\n",
       "       'Gluten-free Restaurant', 'Food Stand', 'College Gym',\n",
       "       'Taco Place', 'Soup Place', 'Jewish Restaurant', 'Pilates Studio',\n",
       "       'Cafeteria', 'Tourist Information Center', 'Bus Line', 'Town Hall',\n",
       "       'Pool Hall', 'School', 'Adult Boutique', 'Buddhist Temple',\n",
       "       'Board Shop', 'Pastry Shop', 'Gun Range', 'Arts & Entertainment',\n",
       "       'Theme Restaurant', 'Gymnastics Gym', 'Mamak Restaurant',\n",
       "       'Hunan Restaurant', 'Udon Restaurant', 'Gaming Cafe',\n",
       "       'Taiwanese Restaurant', 'Bulgarian Restaurant',\n",
       "       'Travel & Transport', 'Shaanxi Restaurant', 'Yakitori Restaurant',\n",
       "       'Costume Shop', 'Laser Tag', 'Military Base', 'Cemetery',\n",
       "       'Knitting Store', 'Summer Camp', 'Laundromat', 'Non-Profit',\n",
       "       'Shabu-Shabu Restaurant', 'Kosher Restaurant', 'Water Park',\n",
       "       'Cigkofte Place', 'Advertising Agency', 'Student Center',\n",
       "       'Boat Rental', 'Afghan Restaurant', 'Outdoor Gym',\n",
       "       'Cajun / Creole Restaurant', 'RV Park'], dtype=object)"
      ]
     },
     "execution_count": 321,
     "metadata": {},
     "output_type": "execute_result"
    }
   ],
   "source": [
    "#Checking all the unique venue categories\n",
    "London_venues['Venue Category'].unique()"
   ]
  },
  {
   "cell_type": "code",
   "execution_count": 882,
   "metadata": {},
   "outputs": [
    {
     "data": {
      "text/plain": [
       "465"
      ]
     },
     "execution_count": 882,
     "metadata": {},
     "output_type": "execute_result"
    }
   ],
   "source": [
    "len(London_venues['Venue Category'].unique())"
   ]
  },
  {
   "cell_type": "code",
   "execution_count": 951,
   "metadata": {},
   "outputs": [
    {
     "data": {
      "text/plain": [
       "(18917, 10)"
      ]
     },
     "execution_count": 951,
     "metadata": {},
     "output_type": "execute_result"
    }
   ],
   "source": [
    "London_venues.shape"
   ]
  },
  {
   "cell_type": "markdown",
   "metadata": {},
   "source": [
    "There seem to be quite a lot of venue categories, it is likely that not all of them are relevant in predicting housing price categories. Due to the large number of candidate features and its relatively large data size, we will use Random Forest, instead of Decision Tree to perform feature selection and calssification. "
   ]
  },
  {
   "cell_type": "code",
   "execution_count": 881,
   "metadata": {},
   "outputs": [],
   "source": [
    "#onehot_encoding: converting categorical variables into dummy variables\n",
    "ld_onehot=pd.get_dummies(London_venues[['Venue Category']],prefix=\"\",prefix_sep=\"\")\n"
   ]
  },
  {
   "cell_type": "code",
   "execution_count": 883,
   "metadata": {},
   "outputs": [
    {
     "data": {
      "text/html": [
       "<div>\n",
       "<style scoped>\n",
       "    .dataframe tbody tr th:only-of-type {\n",
       "        vertical-align: middle;\n",
       "    }\n",
       "\n",
       "    .dataframe tbody tr th {\n",
       "        vertical-align: top;\n",
       "    }\n",
       "\n",
       "    .dataframe thead th {\n",
       "        text-align: right;\n",
       "    }\n",
       "</style>\n",
       "<table border=\"1\" class=\"dataframe\">\n",
       "  <thead>\n",
       "    <tr style=\"text-align: right;\">\n",
       "      <th></th>\n",
       "      <th>Accessories Store</th>\n",
       "      <th>Adult Boutique</th>\n",
       "      <th>Afghan Restaurant</th>\n",
       "      <th>African Restaurant</th>\n",
       "      <th>Airport</th>\n",
       "      <th>Airport Lounge</th>\n",
       "      <th>Airport Service</th>\n",
       "      <th>Airport Terminal</th>\n",
       "      <th>American Restaurant</th>\n",
       "      <th>Animal Shelter</th>\n",
       "      <th>...</th>\n",
       "      <th>Wine Bar</th>\n",
       "      <th>Wine Shop</th>\n",
       "      <th>Winery</th>\n",
       "      <th>Wings Joint</th>\n",
       "      <th>Women's Store</th>\n",
       "      <th>Xinjiang Restaurant</th>\n",
       "      <th>Yakitori Restaurant</th>\n",
       "      <th>Yoga Studio</th>\n",
       "      <th>Zoo</th>\n",
       "      <th>Zoo Exhibit</th>\n",
       "    </tr>\n",
       "  </thead>\n",
       "  <tbody>\n",
       "    <tr>\n",
       "      <th>0</th>\n",
       "      <td>0</td>\n",
       "      <td>0</td>\n",
       "      <td>0</td>\n",
       "      <td>0</td>\n",
       "      <td>0</td>\n",
       "      <td>0</td>\n",
       "      <td>0</td>\n",
       "      <td>0</td>\n",
       "      <td>0</td>\n",
       "      <td>0</td>\n",
       "      <td>...</td>\n",
       "      <td>0</td>\n",
       "      <td>0</td>\n",
       "      <td>0</td>\n",
       "      <td>0</td>\n",
       "      <td>0</td>\n",
       "      <td>0</td>\n",
       "      <td>0</td>\n",
       "      <td>0</td>\n",
       "      <td>0</td>\n",
       "      <td>0</td>\n",
       "    </tr>\n",
       "    <tr>\n",
       "      <th>1</th>\n",
       "      <td>0</td>\n",
       "      <td>0</td>\n",
       "      <td>0</td>\n",
       "      <td>0</td>\n",
       "      <td>0</td>\n",
       "      <td>0</td>\n",
       "      <td>0</td>\n",
       "      <td>0</td>\n",
       "      <td>0</td>\n",
       "      <td>0</td>\n",
       "      <td>...</td>\n",
       "      <td>0</td>\n",
       "      <td>0</td>\n",
       "      <td>0</td>\n",
       "      <td>0</td>\n",
       "      <td>0</td>\n",
       "      <td>0</td>\n",
       "      <td>0</td>\n",
       "      <td>0</td>\n",
       "      <td>0</td>\n",
       "      <td>0</td>\n",
       "    </tr>\n",
       "    <tr>\n",
       "      <th>2</th>\n",
       "      <td>0</td>\n",
       "      <td>0</td>\n",
       "      <td>0</td>\n",
       "      <td>0</td>\n",
       "      <td>0</td>\n",
       "      <td>0</td>\n",
       "      <td>0</td>\n",
       "      <td>0</td>\n",
       "      <td>0</td>\n",
       "      <td>0</td>\n",
       "      <td>...</td>\n",
       "      <td>0</td>\n",
       "      <td>0</td>\n",
       "      <td>0</td>\n",
       "      <td>0</td>\n",
       "      <td>0</td>\n",
       "      <td>0</td>\n",
       "      <td>0</td>\n",
       "      <td>0</td>\n",
       "      <td>0</td>\n",
       "      <td>0</td>\n",
       "    </tr>\n",
       "    <tr>\n",
       "      <th>3</th>\n",
       "      <td>0</td>\n",
       "      <td>0</td>\n",
       "      <td>0</td>\n",
       "      <td>0</td>\n",
       "      <td>0</td>\n",
       "      <td>0</td>\n",
       "      <td>0</td>\n",
       "      <td>0</td>\n",
       "      <td>0</td>\n",
       "      <td>0</td>\n",
       "      <td>...</td>\n",
       "      <td>0</td>\n",
       "      <td>0</td>\n",
       "      <td>0</td>\n",
       "      <td>0</td>\n",
       "      <td>0</td>\n",
       "      <td>0</td>\n",
       "      <td>0</td>\n",
       "      <td>0</td>\n",
       "      <td>0</td>\n",
       "      <td>0</td>\n",
       "    </tr>\n",
       "    <tr>\n",
       "      <th>4</th>\n",
       "      <td>0</td>\n",
       "      <td>0</td>\n",
       "      <td>0</td>\n",
       "      <td>0</td>\n",
       "      <td>0</td>\n",
       "      <td>0</td>\n",
       "      <td>0</td>\n",
       "      <td>0</td>\n",
       "      <td>0</td>\n",
       "      <td>0</td>\n",
       "      <td>...</td>\n",
       "      <td>0</td>\n",
       "      <td>0</td>\n",
       "      <td>0</td>\n",
       "      <td>0</td>\n",
       "      <td>0</td>\n",
       "      <td>0</td>\n",
       "      <td>0</td>\n",
       "      <td>0</td>\n",
       "      <td>0</td>\n",
       "      <td>0</td>\n",
       "    </tr>\n",
       "  </tbody>\n",
       "</table>\n",
       "<p>5 rows × 465 columns</p>\n",
       "</div>"
      ],
      "text/plain": [
       "   Accessories Store  Adult Boutique  Afghan Restaurant  African Restaurant  \\\n",
       "0                  0               0                  0                   0   \n",
       "1                  0               0                  0                   0   \n",
       "2                  0               0                  0                   0   \n",
       "3                  0               0                  0                   0   \n",
       "4                  0               0                  0                   0   \n",
       "\n",
       "   Airport  Airport Lounge  Airport Service  Airport Terminal  \\\n",
       "0        0               0                0                 0   \n",
       "1        0               0                0                 0   \n",
       "2        0               0                0                 0   \n",
       "3        0               0                0                 0   \n",
       "4        0               0                0                 0   \n",
       "\n",
       "   American Restaurant  Animal Shelter     ...       Wine Bar  Wine Shop  \\\n",
       "0                    0               0     ...              0          0   \n",
       "1                    0               0     ...              0          0   \n",
       "2                    0               0     ...              0          0   \n",
       "3                    0               0     ...              0          0   \n",
       "4                    0               0     ...              0          0   \n",
       "\n",
       "   Winery  Wings Joint  Women's Store  Xinjiang Restaurant  \\\n",
       "0       0            0              0                    0   \n",
       "1       0            0              0                    0   \n",
       "2       0            0              0                    0   \n",
       "3       0            0              0                    0   \n",
       "4       0            0              0                    0   \n",
       "\n",
       "   Yakitori Restaurant  Yoga Studio  Zoo  Zoo Exhibit  \n",
       "0                    0            0    0            0  \n",
       "1                    0            0    0            0  \n",
       "2                    0            0    0            0  \n",
       "3                    0            0    0            0  \n",
       "4                    0            0    0            0  \n",
       "\n",
       "[5 rows x 465 columns]"
      ]
     },
     "execution_count": 883,
     "metadata": {},
     "output_type": "execute_result"
    }
   ],
   "source": [
    "ld_onehot.head()"
   ]
  },
  {
   "cell_type": "markdown",
   "metadata": {},
   "source": []
  },
  {
   "cell_type": "code",
   "execution_count": 884,
   "metadata": {},
   "outputs": [],
   "source": [
    "#Inserting back the relevant columns\n",
    "ld_onehot.insert(loc=0,column='Code',value=London_venues['Code'])\n",
    "ld_onehot.insert(loc=0, column='Deprivation_index',value=London_venues['Deprivation_index'])\n",
    "ld_onehot.insert(loc=0,column='Price',value=London_venues['Price'])"
   ]
  },
  {
   "cell_type": "code",
   "execution_count": 886,
   "metadata": {},
   "outputs": [],
   "source": [
    "#creating a new price category feature by converting the price value into categorical variable by qualtiles\n",
    "PriceCategory=pd.qcut(London_venues['Price'],3,labels=['low','medium','high'])"
   ]
  },
  {
   "cell_type": "code",
   "execution_count": 887,
   "metadata": {},
   "outputs": [],
   "source": [
    "ld_onehot.insert(loc=0,column='PriceCategory',value=PriceCategory)"
   ]
  },
  {
   "cell_type": "code",
   "execution_count": 888,
   "metadata": {},
   "outputs": [
    {
     "data": {
      "text/plain": [
       "(18917, 469)"
      ]
     },
     "execution_count": 888,
     "metadata": {},
     "output_type": "execute_result"
    }
   ],
   "source": [
    "ld_onehot.shape"
   ]
  },
  {
   "cell_type": "code",
   "execution_count": 899,
   "metadata": {},
   "outputs": [],
   "source": [
    "x_1=ld_onehot.iloc[:,2:].drop(columns='Code')\n",
    "y_1=ld_onehot['PriceCategory']"
   ]
  },
  {
   "cell_type": "markdown",
   "metadata": {},
   "source": [
    "## Modelling Stage: \n",
    "1. Apply the RandomForestClassifier to the whole dataset\n",
    "2. Record the accuracy score\n",
    "3. Select the important features\n",
    "4. Apply the RandomForestClassifier again using the important features\n",
    "5. Compare the accuracy score to the first model.\n",
    "6. Apply the K-NearestNeighbours and Support Vector Machines with the selected features.\n",
    "7. Record the accuracy of each model.\n",
    "8. Select the model with the best accuracy score."
   ]
  },
  {
   "cell_type": "code",
   "execution_count": null,
   "metadata": {},
   "outputs": [],
   "source": [
    "from sklearn.ensemble import RandomForestClassifier\n",
    "from sklearn import preprocessing \n",
    "from sklearn.metrics import classification_report,confusion_matrix\n",
    "from sklearn.model_selection import train_test_split\n",
    "from sklearn.neighbors import KNeighborsClassifier\n",
    "from sklearn import svm\n",
    "from sklearn import metrics\n",
    "import matplotlib.pyplot as plt\n",
    "from sklearn.preprocessing import StandardScaler"
   ]
  },
  {
   "cell_type": "code",
   "execution_count": 900,
   "metadata": {},
   "outputs": [],
   "source": [
    "#Performing 20/80 train_test split\n",
    "x_train_1,x_test_1,y_train_1,y_test_1=train_test_split(x_1,y_1,test_size=0.2,random_state=4)"
   ]
  },
  {
   "cell_type": "code",
   "execution_count": 902,
   "metadata": {},
   "outputs": [
    {
     "data": {
      "text/plain": [
       "RandomForestClassifier(bootstrap=True, class_weight=None, criterion='gini',\n",
       "            max_depth=None, max_features='auto', max_leaf_nodes=None,\n",
       "            min_impurity_decrease=0.0, min_impurity_split=None,\n",
       "            min_samples_leaf=1, min_samples_split=2,\n",
       "            min_weight_fraction_leaf=0.0, n_estimators=1000, n_jobs=-1,\n",
       "            oob_score=False, random_state=None, verbose=0,\n",
       "            warm_start=False)"
      ]
     },
     "execution_count": 902,
     "metadata": {},
     "output_type": "execute_result"
    }
   ],
   "source": [
    "# Applying RandomForest to the whole dataset\n",
    "rf=RandomForestClassifier(n_estimators=1000, n_jobs=-1)\n",
    "rf.fit(x_train_1,y_train_1)"
   ]
  },
  {
   "cell_type": "code",
   "execution_count": 903,
   "metadata": {},
   "outputs": [
    {
     "data": {
      "text/plain": [
       "0.6627906976744186"
      ]
     },
     "execution_count": 903,
     "metadata": {},
     "output_type": "execute_result"
    }
   ],
   "source": [
    "#Accuracy of the first RandomForest Model\n",
    "rf.score(x_test_1,y_test_1)"
   ]
  },
  {
   "cell_type": "code",
   "execution_count": 904,
   "metadata": {},
   "outputs": [],
   "source": [
    "#Generate a dataframe with the feature importance value array\n",
    "feature_importances = pd.DataFrame(rf.feature_importances_,\n",
    "                                   index = x_train_1.columns,\n",
    "                                    columns=['importance']).sort_values('importance',ascending=False)"
   ]
  },
  {
   "cell_type": "code",
   "execution_count": 958,
   "metadata": {},
   "outputs": [
    {
     "data": {
      "text/html": [
       "<div>\n",
       "<style scoped>\n",
       "    .dataframe tbody tr th:only-of-type {\n",
       "        vertical-align: middle;\n",
       "    }\n",
       "\n",
       "    .dataframe tbody tr th {\n",
       "        vertical-align: top;\n",
       "    }\n",
       "\n",
       "    .dataframe thead th {\n",
       "        text-align: right;\n",
       "    }\n",
       "</style>\n",
       "<table border=\"1\" class=\"dataframe\">\n",
       "  <thead>\n",
       "    <tr style=\"text-align: right;\">\n",
       "      <th></th>\n",
       "      <th>importance</th>\n",
       "    </tr>\n",
       "  </thead>\n",
       "  <tbody>\n",
       "    <tr>\n",
       "      <th>Lighting Store</th>\n",
       "      <td>0.0</td>\n",
       "    </tr>\n",
       "    <tr>\n",
       "      <th>Gaming Cafe</th>\n",
       "      <td>0.0</td>\n",
       "    </tr>\n",
       "    <tr>\n",
       "      <th>Military Base</th>\n",
       "      <td>0.0</td>\n",
       "    </tr>\n",
       "    <tr>\n",
       "      <th>Student Center</th>\n",
       "      <td>0.0</td>\n",
       "    </tr>\n",
       "    <tr>\n",
       "      <th>Cable Car</th>\n",
       "      <td>0.0</td>\n",
       "    </tr>\n",
       "  </tbody>\n",
       "</table>\n",
       "</div>"
      ],
      "text/plain": [
       "                importance\n",
       "Lighting Store         0.0\n",
       "Gaming Cafe            0.0\n",
       "Military Base          0.0\n",
       "Student Center         0.0\n",
       "Cable Car              0.0"
      ]
     },
     "execution_count": 958,
     "metadata": {},
     "output_type": "execute_result"
    }
   ],
   "source": [
    "feature_importances.sort_values('importance',ascending=True).head()"
   ]
  },
  {
   "cell_type": "code",
   "execution_count": 906,
   "metadata": {},
   "outputs": [],
   "source": [
    "#As we can see, there are quite a few features with zero importance values. We shall remove those first.\n",
    "important_feature=feature_importances[feature_importances['importance']!=0].reset_index()\n"
   ]
  },
  {
   "cell_type": "code",
   "execution_count": 907,
   "metadata": {},
   "outputs": [],
   "source": [
    "feature_list=list(important_feature['index'])"
   ]
  },
  {
   "cell_type": "code",
   "execution_count": 960,
   "metadata": {},
   "outputs": [],
   "source": [
    "#Modifying training and testing dataset accordingly.\n",
    "x_train_imp=x_train_1[feature_list]\n",
    "x_test_imp=x_test_1[feature_list]"
   ]
  },
  {
   "cell_type": "code",
   "execution_count": 961,
   "metadata": {},
   "outputs": [
    {
     "data": {
      "text/plain": [
       "RandomForestClassifier(bootstrap=True, class_weight=None, criterion='gini',\n",
       "            max_depth=None, max_features='auto', max_leaf_nodes=None,\n",
       "            min_impurity_decrease=0.0, min_impurity_split=None,\n",
       "            min_samples_leaf=1, min_samples_split=2,\n",
       "            min_weight_fraction_leaf=0.0, n_estimators=1000, n_jobs=-1,\n",
       "            oob_score=False, random_state=None, verbose=0,\n",
       "            warm_start=False)"
      ]
     },
     "execution_count": 961,
     "metadata": {},
     "output_type": "execute_result"
    }
   ],
   "source": [
    "rf.fit(x_train_imp,y_train_1)"
   ]
  },
  {
   "cell_type": "code",
   "execution_count": 962,
   "metadata": {},
   "outputs": [
    {
     "data": {
      "text/plain": [
       "0.6619978858350951"
      ]
     },
     "execution_count": 962,
     "metadata": {},
     "output_type": "execute_result"
    }
   ],
   "source": [
    "#Accuracy of the second Randomforest model\n",
    "rf.score(x_test_imp,y_test_1)"
   ]
  },
  {
   "cell_type": "code",
   "execution_count": 969,
   "metadata": {},
   "outputs": [
    {
     "data": {
      "text/plain": [
       "451"
      ]
     },
     "execution_count": 969,
     "metadata": {},
     "output_type": "execute_result"
    }
   ],
   "source": [
    "len(feature_list)"
   ]
  },
  {
   "cell_type": "markdown",
   "metadata": {},
   "source": [
    "Dropping features with zero importance did not improve our model performance. This is within our expectations as we still have a large number of feature variables left, which might contains variables that provide little meaningful information for price categoriy prediction, thereby introducing noise to the model. We shall now examine the impact of further feature reduction on model performance."
   ]
  },
  {
   "cell_type": "code",
   "execution_count": 963,
   "metadata": {},
   "outputs": [],
   "source": [
    "#Setting the feature selection threshold : importance_rank >= 0.0015\n",
    "impt_fea_2=list(feature_importances[feature_importances['importance']>=0.0015].reset_index()['index'])"
   ]
  },
  {
   "cell_type": "code",
   "execution_count": 964,
   "metadata": {},
   "outputs": [
    {
     "data": {
      "text/plain": [
       "28"
      ]
     },
     "execution_count": 964,
     "metadata": {},
     "output_type": "execute_result"
    }
   ],
   "source": [
    "len(impt_fea_2)"
   ]
  },
  {
   "cell_type": "code",
   "execution_count": 965,
   "metadata": {},
   "outputs": [],
   "source": [
    "x_impt_train_2=x_train_1[impt_fea_2]\n",
    "x_impt_test_2=x_test_1[impt_fea_2]"
   ]
  },
  {
   "cell_type": "code",
   "execution_count": 966,
   "metadata": {},
   "outputs": [
    {
     "data": {
      "text/plain": [
       "RandomForestClassifier(bootstrap=True, class_weight=None, criterion='gini',\n",
       "            max_depth=None, max_features='auto', max_leaf_nodes=None,\n",
       "            min_impurity_decrease=0.0, min_impurity_split=None,\n",
       "            min_samples_leaf=1, min_samples_split=2,\n",
       "            min_weight_fraction_leaf=0.0, n_estimators=1000, n_jobs=-1,\n",
       "            oob_score=False, random_state=None, verbose=0,\n",
       "            warm_start=False)"
      ]
     },
     "execution_count": 966,
     "metadata": {},
     "output_type": "execute_result"
    }
   ],
   "source": [
    "rf.fit(x_impt_train_2,y_train_1)"
   ]
  },
  {
   "cell_type": "code",
   "execution_count": 967,
   "metadata": {},
   "outputs": [
    {
     "data": {
      "text/plain": [
       "0.8168604651162791"
      ]
     },
     "execution_count": 967,
     "metadata": {},
     "output_type": "execute_result"
    }
   ],
   "source": [
    "rf.score(x_impt_test_2,y_test_1)"
   ]
  },
  {
   "cell_type": "markdown",
   "metadata": {},
   "source": [
    "By further reducing the number of feature variables, we have significantly improved our model accuracy. Now we will apply KNN and SVM to the selected feature sets."
   ]
  },
  {
   "cell_type": "code",
   "execution_count": 947,
   "metadata": {},
   "outputs": [
    {
     "data": {
      "image/png": "[encoded data removed]",
      "text/plain": [
       "<Figure size 432x288 with 1 Axes>"
      ]
     },
     "metadata": {},
     "output_type": "display_data"
    },
    {
     "name": "stdout",
     "output_type": "stream",
     "text": [
      "The best accuracy was obtained when K= 1 with Jaccard score= 0.8142177589852009\n"
     ]
    }
   ],
   "source": [
    "##Applying KNN algorithm\n",
    "Ks=10\n",
    "mean_acc=np.zeros(9)\n",
    "std_acc=np.zeros(9)\n",
    "for n in range (1,Ks):\n",
    "    neigh=KNeighborsClassifier(n_neighbors=n).fit(x_impt_train_2,y_train_1)\n",
    "    yhat=neigh.predict(x_impt_test_2)\n",
    "    mean_acc[n-1]=metrics.accuracy_score(y_test_1,yhat)\n",
    "\n",
    "plt.plot(range(1,Ks), mean_acc, 'r')\n",
    "plt.legend('Accuracy')\n",
    "plt.ylabel('Accuracy')\n",
    "plt.xlabel('K values')\n",
    "plt.show()\n",
    "\n",
    "print( \"The best accuracy was obtained when K=\",  mean_acc.argmax()+1, \"with Jaccard score=\",mean_acc.max())"
   ]
  },
  {
   "cell_type": "code",
   "execution_count": 551,
   "metadata": {},
   "outputs": [],
   "source": [
    "\n",
    "def SVM(x_train,y_train,x_test,y_test,KERNEL):\n",
    "    svm_all=svm.SVC(kernel=KERNEL)\n",
    "    svm_all.fit(x_train,y_train)\n",
    "    yhat_svm_all=svm_all.predict(x_test)\n",
    "    print(metrics.accuracy_score(y_test,yhat))\n",
    "    svm_all_matrix=confusion_matrix(y_test,yhat_svm_all,labels=['high','medium','low'])\n",
    "    np.set_printoptions()\n",
    "    print(classification_report(y_test,yhat_svm_all))"
   ]
  },
  {
   "cell_type": "code",
   "execution_count": 948,
   "metadata": {
    "scrolled": true
   },
   "outputs": [
    {
     "name": "stdout",
     "output_type": "stream",
     "text": [
      "0.6559196617336153\n",
      "             precision    recall  f1-score   support\n",
      "\n",
      "       high       0.00      0.00      0.00      1239\n",
      "        low       0.54      0.22      0.32      1307\n",
      "     medium       0.32      0.84      0.46      1238\n",
      "\n",
      "avg / total       0.29      0.35      0.26      3784\n",
      "\n"
     ]
    },
    {
     "name": "stderr",
     "output_type": "stream",
     "text": [
      "C:\\Users\\helen\\AppData\\Local\\Continuum\\anaconda3\\lib\\site-packages\\sklearn\\metrics\\classification.py:1135: UndefinedMetricWarning: Precision and F-score are ill-defined and being set to 0.0 in labels with no predicted samples.\n",
      "  'precision', 'predicted', average, warn_for)\n"
     ]
    }
   ],
   "source": [
    "SVM(x_train=x_train_1,y_train=y_train_1,x_test=x_test_1,y_test=y_test_1,KERNEL='poly')\n"
   ]
  },
  {
   "cell_type": "code",
   "execution_count": 949,
   "metadata": {},
   "outputs": [
    {
     "name": "stdout",
     "output_type": "stream",
     "text": [
      "0.6559196617336153\n",
      "             precision    recall  f1-score   support\n",
      "\n",
      "       high       0.43      0.56      0.48      1239\n",
      "        low       0.46      0.56      0.51      1307\n",
      "     medium       0.37      0.18      0.24      1238\n",
      "\n",
      "avg / total       0.42      0.43      0.41      3784\n",
      "\n"
     ]
    }
   ],
   "source": [
    "SVM(x_train=x_impt_train_2,y_train=y_train_1,x_test=x_impt_test_2,y_test=y_test_1,KERNEL='poly')\n"
   ]
  },
  {
   "cell_type": "markdown",
   "metadata": {},
   "source": [
    "Compared to KNN and SVMs, RandomForestClassifier yielded the highest accuracy score(81.69%). Therefore, it is chosen as the best classfication model. \n"
   ]
  },
  {
   "cell_type": "markdown",
   "metadata": {},
   "source": [
    "Upon a closer inspection, however, the relatively high accuracy score does not provide any direct evidence for the strong predictive power of nearby venue category data. This is because,as shown in the feature_importances dataframe, the feature with the highest contribution value is the index of multiple deprivation. More importantly, its associated contribution value exceeded the value of the second most important feature by quite a considerable margin. Therefore it is possible that, venue categories data played a relatively insignificant role in predicting housing price categories. There are several possible explanations for this result. \n",
    "\n",
    "Firstly, this could be attributed to the lack of relationship between housing price categories and its nearby venue categories. Secondly, since the price value did not perfectly fit the normal distribution, it is possible that converting price values into cateogircal variables by quartiles might have resulted in a loss of information. Thus, the resulting classification model might not be a perfect reflection of the actual relationship between housing price and its nearby venue categories. Thirdly, the nearby venue data is limited to its functional categories, which provide little information about its associated expenditure level, which could potentially be a better predictor of housing price categories. This information could be sourced using the 'get venue details' query, however, due to the relatively large data size,\n",
    "the number of API calls will exceed the quota of the current starndard Foursquare developer account. Therefore, future research with the additional focus on household expenditure level is suggested."
   ]
  },
  {
   "cell_type": "code",
   "execution_count": 970,
   "metadata": {},
   "outputs": [
    {
     "data": {
      "text/html": [
       "<div>\n",
       "<style scoped>\n",
       "    .dataframe tbody tr th:only-of-type {\n",
       "        vertical-align: middle;\n",
       "    }\n",
       "\n",
       "    .dataframe tbody tr th {\n",
       "        vertical-align: top;\n",
       "    }\n",
       "\n",
       "    .dataframe thead th {\n",
       "        text-align: right;\n",
       "    }\n",
       "</style>\n",
       "<table border=\"1\" class=\"dataframe\">\n",
       "  <thead>\n",
       "    <tr style=\"text-align: right;\">\n",
       "      <th></th>\n",
       "      <th>importance</th>\n",
       "    </tr>\n",
       "  </thead>\n",
       "  <tbody>\n",
       "    <tr>\n",
       "      <th>Deprivation_index</th>\n",
       "      <td>0.770989</td>\n",
       "    </tr>\n",
       "    <tr>\n",
       "      <th>Fast Food Restaurant</th>\n",
       "      <td>0.004034</td>\n",
       "    </tr>\n",
       "    <tr>\n",
       "      <th>French Restaurant</th>\n",
       "      <td>0.003396</td>\n",
       "    </tr>\n",
       "    <tr>\n",
       "      <th>Bus Stop</th>\n",
       "      <td>0.002408</td>\n",
       "    </tr>\n",
       "    <tr>\n",
       "      <th>Airport Lounge</th>\n",
       "      <td>0.002338</td>\n",
       "    </tr>\n",
       "  </tbody>\n",
       "</table>\n",
       "</div>"
      ],
      "text/plain": [
       "                      importance\n",
       "Deprivation_index       0.770989\n",
       "Fast Food Restaurant    0.004034\n",
       "French Restaurant       0.003396\n",
       "Bus Stop                0.002408\n",
       "Airport Lounge          0.002338"
      ]
     },
     "execution_count": 970,
     "metadata": {},
     "output_type": "execute_result"
    }
   ],
   "source": [
    "feature_importances.sort_values('importance',ascending=False).head()"
   ]
  },
  {
   "cell_type": "markdown",
   "metadata": {},
   "source": [
    "## References\n",
    "Basu, S., & Thibodeau, T. G. (1998). Analysis of spatial autocorrelation in house prices. The Journal of Real Estate Finance and Economics, 17(1), 61-85.\n",
    "\n",
    "Islam, K. S., & Asami, Y. (2009, July). Housing market segmentation: a review. In Review of Urban & Regional Development Studies: Journal of the Applied Regional Science Conference (Vol. 21, No. 2‐3, pp. 93-109). Melbourne, Australia: Blackwell Publishing Asia.\n",
    "\n",
    "Margulis, H. L. (1998). Predicting the growth and filtering of at-risk housing: Structure ageing, poverty and redlining. Urban Studies, 35(8), 1231-1259.\n",
    "\n"
   ]
  },
  {
   "cell_type": "code",
   "execution_count": null,
   "metadata": {},
   "outputs": [],
   "source": []
  }
 ],
 "metadata": {
  "kernelspec": {
   "display_name": "Python 3",
   "language": "python",
   "name": "python3"
  },
  "language_info": {
   "codemirror_mode": {
    "name": "ipython",
    "version": 3
   },
   "file_extension": ".py",
   "mimetype": "text/x-python",
   "name": "python",
   "nbconvert_exporter": "python",
   "pygments_lexer": "ipython3",
   "version": "3.6.5"
  }
 },
 "nbformat": 4,
 "nbformat_minor": 2
}
