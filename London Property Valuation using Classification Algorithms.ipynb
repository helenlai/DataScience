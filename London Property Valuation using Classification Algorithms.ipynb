{
 "cells": [
  {
   "cell_type": "markdown",
   "metadata": {},
   "source": [
    "## Defining the Research Questions and Research Plan\n",
    "\n",
    "### Research Aim (Exploratory):\n",
    "- A review of literature has shown that house prices are often modeled using regression models whereby structural and locational attributes are used to explain variances in house prices. This is justified on the basis that houses often share similar strucutral features with their nearby properties (Basu & Thibodeau, 1998). In addition, poverty index has also been used to identify at-risk housing (Margulis, 1998). However, previous research on housing price prediction has taken an econometric approach, ordinary least squares (OLS). However, recent research on house prediction in Sandiago has shown that machine learning algorithms, espeicially Random Forest have yielded superior performance than the traditional approach. The current research aims to extend the literature by examine whether comparing to other classification algorithms, Random Forest will perform well in explaining housing price variances in london. The study also aim to explore the predictive power of a series of independent variables : deprivation index, quality rating, distance to station, nearby venue categories and  its corresponding geographical coordinates. \n",
    "    \n",
    "    - Candiate Independent Variable: Nearby Venue Category,Geographical coordinates of Nearby Venue, Index of Multiple Deprivation, Quality rating, Distance to Station\n",
    "    - Dependent Variable: Housing Price Categories\n",
    "    \n",
    "### Research Design:\n",
    "   1. Data Preparation:\n",
    "        -- Importing pre-existing datasets\n",
    "              - London housing price by ward code __ downloaded from public database\n",
    "              - London geographical coordinates _ downloaded from public database   \n",
    "        -- Data Wangling:\n",
    "              - Merge the three dataframe with the primary key: ward code \n",
    "              - Clean and simplify the dataset to reduce computation time\n",
    "        -- Exploratory Data Analysis:\n",
    "              - Explore the normality of target variable__ Housing Price and remove the outliers if there are any.\n",
    "              - Its association with three candidate feature variables\n",
    "                   1. Index of Multiple Deprivation\n",
    "                   2. Distance to Station\n",
    "                   3. Quality Rating\n",
    "              - Conduct normality test for variables that appear to be associated with the housing price value \n",
    "                  - modify the data accordingly based on its distribution plot\n",
    "              - Compute the correlation coefficient and its associated statistical significance\n",
    "         \n",
    "         -- Further data sourcing:\n",
    "              - Fetch venue category data for each geographical coordinate using Foursquare API\n",
    "         -- Further data wangling:\n",
    "              - Convert Housing Price into categorical variable (low, medium, high)\n",
    "              - Converting venue data into dummy variables using one-hot encoding \n",
    "    \n",
    "   2. Modelling \n",
    "        -- Further feature selection:\n",
    "            - apply Randomforest classifier to the entire dataset\n",
    "            - generate a dataframe containing all the feature variables with its associated feature importance value\n",
    "            - drop the features that failed to provide sufficient meaningful information\n",
    "        -- Find the best classification model\n",
    "            - apply Random Forest, K-Nearest Neighbors and Support Vector Machine using the selected feature variables\n",
    "            - compute the accuracy score of each mode\n",
    "            - select the one the highest accuracy score\n",
    "            \n",
    "   3. Results Interpretation and Discussion          \n",
    "   "
   ]
  },
  {
   "cell_type": "code",
   "execution_count": 3,
   "metadata": {},
   "outputs": [],
   "source": [
    "## Importing packages\n",
    "from geopy.geocoders import Nominatim \n",
    "import requests\n",
    "import json \n",
    "import pandas as pd\n",
    "import numpy as np\n"
   ]
  },
  {
   "cell_type": "markdown",
   "metadata": {},
   "source": [
    "## Importing london house price and geographical coordinate datasets"
   ]
  },
  {
   "cell_type": "code",
   "execution_count": 4,
   "metadata": {
    "scrolled": false
   },
   "outputs": [],
   "source": [
    "geo_data=pd.read_csv('london_postcodes.csv')\n",
    "hp_data=pd.read_csv('london_house_price.csv')"
   ]
  },
  {
   "cell_type": "markdown",
   "metadata": {},
   "source": [
    "## Data Wangling"
   ]
  },
  {
   "cell_type": "code",
   "execution_count": 5,
   "metadata": {
    "scrolled": true
   },
   "outputs": [],
   "source": [
    "#selecting the cells within the relavent timeframe\n",
    "hp_data=hp_data[hp_data['Year']=='Year ending Dec 2017']\n",
    "\n",
    "#selecting the mean values\n",
    "hp_data=hp_data[hp_data['Measure']=='Mean']\n",
    "hp_data=hp_data[hp_data['Value']!='-']\n",
    "hp_data=hp_data.rename(columns={'Code':'RegionalCode'})\n",
    "\n",
    "#checking for any unwanted duplicates in the code columns\n",
    "mask=hp_data.groupby('RegionalCode').count()['Value']!=1\n",
    "hp_data.groupby('RegionalCode').count()['Value'][mask]\n",
    "\n",
    "#selecting relevant columns in the london geo dataset\n",
    "filtered_geo=geo_data[['Latitude','Longitude','District','Ward','Ward Code','Distance to station','Index of Multiple Deprivation', 'Quality']]\n"
   ]
  },
  {
   "cell_type": "code",
   "execution_count": 7,
   "metadata": {},
   "outputs": [],
   "source": [
    "#renaming the code column for inner join\n",
    "filtered_geo=filtered_geo.rename(columns={'Ward Code':'RegionalCode'})\n",
    "#merging the two datasets using inner join\n",
    "merged_df=pd.merge(filtered_geo,\n",
    "         hp_data[['RegionalCode','Value']],\n",
    "         on='RegionalCode')"
   ]
  },
  {
   "cell_type": "code",
   "execution_count": 20,
   "metadata": {},
   "outputs": [
    {
     "data": {
      "text/plain": [
       "((273567, 9), 527)"
      ]
     },
     "execution_count": 20,
     "metadata": {},
     "output_type": "execute_result"
    }
   ],
   "source": [
    "merged_df.shape, len(merged_df.Ward.unique())"
   ]
  },
  {
   "cell_type": "markdown",
   "metadata": {},
   "source": [
    "The dataset seems quite lengthy. Let's see if there is anything we could do about it."
   ]
  },
  {
   "cell_type": "code",
   "execution_count": 13,
   "metadata": {
    "scrolled": true
   },
   "outputs": [
    {
     "data": {
      "text/html": [
       "<div>\n",
       "<style scoped>\n",
       "    .dataframe tbody tr th:only-of-type {\n",
       "        vertical-align: middle;\n",
       "    }\n",
       "\n",
       "    .dataframe tbody tr th {\n",
       "        vertical-align: top;\n",
       "    }\n",
       "\n",
       "    .dataframe thead th {\n",
       "        text-align: right;\n",
       "    }\n",
       "</style>\n",
       "<table border=\"1\" class=\"dataframe\">\n",
       "  <thead>\n",
       "    <tr style=\"text-align: right;\">\n",
       "      <th></th>\n",
       "      <th>Latitude</th>\n",
       "      <th>Longitude</th>\n",
       "      <th>District</th>\n",
       "      <th>Ward</th>\n",
       "      <th>RegionalCode</th>\n",
       "      <th>Distance to station</th>\n",
       "      <th>Index of Multiple Deprivation</th>\n",
       "      <th>Quality</th>\n",
       "      <th>Value</th>\n",
       "    </tr>\n",
       "  </thead>\n",
       "  <tbody>\n",
       "    <tr>\n",
       "      <th>0</th>\n",
       "      <td>51.401546</td>\n",
       "      <td>0.015415</td>\n",
       "      <td>Bromley</td>\n",
       "      <td>Bromley Town</td>\n",
       "      <td>E05000109</td>\n",
       "      <td>0.218257</td>\n",
       "      <td>20532</td>\n",
       "      <td>1</td>\n",
       "      <td>469,534</td>\n",
       "    </tr>\n",
       "    <tr>\n",
       "      <th>1</th>\n",
       "      <td>51.406333</td>\n",
       "      <td>0.015208</td>\n",
       "      <td>Bromley</td>\n",
       "      <td>Bromley Town</td>\n",
       "      <td>E05000109</td>\n",
       "      <td>0.253666</td>\n",
       "      <td>10169</td>\n",
       "      <td>1</td>\n",
       "      <td>469,534</td>\n",
       "    </tr>\n",
       "    <tr>\n",
       "      <th>2</th>\n",
       "      <td>51.400057</td>\n",
       "      <td>0.016715</td>\n",
       "      <td>Bromley</td>\n",
       "      <td>Bromley Town</td>\n",
       "      <td>E05000109</td>\n",
       "      <td>0.044559</td>\n",
       "      <td>20532</td>\n",
       "      <td>1</td>\n",
       "      <td>469,534</td>\n",
       "    </tr>\n",
       "    <tr>\n",
       "      <th>3</th>\n",
       "      <td>51.404543</td>\n",
       "      <td>0.014195</td>\n",
       "      <td>Bromley</td>\n",
       "      <td>Bromley Town</td>\n",
       "      <td>E05000109</td>\n",
       "      <td>0.462939</td>\n",
       "      <td>19350</td>\n",
       "      <td>1</td>\n",
       "      <td>469,534</td>\n",
       "    </tr>\n",
       "    <tr>\n",
       "      <th>4</th>\n",
       "      <td>51.401392</td>\n",
       "      <td>0.014948</td>\n",
       "      <td>Bromley</td>\n",
       "      <td>Bromley Town</td>\n",
       "      <td>E05000109</td>\n",
       "      <td>0.227664</td>\n",
       "      <td>20532</td>\n",
       "      <td>1</td>\n",
       "      <td>469,534</td>\n",
       "    </tr>\n",
       "  </tbody>\n",
       "</table>\n",
       "</div>"
      ],
      "text/plain": [
       "    Latitude  Longitude District          Ward RegionalCode  \\\n",
       "0  51.401546   0.015415  Bromley  Bromley Town    E05000109   \n",
       "1  51.406333   0.015208  Bromley  Bromley Town    E05000109   \n",
       "2  51.400057   0.016715  Bromley  Bromley Town    E05000109   \n",
       "3  51.404543   0.014195  Bromley  Bromley Town    E05000109   \n",
       "4  51.401392   0.014948  Bromley  Bromley Town    E05000109   \n",
       "\n",
       "   Distance to station  Index of Multiple Deprivation  Quality    Value  \n",
       "0             0.218257                          20532        1  469,534  \n",
       "1             0.253666                          10169        1  469,534  \n",
       "2             0.044559                          20532        1  469,534  \n",
       "3             0.462939                          19350        1  469,534  \n",
       "4             0.227664                          20532        1  469,534  "
      ]
     },
     "execution_count": 13,
     "metadata": {},
     "output_type": "execute_result"
    }
   ],
   "source": [
    "merged_df.head()"
   ]
  },
  {
   "cell_type": "markdown",
   "metadata": {},
   "source": [
    "It seems like the latitude and longitude values are very precise which narrow down wards into \n",
    "very specific areas, which to some extent, is a good thing. However, if these areas are too specific,as it might result in duplications when we fetch nearby venue data."
   ]
  },
  {
   "cell_type": "code",
   "execution_count": 14,
   "metadata": {},
   "outputs": [
    {
     "data": {
      "text/plain": [
       "81752"
      ]
     },
     "execution_count": 14,
     "metadata": {},
     "output_type": "execute_result"
    }
   ],
   "source": [
    "#Let's first shorten the dataframe by rounding the geo coordinates to 3 decimal places.\n",
    "merged_df_1=merged_df.round(3)\n",
    "len(merged_df_1.groupby(['Latitude','Longitude']).count())"
   ]
  },
  {
   "cell_type": "markdown",
   "metadata": {},
   "source": [
    "Although the dataframe is now shorter than the original one, we still have 81752 rows. This will result in significant computation time when we later use Foursquare API to fetch venue data for each row. Therefore, we shall try shortening it further by rounding up to 2 decimal places as this is also the standard format used in Foursquare API."
   ]
  },
  {
   "cell_type": "code",
   "execution_count": 15,
   "metadata": {},
   "outputs": [
    {
     "data": {
      "text/plain": [
       "1809"
      ]
     },
     "execution_count": 15,
     "metadata": {},
     "output_type": "execute_result"
    }
   ],
   "source": [
    "merged_df=merged_df.round(2)\n",
    "len(merged_df.groupby(['Latitude','Longitude']).count())"
   ]
  },
  {
   "cell_type": "markdown",
   "metadata": {},
   "source": [
    "Now this is much shorter."
   ]
  },
  {
   "cell_type": "code",
   "execution_count": 16,
   "metadata": {},
   "outputs": [],
   "source": [
    "#Removing the ',' and converting the price value into float\n",
    "merged_df['Value']=merged_df['Value'].replace(',','',regex=True).astype('float64')\n",
    "#identifying the unique price value for each coordinate\n",
    "grouped_df=merged_df.groupby(['Latitude','Longitude']).mean().reset_index()\n",
    "\n",
    "#Grouping regional code by geographical coordinates and use set() to find the unique value\n",
    "RC=merged_df.groupby(['Latitude','Longitude'])['RegionalCode'].apply(lambda x: set(x.tolist()))\n",
    "#converting set into list and selecting the first item in the list\n",
    "RC_list=[]\n",
    "for i in RC:\n",
    "    RC_list.append(list(i))\n",
    "    \n",
    "Code=[]\n",
    "for i in range(len(RC_list)):\n",
    "    Code.append(RC_list[i][0])    \n",
    "\n",
    "#appending the areacode to the grouped_df\n",
    "grouped_df['Code']=Code"
   ]
  },
  {
   "cell_type": "code",
   "execution_count": 17,
   "metadata": {},
   "outputs": [
    {
     "data": {
      "text/html": [
       "<div>\n",
       "<style scoped>\n",
       "    .dataframe tbody tr th:only-of-type {\n",
       "        vertical-align: middle;\n",
       "    }\n",
       "\n",
       "    .dataframe tbody tr th {\n",
       "        vertical-align: top;\n",
       "    }\n",
       "\n",
       "    .dataframe thead th {\n",
       "        text-align: right;\n",
       "    }\n",
       "</style>\n",
       "<table border=\"1\" class=\"dataframe\">\n",
       "  <thead>\n",
       "    <tr style=\"text-align: right;\">\n",
       "      <th></th>\n",
       "      <th>Latitude</th>\n",
       "      <th>Longitude</th>\n",
       "      <th>Distance to station</th>\n",
       "      <th>Index of Multiple Deprivation</th>\n",
       "      <th>Quality</th>\n",
       "      <th>Value</th>\n",
       "      <th>Code</th>\n",
       "    </tr>\n",
       "  </thead>\n",
       "  <tbody>\n",
       "    <tr>\n",
       "      <th>0</th>\n",
       "      <td>51.29</td>\n",
       "      <td>0.06</td>\n",
       "      <td>6.12000</td>\n",
       "      <td>19725.00</td>\n",
       "      <td>1.00</td>\n",
       "      <td>575544.0</td>\n",
       "      <td>E05000117</td>\n",
       "    </tr>\n",
       "    <tr>\n",
       "      <th>1</th>\n",
       "      <td>51.29</td>\n",
       "      <td>0.07</td>\n",
       "      <td>6.75500</td>\n",
       "      <td>19725.00</td>\n",
       "      <td>1.00</td>\n",
       "      <td>575544.0</td>\n",
       "      <td>E05000117</td>\n",
       "    </tr>\n",
       "    <tr>\n",
       "      <th>2</th>\n",
       "      <td>51.30</td>\n",
       "      <td>0.02</td>\n",
       "      <td>5.05000</td>\n",
       "      <td>23230.00</td>\n",
       "      <td>2.00</td>\n",
       "      <td>378844.0</td>\n",
       "      <td>E05000107</td>\n",
       "    </tr>\n",
       "    <tr>\n",
       "      <th>3</th>\n",
       "      <td>51.30</td>\n",
       "      <td>0.03</td>\n",
       "      <td>5.28000</td>\n",
       "      <td>25924.00</td>\n",
       "      <td>1.00</td>\n",
       "      <td>378844.0</td>\n",
       "      <td>E05000107</td>\n",
       "    </tr>\n",
       "    <tr>\n",
       "      <th>4</th>\n",
       "      <td>51.30</td>\n",
       "      <td>0.04</td>\n",
       "      <td>5.90625</td>\n",
       "      <td>20161.75</td>\n",
       "      <td>2.75</td>\n",
       "      <td>526369.0</td>\n",
       "      <td>E05000107</td>\n",
       "    </tr>\n",
       "  </tbody>\n",
       "</table>\n",
       "</div>"
      ],
      "text/plain": [
       "   Latitude  Longitude  Distance to station  Index of Multiple Deprivation  \\\n",
       "0     51.29       0.06              6.12000                       19725.00   \n",
       "1     51.29       0.07              6.75500                       19725.00   \n",
       "2     51.30       0.02              5.05000                       23230.00   \n",
       "3     51.30       0.03              5.28000                       25924.00   \n",
       "4     51.30       0.04              5.90625                       20161.75   \n",
       "\n",
       "   Quality     Value       Code  \n",
       "0     1.00  575544.0  E05000117  \n",
       "1     1.00  575544.0  E05000117  \n",
       "2     2.00  378844.0  E05000107  \n",
       "3     1.00  378844.0  E05000107  \n",
       "4     2.75  526369.0  E05000107  "
      ]
     },
     "execution_count": 17,
     "metadata": {},
     "output_type": "execute_result"
    }
   ],
   "source": [
    "grouped_df.head()"
   ]
  },
  {
   "cell_type": "code",
   "execution_count": 18,
   "metadata": {},
   "outputs": [
    {
     "data": {
      "text/plain": [
       "(1809, 7)"
      ]
     },
     "execution_count": 18,
     "metadata": {},
     "output_type": "execute_result"
    }
   ],
   "source": [
    "#checking if there is any null value\n",
    "grouped_df.dropna().shape"
   ]
  },
  {
   "cell_type": "code",
   "execution_count": null,
   "metadata": {},
   "outputs": [],
   "source": []
  },
  {
   "cell_type": "markdown",
   "metadata": {},
   "source": [
    "Now we have merged and shortened the length of the housing price and london geo dataset. Before moving on to source venue data, we shall now carry out exploratory data analysis on the existing feature and target variables for feature selection."
   ]
  },
  {
   "cell_type": "markdown",
   "metadata": {},
   "source": [
    "### Exploratory Data Analysis"
   ]
  },
  {
   "cell_type": "markdown",
   "metadata": {},
   "source": [
    "Existing candidate feature variables: Distance to Station,Index of Multiple Deprivation, Quality Rating"
   ]
  },
  {
   "cell_type": "code",
   "execution_count": 19,
   "metadata": {},
   "outputs": [
    {
     "data": {
      "text/plain": [
       "count    1.809000e+03\n",
       "mean     5.760560e+05\n",
       "std      3.300926e+05\n",
       "min      2.597843e+05\n",
       "25%      3.915780e+05\n",
       "50%      5.045091e+05\n",
       "75%      6.296551e+05\n",
       "max      3.592899e+06\n",
       "Name: Value, dtype: float64"
      ]
     },
     "execution_count": 19,
     "metadata": {},
     "output_type": "execute_result"
    }
   ],
   "source": [
    "#descriptive stats summary of house prices\n",
    "grouped_df['Value'].describe()"
   ]
  },
  {
   "cell_type": "code",
   "execution_count": 20,
   "metadata": {},
   "outputs": [],
   "source": [
    "import seaborn as sns\n",
    "from scipy.stats import norm\n",
    "from scipy import stats\n",
    "\n",
    "%matplotlib inline\n",
    "import matplotlib.pyplot as plt"
   ]
  },
  {
   "cell_type": "code",
   "execution_count": 21,
   "metadata": {},
   "outputs": [
    {
     "name": "stderr",
     "output_type": "stream",
     "text": [
      "C:\\Users\\helen\\AppData\\Local\\Continuum\\anaconda3\\lib\\site-packages\\matplotlib\\axes\\_axes.py:6462: UserWarning: The 'normed' kwarg is deprecated, and has been replaced by the 'density' kwarg.\n",
      "  warnings.warn(\"The 'normed' kwarg is deprecated, and has been \"\n"
     ]
    },
    {
     "data": {
      "image/png": "[encoded data removed]",
      "text/plain": [
       "<Figure size 432x288 with 1 Axes>"
      ]
     },
     "metadata": {},
     "output_type": "display_data"
    },
    {
     "data": {
      "image/png": "[encoded data removed]",
      "text/plain": [
       "<Figure size 432x288 with 1 Axes>"
      ]
     },
     "metadata": {},
     "output_type": "display_data"
    }
   ],
   "source": [
    "# histogram and normal probability plot\n",
    "sns.distplot(grouped_df['Value'],fit=norm)\n",
    "fig=plt.figure()\n",
    "res=stats.probplot(grouped_df['Value'],plot=plt)"
   ]
  },
  {
   "cell_type": "markdown",
   "metadata": {},
   "source": [
    "From the above distribution plot, we could see the price value deviate from normal distribution with positive skewness and high peakedness. Let's find out more about it."
   ]
  },
  {
   "cell_type": "code",
   "execution_count": 22,
   "metadata": {},
   "outputs": [
    {
     "name": "stdout",
     "output_type": "stream",
     "text": [
      "Skewness: 3.790724\n",
      "Kurtosis: 20.985509\n"
     ]
    }
   ],
   "source": [
    "\n",
    "print(\"Skewness: %f\" % grouped_df['Value'].skew())\n",
    "print(\"Kurtosis: %f\" % grouped_df['Value'].kurt())"
   ]
  },
  {
   "cell_type": "markdown",
   "metadata": {},
   "source": [
    "The skewness and kurtosis seems to be quite high. There are quite a few outliers above the 3000000 price point, let's see what we could do about it."
   ]
  },
  {
   "cell_type": "code",
   "execution_count": 23,
   "metadata": {},
   "outputs": [
    {
     "data": {
      "text/html": [
       "<div>\n",
       "<style scoped>\n",
       "    .dataframe tbody tr th:only-of-type {\n",
       "        vertical-align: middle;\n",
       "    }\n",
       "\n",
       "    .dataframe tbody tr th {\n",
       "        vertical-align: top;\n",
       "    }\n",
       "\n",
       "    .dataframe thead th {\n",
       "        text-align: right;\n",
       "    }\n",
       "</style>\n",
       "<table border=\"1\" class=\"dataframe\">\n",
       "  <thead>\n",
       "    <tr style=\"text-align: right;\">\n",
       "      <th></th>\n",
       "      <th>Latitude</th>\n",
       "      <th>Longitude</th>\n",
       "      <th>Distance to station</th>\n",
       "      <th>Index of Multiple Deprivation</th>\n",
       "      <th>Quality</th>\n",
       "      <th>Value</th>\n",
       "      <th>Code</th>\n",
       "    </tr>\n",
       "  </thead>\n",
       "  <tbody>\n",
       "    <tr>\n",
       "      <th>803</th>\n",
       "      <td>51.50</td>\n",
       "      <td>-0.15</td>\n",
       "      <td>0.300512</td>\n",
       "      <td>20916.108607</td>\n",
       "      <td>3.229508</td>\n",
       "      <td>3.592899e+06</td>\n",
       "      <td>E05000649</td>\n",
       "    </tr>\n",
       "    <tr>\n",
       "      <th>802</th>\n",
       "      <td>51.50</td>\n",
       "      <td>-0.16</td>\n",
       "      <td>0.324634</td>\n",
       "      <td>19207.815287</td>\n",
       "      <td>3.514331</td>\n",
       "      <td>3.530269e+06</td>\n",
       "      <td>E05009389</td>\n",
       "    </tr>\n",
       "    <tr>\n",
       "      <th>801</th>\n",
       "      <td>51.50</td>\n",
       "      <td>-0.17</td>\n",
       "      <td>0.478341</td>\n",
       "      <td>22730.391053</td>\n",
       "      <td>2.445887</td>\n",
       "      <td>3.368490e+06</td>\n",
       "      <td>E05009389</td>\n",
       "    </tr>\n",
       "    <tr>\n",
       "      <th>861</th>\n",
       "      <td>51.51</td>\n",
       "      <td>-0.15</td>\n",
       "      <td>0.326796</td>\n",
       "      <td>17618.875611</td>\n",
       "      <td>2.090496</td>\n",
       "      <td>3.027784e+06</td>\n",
       "      <td>E05000641</td>\n",
       "    </tr>\n",
       "    <tr>\n",
       "      <th>862</th>\n",
       "      <td>51.51</td>\n",
       "      <td>-0.14</td>\n",
       "      <td>0.289710</td>\n",
       "      <td>13002.229489</td>\n",
       "      <td>2.453270</td>\n",
       "      <td>2.912742e+06</td>\n",
       "      <td>E05000649</td>\n",
       "    </tr>\n",
       "  </tbody>\n",
       "</table>\n",
       "</div>"
      ],
      "text/plain": [
       "     Latitude  Longitude  Distance to station  Index of Multiple Deprivation  \\\n",
       "803     51.50      -0.15             0.300512                   20916.108607   \n",
       "802     51.50      -0.16             0.324634                   19207.815287   \n",
       "801     51.50      -0.17             0.478341                   22730.391053   \n",
       "861     51.51      -0.15             0.326796                   17618.875611   \n",
       "862     51.51      -0.14             0.289710                   13002.229489   \n",
       "\n",
       "      Quality         Value       Code  \n",
       "803  3.229508  3.592899e+06  E05000649  \n",
       "802  3.514331  3.530269e+06  E05009389  \n",
       "801  2.445887  3.368490e+06  E05009389  \n",
       "861  2.090496  3.027784e+06  E05000641  \n",
       "862  2.453270  2.912742e+06  E05000649  "
      ]
     },
     "execution_count": 23,
     "metadata": {},
     "output_type": "execute_result"
    }
   ],
   "source": [
    "grouped_df.sort_values(by='Value',ascending=False).head()"
   ]
  },
  {
   "cell_type": "code",
   "execution_count": 24,
   "metadata": {},
   "outputs": [
    {
     "data": {
      "text/html": [
       "<div>\n",
       "<style scoped>\n",
       "    .dataframe tbody tr th:only-of-type {\n",
       "        vertical-align: middle;\n",
       "    }\n",
       "\n",
       "    .dataframe tbody tr th {\n",
       "        vertical-align: top;\n",
       "    }\n",
       "\n",
       "    .dataframe thead th {\n",
       "        text-align: right;\n",
       "    }\n",
       "</style>\n",
       "<table border=\"1\" class=\"dataframe\">\n",
       "  <thead>\n",
       "    <tr style=\"text-align: right;\">\n",
       "      <th></th>\n",
       "      <th>Latitude</th>\n",
       "      <th>Longitude</th>\n",
       "      <th>Distance to station</th>\n",
       "      <th>Index of Multiple Deprivation</th>\n",
       "      <th>Quality</th>\n",
       "      <th>Value</th>\n",
       "      <th>Code</th>\n",
       "    </tr>\n",
       "  </thead>\n",
       "  <tbody>\n",
       "    <tr>\n",
       "      <th>862</th>\n",
       "      <td>51.51</td>\n",
       "      <td>-0.14</td>\n",
       "      <td>0.289710</td>\n",
       "      <td>13002.229489</td>\n",
       "      <td>2.453270</td>\n",
       "      <td>2.912742e+06</td>\n",
       "      <td>E05000649</td>\n",
       "    </tr>\n",
       "    <tr>\n",
       "      <th>930</th>\n",
       "      <td>51.52</td>\n",
       "      <td>-0.15</td>\n",
       "      <td>0.397691</td>\n",
       "      <td>19451.257855</td>\n",
       "      <td>1.874317</td>\n",
       "      <td>2.861943e+06</td>\n",
       "      <td>E05000641</td>\n",
       "    </tr>\n",
       "    <tr>\n",
       "      <th>800</th>\n",
       "      <td>51.50</td>\n",
       "      <td>-0.18</td>\n",
       "      <td>0.446319</td>\n",
       "      <td>22561.076389</td>\n",
       "      <td>2.885417</td>\n",
       "      <td>2.653591e+06</td>\n",
       "      <td>E05009401</td>\n",
       "    </tr>\n",
       "    <tr>\n",
       "      <th>799</th>\n",
       "      <td>51.50</td>\n",
       "      <td>-0.19</td>\n",
       "      <td>0.293217</td>\n",
       "      <td>21941.395221</td>\n",
       "      <td>2.983456</td>\n",
       "      <td>2.618896e+06</td>\n",
       "      <td>E05009390</td>\n",
       "    </tr>\n",
       "    <tr>\n",
       "      <th>860</th>\n",
       "      <td>51.51</td>\n",
       "      <td>-0.16</td>\n",
       "      <td>0.236474</td>\n",
       "      <td>16917.021053</td>\n",
       "      <td>2.121053</td>\n",
       "      <td>2.454139e+06</td>\n",
       "      <td>E05000632</td>\n",
       "    </tr>\n",
       "  </tbody>\n",
       "</table>\n",
       "</div>"
      ],
      "text/plain": [
       "     Latitude  Longitude  Distance to station  Index of Multiple Deprivation  \\\n",
       "862     51.51      -0.14             0.289710                   13002.229489   \n",
       "930     51.52      -0.15             0.397691                   19451.257855   \n",
       "800     51.50      -0.18             0.446319                   22561.076389   \n",
       "799     51.50      -0.19             0.293217                   21941.395221   \n",
       "860     51.51      -0.16             0.236474                   16917.021053   \n",
       "\n",
       "      Quality         Value       Code  \n",
       "862  2.453270  2.912742e+06  E05000649  \n",
       "930  1.874317  2.861943e+06  E05000641  \n",
       "800  2.885417  2.653591e+06  E05009401  \n",
       "799  2.983456  2.618896e+06  E05009390  \n",
       "860  2.121053  2.454139e+06  E05000632  "
      ]
     },
     "execution_count": 24,
     "metadata": {},
     "output_type": "execute_result"
    }
   ],
   "source": [
    "#Dropping the four outliers\n",
    "filtered_df=grouped_df.drop(grouped_df[grouped_df['Value']>3000000].index)\n",
    "#Checking if the outliers are dropped correctly\n",
    "filtered_df.sort_values(by='Value',ascending=False).head()"
   ]
  },
  {
   "cell_type": "code",
   "execution_count": 25,
   "metadata": {},
   "outputs": [
    {
     "name": "stderr",
     "output_type": "stream",
     "text": [
      "C:\\Users\\helen\\AppData\\Local\\Continuum\\anaconda3\\lib\\site-packages\\matplotlib\\axes\\_axes.py:6462: UserWarning: The 'normed' kwarg is deprecated, and has been replaced by the 'density' kwarg.\n",
      "  warnings.warn(\"The 'normed' kwarg is deprecated, and has been \"\n"
     ]
    },
    {
     "data": {
      "image/png": "[encoded data removed]",
      "text/plain": [
       "<Figure size 432x288 with 1 Axes>"
      ]
     },
     "metadata": {},
     "output_type": "display_data"
    },
    {
     "data": {
      "image/png": "[encoded data removed]",
      "text/plain": [
       "<Figure size 432x288 with 1 Axes>"
      ]
     },
     "metadata": {},
     "output_type": "display_data"
    }
   ],
   "source": [
    "#plotting the distribution again\n",
    "\n",
    "sns.distplot(filtered_df['Value'],fit=norm)\n",
    "fig=plt.figure()\n",
    "res=stats.probplot(filtered_df['Value'],plot=plt)"
   ]
  },
  {
   "cell_type": "code",
   "execution_count": 26,
   "metadata": {},
   "outputs": [
    {
     "name": "stderr",
     "output_type": "stream",
     "text": [
      "C:\\Users\\helen\\AppData\\Local\\Continuum\\anaconda3\\lib\\site-packages\\matplotlib\\axes\\_axes.py:6462: UserWarning: The 'normed' kwarg is deprecated, and has been replaced by the 'density' kwarg.\n",
      "  warnings.warn(\"The 'normed' kwarg is deprecated, and has been \"\n"
     ]
    },
    {
     "data": {
      "image/png": "[encoded data removed]",
      "text/plain": [
       "<Figure size 432x288 with 1 Axes>"
      ]
     },
     "metadata": {},
     "output_type": "display_data"
    },
    {
     "data": {
      "image/png": "[encoded data removed]",
      "text/plain": [
       "<Figure size 432x288 with 1 Axes>"
      ]
     },
     "metadata": {},
     "output_type": "display_data"
    }
   ],
   "source": [
    "#Before removing any more outliers,let's check the logtransfomred plot\n",
    "transformed_price=np.log(filtered_df['Value'])\n",
    "sns.distplot(transformed_price,fit=norm)\n",
    "fig=plt.figure()\n",
    "res=stats.probplot(transformed_price,plot=plt)"
   ]
  },
  {
   "cell_type": "markdown",
   "metadata": {},
   "source": [
    "Despite the relatively poor fit at the outer range,the distribution now looks a lot similar to the normal probability plot compared to the initial plot. We shall leave it for now as we might loose some important information if we remove too many outer range values. \n",
    "\n",
    "We shall now move on to examine our candidate features."
   ]
  },
  {
   "cell_type": "code",
   "execution_count": 27,
   "metadata": {},
   "outputs": [
    {
     "data": {
      "text/plain": [
       "<matplotlib.axes._subplots.AxesSubplot at 0x24bc03a7e80>"
      ]
     },
     "execution_count": 27,
     "metadata": {},
     "output_type": "execute_result"
    },
    {
     "data": {
      "image/png": "[encoded data removed]",
      "text/plain": [
       "<Figure size 432x288 with 1 Axes>"
      ]
     },
     "metadata": {},
     "output_type": "display_data"
    }
   ],
   "source": [
    "##Examining our first variable：Distance to Station\n",
    "var='Distance to station'\n",
    "data=pd.concat([transformed_price,np.log(filtered_df[var])],axis=1)\n",
    "data.plot.scatter(x=var,y='Value')"
   ]
  },
  {
   "cell_type": "markdown",
   "metadata": {},
   "source": [
    "Seems like our first candidate variable is not associated with the housing price, we shall exclude it from our model."
   ]
  },
  {
   "cell_type": "code",
   "execution_count": 28,
   "metadata": {},
   "outputs": [
    {
     "data": {
      "text/plain": [
       "<matplotlib.axes._subplots.AxesSubplot at 0x24bc040b6a0>"
      ]
     },
     "execution_count": 28,
     "metadata": {},
     "output_type": "execute_result"
    },
    {
     "data": {
      "image/png": "[encoded data removed]",
      "text/plain": [
       "<Figure size 432x288 with 1 Axes>"
      ]
     },
     "metadata": {},
     "output_type": "display_data"
    }
   ],
   "source": [
    "##Examining the second variable：Index of Multiple Deprivation\n",
    "var='Index of Multiple Deprivation'\n",
    "data=pd.concat([transformed_price,filtered_df[var]],axis=1)\n",
    "data.plot.scatter(x=var,y='Value')"
   ]
  },
  {
   "cell_type": "markdown",
   "metadata": {},
   "source": [
    "Interesting, the second feature variable does appear to be somewhat positively associated with the price value. However, the slope appears to be quite flat, it is possible that they are only weakly associated. Let's examine this variable in more details."
   ]
  },
  {
   "cell_type": "code",
   "execution_count": 29,
   "metadata": {},
   "outputs": [
    {
     "name": "stderr",
     "output_type": "stream",
     "text": [
      "C:\\Users\\helen\\AppData\\Local\\Continuum\\anaconda3\\lib\\site-packages\\matplotlib\\axes\\_axes.py:6462: UserWarning: The 'normed' kwarg is deprecated, and has been replaced by the 'density' kwarg.\n",
      "  warnings.warn(\"The 'normed' kwarg is deprecated, and has been \"\n"
     ]
    },
    {
     "data": {
      "image/png": "[encoded data removed]",
      "text/plain": [
       "<Figure size 432x288 with 1 Axes>"
      ]
     },
     "metadata": {},
     "output_type": "display_data"
    },
    {
     "data": {
      "image/png": "[encoded data removed]",
      "text/plain": [
       "<Figure size 432x288 with 1 Axes>"
      ]
     },
     "metadata": {},
     "output_type": "display_data"
    }
   ],
   "source": [
    "#Distribution Plot of the multiple index of deprivation\n",
    "sns.distplot(filtered_df[var],fit=norm)\n",
    "fig=plt.figure()\n",
    "res=stats.probplot(filtered_df[var],plot=plt)"
   ]
  },
  {
   "cell_type": "code",
   "execution_count": 30,
   "metadata": {},
   "outputs": [
    {
     "name": "stdout",
     "output_type": "stream",
     "text": [
      "Skewness: 0.227680\n",
      "Kurtosis: -1.041539\n"
     ]
    }
   ],
   "source": [
    "\n",
    "print(\"Skewness: %f\" % filtered_df['Index of Multiple Deprivation'].skew())\n",
    "print(\"Kurtosis: %f\" % filtered_df['Index of Multiple Deprivation'].kurt())"
   ]
  },
  {
   "cell_type": "markdown",
   "metadata": {},
   "source": [
    "From the distribution plot, we could see both tails (low end:below 5000; high end: above 30000) of the distribution have contributed to the poor fit. "
   ]
  },
  {
   "cell_type": "code",
   "execution_count": 31,
   "metadata": {},
   "outputs": [
    {
     "data": {
      "text/plain": [
       "1611    32217.000000\n",
       "1342    32122.750000\n",
       "72      31862.000000\n",
       "1200    31793.137652\n",
       "1343    31621.657895\n",
       "223     31508.750000\n",
       "1490    31464.732394\n",
       "53      31201.615385\n",
       "183     31016.984615\n",
       "1199    30947.616667\n",
       "1552    30928.521739\n",
       "224     30918.530303\n",
       "325     30879.741379\n",
       "232     30873.123711\n",
       "1423    30867.921053\n",
       "50      30803.000000\n",
       "1357    30725.145833\n",
       "1274    30724.974359\n",
       "49      30680.307692\n",
       "1551    30672.041667\n",
       "Name: Index of Multiple Deprivation, dtype: float64"
      ]
     },
     "execution_count": 31,
     "metadata": {},
     "output_type": "execute_result"
    }
   ],
   "source": [
    "#We can see that most of the values at the higher end are indeed around 30000. \n",
    "#For the higher end, we shall set the outliers threshold at 30000.\n",
    "filtered_df[var].sort_values(ascending=False).head(20)"
   ]
  },
  {
   "cell_type": "code",
   "execution_count": 32,
   "metadata": {},
   "outputs": [],
   "source": [
    "#dropping the upper outliers\n",
    "filtered_df=filtered_df.drop(filtered_df[filtered_df['Index of Multiple Deprivation']>30000].index)"
   ]
  },
  {
   "cell_type": "markdown",
   "metadata": {},
   "source": [
    "From here we could see there are quite a few under 3000 values and it ranges from 1724.3.\n",
    "To avoid missing important information, \n",
    "we will adopt a more conservative threshold (under 3000) for lower outliers ."
   ]
  },
  {
   "cell_type": "code",
   "execution_count": 33,
   "metadata": {},
   "outputs": [
    {
     "data": {
      "text/plain": [
       "1258    1629.000000\n",
       "363     1921.270270\n",
       "1523    2049.384615\n",
       "1586    2341.278481\n",
       "1691    2438.500000\n",
       "Name: Index of Multiple Deprivation, dtype: float64"
      ]
     },
     "execution_count": 33,
     "metadata": {},
     "output_type": "execute_result"
    }
   ],
   "source": [
    "filtered_df[var].sort_values(ascending=True).head()"
   ]
  },
  {
   "cell_type": "code",
   "execution_count": 34,
   "metadata": {},
   "outputs": [],
   "source": [
    "#dropping the lower outliers\n",
    "filtered_df=filtered_df.drop(filtered_df[filtered_df['Index of Multiple Deprivation']<3000].index)"
   ]
  },
  {
   "cell_type": "code",
   "execution_count": 35,
   "metadata": {},
   "outputs": [
    {
     "name": "stdout",
     "output_type": "stream",
     "text": [
      "Skewness: 0.215889\n",
      "Kurtosis: -1.089910\n"
     ]
    },
    {
     "name": "stderr",
     "output_type": "stream",
     "text": [
      "C:\\Users\\helen\\AppData\\Local\\Continuum\\anaconda3\\lib\\site-packages\\matplotlib\\axes\\_axes.py:6462: UserWarning: The 'normed' kwarg is deprecated, and has been replaced by the 'density' kwarg.\n",
      "  warnings.warn(\"The 'normed' kwarg is deprecated, and has been \"\n"
     ]
    },
    {
     "data": {
      "image/png": "[encoded data removed]",
      "text/plain": [
       "<Figure size 432x288 with 1 Axes>"
      ]
     },
     "metadata": {},
     "output_type": "display_data"
    },
    {
     "data": {
      "image/png": "[encoded data removed]",
      "text/plain": [
       "<Figure size 432x288 with 1 Axes>"
      ]
     },
     "metadata": {},
     "output_type": "display_data"
    }
   ],
   "source": [
    "#Now let's have a look at the distribution again\n",
    "\n",
    "sns.distplot(filtered_df['Index of Multiple Deprivation'], fit=norm)\n",
    "fig=plt.figure()\n",
    "stats.probplot(filtered_df['Index of Multiple Deprivation'], plot=plt)\n",
    "\n",
    "\n",
    "print(\"Skewness: %f\" % filtered_df['Index of Multiple Deprivation'].skew())\n",
    "print(\"Kurtosis: %f\" % filtered_df['Index of Multiple Deprivation'].kurt())"
   ]
  },
  {
   "cell_type": "markdown",
   "metadata": {},
   "source": [
    "Although removing outliers did slightly reduce the skewness, the fit is still relatively poor at the end. However, before removing any more data, we shall examine the distribution again with log-transformed data."
   ]
  },
  {
   "cell_type": "code",
   "execution_count": 36,
   "metadata": {},
   "outputs": [
    {
     "name": "stderr",
     "output_type": "stream",
     "text": [
      "C:\\Users\\helen\\AppData\\Local\\Continuum\\anaconda3\\lib\\site-packages\\matplotlib\\axes\\_axes.py:6462: UserWarning: The 'normed' kwarg is deprecated, and has been replaced by the 'density' kwarg.\n",
      "  warnings.warn(\"The 'normed' kwarg is deprecated, and has been \"\n"
     ]
    },
    {
     "name": "stdout",
     "output_type": "stream",
     "text": [
      "Skewness: -0.675117\n",
      "Kurtosis: -0.262856\n"
     ]
    },
    {
     "data": {
      "image/png": "[encoded data removed]",
      "text/plain": [
       "<Figure size 432x288 with 1 Axes>"
      ]
     },
     "metadata": {},
     "output_type": "display_data"
    },
    {
     "data": {
      "image/png": "[encoded data removed]",
      "text/plain": [
       "<Figure size 432x288 with 1 Axes>"
      ]
     },
     "metadata": {},
     "output_type": "display_data"
    }
   ],
   "source": [
    "log_index=np.log(filtered_df['Index of Multiple Deprivation'])\n",
    "sns.distplot(log_index, fit=norm)\n",
    "fig=plt.figure()\n",
    "stats.probplot(log_index, plot=plt)\n",
    "\n",
    "\n",
    "print(\"Skewness: %f\" % np.log(log_index).skew())\n",
    "print(\"Kurtosis: %f\" % np.log(log_index).kurt())"
   ]
  },
  {
   "cell_type": "markdown",
   "metadata": {},
   "source": [
    "It does fit the normal distribution better now but the upper range is a bit off. We shall not remove any outliers for now.\n",
    "Let's examine its association with price value again."
   ]
  },
  {
   "cell_type": "code",
   "execution_count": 37,
   "metadata": {},
   "outputs": [
    {
     "data": {
      "text/plain": [
       "<matplotlib.axes._subplots.AxesSubplot at 0x24bc0bf9e10>"
      ]
     },
     "execution_count": 37,
     "metadata": {},
     "output_type": "execute_result"
    },
    {
     "data": {
      "image/png": "[encoded data removed]",
      "text/plain": [
       "<Figure size 432x288 with 1 Axes>"
      ]
     },
     "metadata": {},
     "output_type": "display_data"
    }
   ],
   "source": [
    "data=pd.concat([np.log(filtered_df['Index of Multiple Deprivation']), np.log(filtered_df['Value'])],axis=1)\n",
    "data.plot.scatter(x='Index of Multiple Deprivation',y='Value')"
   ]
  },
  {
   "cell_type": "code",
   "execution_count": 38,
   "metadata": {},
   "outputs": [
    {
     "data": {
      "text/plain": [
       "LinregressResult(slope=0.26339920621949625, intercept=10.65088513291543, rvalue=0.35541104373011984, pvalue=5.451140092383792e-53, stderr=0.01661157045286623)"
      ]
     },
     "execution_count": 38,
     "metadata": {},
     "output_type": "execute_result"
    }
   ],
   "source": [
    "from scipy.stats import linregress\n",
    "linregress(log_index, np.log(filtered_df['Value']))"
   ]
  },
  {
   "cell_type": "markdown",
   "metadata": {},
   "source": [
    "From the results above, we could see the deprivation index is indeed significantly and positively correlated with the price value. Therefore, we will keep it as our feature variable."
   ]
  },
  {
   "cell_type": "code",
   "execution_count": 39,
   "metadata": {},
   "outputs": [
    {
     "data": {
      "text/plain": [
       "<matplotlib.axes._subplots.AxesSubplot at 0x24bc00e4048>"
      ]
     },
     "execution_count": 39,
     "metadata": {},
     "output_type": "execute_result"
    },
    {
     "data": {
      "image/png": "[encoded data removed]",
      "text/plain": [
       "<Figure size 432x288 with 1 Axes>"
      ]
     },
     "metadata": {},
     "output_type": "display_data"
    }
   ],
   "source": [
    "#Now move on the third candidate variable:Quality rating\n",
    "var='Quality'\n",
    "data=pd.concat([transformed_price,np.log(filtered_df[var])],axis=1)\n",
    "data.plot.scatter(x=var,y='Value')"
   ]
  },
  {
   "cell_type": "markdown",
   "metadata": {},
   "source": [
    "As shown above, the quality rating failed to provide any meaningful information about the price value, therefore, it will not be included in the modelling stage. Taken together, among the three candiate variables, only the depreivation index is retained as the feature variable. We shall now move on to source venue data using Foursquare API."
   ]
  },
  {
   "cell_type": "code",
   "execution_count": 40,
   "metadata": {},
   "outputs": [],
   "source": [
    "def getNearbyVenues(area_code,price,deprivation_index,latitude,longitude,radius=500):\n",
    "    \n",
    "    venues_list=[]\n",
    "    for area_code,price,index,lat, lng in zip(area_code,price,deprivation_index,latitude,longitude):\n",
    "            \n",
    "        # create the API request URL\n",
    "        url = 'https://api.foursquare.com/v2/venues/explore?&client_id={}&client_secret={}&v={}&ll={},{}&radius={}&limit={}'.format(\n",
    "            CLIENT_ID, \n",
    "            CLIENT_SECRET, \n",
    "            VERSION, \n",
    "            lat, \n",
    "            lng, \n",
    "            radius, \n",
    "            LIMIT)\n",
    "            \n",
    "        # make the GET request\n",
    "        for i in range(3):\n",
    "            response = requests.get(url).json()['response']\n",
    "            \n",
    "            if response.get('groups'):\n",
    "                results = response['groups'][0]['items']\n",
    "                break\n",
    "                \n",
    "            print('repeating')\n",
    "            \n",
    "        if not response.get('groups'):\n",
    "            continue\n",
    "                \n",
    "        venues_list.append([(\n",
    "            area_code,\n",
    "            price,\n",
    "            index,\n",
    "            lat, \n",
    "            lng, \n",
    "            v['venue']['name'],\n",
    "            v['venue']['id'],\n",
    "            v['venue']['location']['lat'], \n",
    "            v['venue']['location']['lng'],\n",
    "            v['venue']['categories'][0]['name']) for v in results])\n",
    "\n",
    "    nearby_venues = pd.DataFrame([item for venue_list in venues_list for item in venue_list])\n",
    "    nearby_venues.columns = [ \n",
    "                  'Code',\n",
    "                  'Price',\n",
    "                  'Deprivation_index',\n",
    "                  'District Latitude', \n",
    "                  'District Longitude',\n",
    "                  'Venue',\n",
    "                  'Venue ID', \n",
    "                  'Venue Latitude', \n",
    "                  'Venue Longitude', \n",
    "                  'Venue Category']\n",
    "    \n",
    "    return(nearby_venues)\n",
    "\n"
   ]
  },
  {
   "cell_type": "code",
   "execution_count": 41,
   "metadata": {},
   "outputs": [],
   "source": [
    "\n",
    "\n",
    "    \n",
    "CLIENT_ID='JRMAOQ23QH2AR2G01QNCFARI5IKTISMVT2PHM3D0DXKGHF5N'\n",
    "CLIENT_SECRET='M1P2CGJKPR0J1N1GMUV0P5CH1BGLFD3SHIPP4YTOFQ4NTATE'\n",
    "VERSION = '20190128'\n",
    "LIMIT=100\n",
    "\n",
    "    "
   ]
  },
  {
   "cell_type": "code",
   "execution_count": 42,
   "metadata": {},
   "outputs": [
    {
     "name": "stdout",
     "output_type": "stream",
     "text": [
      "repeating\n"
     ]
    }
   ],
   "source": [
    "London_venues=getNearbyVenues(area_code=filtered_df['Code'],\n",
    "                              price=np.log(filtered_df['Value']),\n",
    "                              deprivation_index=np.log(filtered_df['Index of Multiple Deprivation']),\n",
    "                              latitude=filtered_df['Latitude'],\n",
    "                              longitude=filtered_df['Longitude'])\n",
    "\n"
   ]
  },
  {
   "cell_type": "code",
   "execution_count": 43,
   "metadata": {},
   "outputs": [
    {
     "data": {
      "text/html": [
       "<div>\n",
       "<style scoped>\n",
       "    .dataframe tbody tr th:only-of-type {\n",
       "        vertical-align: middle;\n",
       "    }\n",
       "\n",
       "    .dataframe tbody tr th {\n",
       "        vertical-align: top;\n",
       "    }\n",
       "\n",
       "    .dataframe thead th {\n",
       "        text-align: right;\n",
       "    }\n",
       "</style>\n",
       "<table border=\"1\" class=\"dataframe\">\n",
       "  <thead>\n",
       "    <tr style=\"text-align: right;\">\n",
       "      <th></th>\n",
       "      <th>Code</th>\n",
       "      <th>Price</th>\n",
       "      <th>Deprivation_index</th>\n",
       "      <th>District Latitude</th>\n",
       "      <th>District Longitude</th>\n",
       "      <th>Venue</th>\n",
       "      <th>Venue ID</th>\n",
       "      <th>Venue Latitude</th>\n",
       "      <th>Venue Longitude</th>\n",
       "      <th>Venue Category</th>\n",
       "    </tr>\n",
       "  </thead>\n",
       "  <tbody>\n",
       "    <tr>\n",
       "      <th>0</th>\n",
       "      <td>E05000117</td>\n",
       "      <td>13.263071</td>\n",
       "      <td>9.889642</td>\n",
       "      <td>51.29</td>\n",
       "      <td>0.06</td>\n",
       "      <td>Shampan At The Spinning Wheel</td>\n",
       "      <td>4edb85d6e300851bfad7955e</td>\n",
       "      <td>51.292974</td>\n",
       "      <td>0.056939</td>\n",
       "      <td>Indian Restaurant</td>\n",
       "    </tr>\n",
       "    <tr>\n",
       "      <th>1</th>\n",
       "      <td>E05000117</td>\n",
       "      <td>13.263071</td>\n",
       "      <td>9.889642</td>\n",
       "      <td>51.29</td>\n",
       "      <td>0.06</td>\n",
       "      <td>Westerham Heights</td>\n",
       "      <td>59b435445a2c9107744a89d2</td>\n",
       "      <td>51.289698</td>\n",
       "      <td>0.057968</td>\n",
       "      <td>Scenic Lookout</td>\n",
       "    </tr>\n",
       "    <tr>\n",
       "      <th>2</th>\n",
       "      <td>E05000117</td>\n",
       "      <td>13.263071</td>\n",
       "      <td>9.889642</td>\n",
       "      <td>51.29</td>\n",
       "      <td>0.06</td>\n",
       "      <td>Biggin Hill Saddlery &amp; Gun Room</td>\n",
       "      <td>5308c801498ebfb5ae1d784d</td>\n",
       "      <td>51.288883</td>\n",
       "      <td>0.058852</td>\n",
       "      <td>Gun Shop</td>\n",
       "    </tr>\n",
       "    <tr>\n",
       "      <th>3</th>\n",
       "      <td>E05000117</td>\n",
       "      <td>13.263071</td>\n",
       "      <td>9.889642</td>\n",
       "      <td>51.29</td>\n",
       "      <td>0.06</td>\n",
       "      <td>The Old Farmhouse</td>\n",
       "      <td>4e5d56d0d164ced553f6f6f6</td>\n",
       "      <td>51.293183</td>\n",
       "      <td>0.056939</td>\n",
       "      <td>Bed &amp; Breakfast</td>\n",
       "    </tr>\n",
       "    <tr>\n",
       "      <th>4</th>\n",
       "      <td>E05000107</td>\n",
       "      <td>12.844880</td>\n",
       "      <td>10.053200</td>\n",
       "      <td>51.30</td>\n",
       "      <td>0.02</td>\n",
       "      <td>Pinky &amp; Perky Manor</td>\n",
       "      <td>5843fe72d0bb3e5513d37dd9</td>\n",
       "      <td>51.303328</td>\n",
       "      <td>0.018773</td>\n",
       "      <td>Pizza Place</td>\n",
       "    </tr>\n",
       "  </tbody>\n",
       "</table>\n",
       "</div>"
      ],
      "text/plain": [
       "        Code      Price  Deprivation_index  District Latitude  \\\n",
       "0  E05000117  13.263071           9.889642              51.29   \n",
       "1  E05000117  13.263071           9.889642              51.29   \n",
       "2  E05000117  13.263071           9.889642              51.29   \n",
       "3  E05000117  13.263071           9.889642              51.29   \n",
       "4  E05000107  12.844880          10.053200              51.30   \n",
       "\n",
       "   District Longitude                            Venue  \\\n",
       "0                0.06    Shampan At The Spinning Wheel   \n",
       "1                0.06                Westerham Heights   \n",
       "2                0.06  Biggin Hill Saddlery & Gun Room   \n",
       "3                0.06                The Old Farmhouse   \n",
       "4                0.02              Pinky & Perky Manor   \n",
       "\n",
       "                   Venue ID  Venue Latitude  Venue Longitude  \\\n",
       "0  4edb85d6e300851bfad7955e       51.292974         0.056939   \n",
       "1  59b435445a2c9107744a89d2       51.289698         0.057968   \n",
       "2  5308c801498ebfb5ae1d784d       51.288883         0.058852   \n",
       "3  4e5d56d0d164ced553f6f6f6       51.293183         0.056939   \n",
       "4  5843fe72d0bb3e5513d37dd9       51.303328         0.018773   \n",
       "\n",
       "      Venue Category  \n",
       "0  Indian Restaurant  \n",
       "1     Scenic Lookout  \n",
       "2           Gun Shop  \n",
       "3    Bed & Breakfast  \n",
       "4        Pizza Place  "
      ]
     },
     "execution_count": 43,
     "metadata": {},
     "output_type": "execute_result"
    }
   ],
   "source": [
    "London_venues.head()"
   ]
  },
  {
   "cell_type": "code",
   "execution_count": 44,
   "metadata": {},
   "outputs": [
    {
     "data": {
      "text/plain": [
       "array(['Indian Restaurant', 'Scenic Lookout', 'Gun Shop',\n",
       "       'Bed & Breakfast', 'Pizza Place', 'Stables', 'Restaurant',\n",
       "       'Train Station', 'Supermarket', 'Pool', 'Grocery Store',\n",
       "       'Pharmacy', 'Café', 'Coffee Shop', 'Golf Course', 'Platform',\n",
       "       'English Restaurant', 'Print Shop', 'Construction & Landscaping',\n",
       "       'Motorcycle Shop', 'Airport Terminal', 'Pub', 'Music Venue',\n",
       "       'Campground', 'Forest', 'Athletics & Sports', 'Auto Garage',\n",
       "       'Clothing Store', 'Transportation Service', 'Gym / Fitness Center',\n",
       "       'Home Service', 'Bar', 'Rock Club', 'Farm', 'IT Services',\n",
       "       'Massage Studio', 'Airport', 'Airport Service', 'History Museum',\n",
       "       'Lake', 'Garden Center', 'Convenience Store', 'Playground',\n",
       "       'Asian Restaurant', 'Park', 'Tea Room', 'Sports Club',\n",
       "       'Automotive Shop', 'Business Service', 'Arts & Crafts Store',\n",
       "       'Bookstore', 'Theme Park Ride / Attraction', 'Aquarium',\n",
       "       'Theme Park', 'Hotel', 'Theater', 'Zoo Exhibit',\n",
       "       'Fried Chicken Joint', 'Gift Shop', 'Fast Food Restaurant',\n",
       "       'Exhibit', 'Zoo', 'BBQ Joint', 'Shoe Store', 'Locksmith', 'Gym',\n",
       "       'Warehouse Store', 'Memorial Site', 'Bus Stop', 'Laundry Service',\n",
       "       'Hill', 'Gastropub', 'Gas Station', 'Paintball Field',\n",
       "       'Performing Arts Venue', 'Turkish Restaurant', 'Breakfast Spot',\n",
       "       'Nature Preserve', 'Dog Run', 'Lighting Store', 'Thai Restaurant',\n",
       "       'American Restaurant', 'Creperie', 'Italian Restaurant',\n",
       "       'Salon / Barbershop', 'Portuguese Restaurant', 'French Restaurant',\n",
       "       'Sandwich Place', 'Bakery', 'Irish Pub', 'Electronics Store',\n",
       "       'Garden', 'Fabric Shop', 'Veterinarian', 'Fish & Chips Shop',\n",
       "       'Soccer Field', 'Chinese Restaurant', 'Vietnamese Restaurant',\n",
       "       'Hotel Bar', 'Hardware Store', 'Fishing Store',\n",
       "       'Health & Beauty Service', 'Climbing Gym', 'Soccer Stadium',\n",
       "       'Malay Restaurant', 'Spa', 'Rental Car Location',\n",
       "       'Furniture / Home Store', 'Pet Store', 'Rugby Pitch',\n",
       "       'Cricket Ground', 'Event Service', 'Dance Studio', 'Food Truck',\n",
       "       'Flea Market', 'Bowling Alley', 'Discount Store',\n",
       "       'Lebanese Restaurant', 'Photography Studio', 'Tennis Court',\n",
       "       'Market', 'Field', 'Hookah Bar', 'Scandinavian Restaurant',\n",
       "       'Shopping Plaza', 'Sporting Goods Shop', 'Baby Store',\n",
       "       'Movie Theater', 'Smoothie Shop', 'Mexican Restaurant',\n",
       "       'Middle Eastern Restaurant', 'Organic Grocery', 'Food',\n",
       "       'Dessert Shop', 'Driving School', 'Wine Shop', 'Post Office',\n",
       "       'Deli / Bodega', 'Seafood Restaurant', 'Tram Station',\n",
       "       'Shipping Store', 'Bridal Shop', 'Racetrack', 'Mini Golf',\n",
       "       'Insurance Office', 'Department Store', 'Martial Arts Dojo',\n",
       "       'Palace', 'Hockey Field', 'Fountain', 'Historic Site', 'River',\n",
       "       'Harbor / Marina', 'Mobile Phone Shop', 'Korean Restaurant',\n",
       "       'Gym Pool', 'Karaoke Bar', 'Japanese Restaurant', 'Trail',\n",
       "       'Donut Shop', 'Road', 'Other Repair Shop', \"Doctor's Office\",\n",
       "       'Metro Station', 'Burger Joint', 'Diner',\n",
       "       'Indian Chinese Restaurant', 'Miscellaneous Shop', 'Sports Bar',\n",
       "       'Bus Station', 'General Entertainment', 'Thrift / Vintage Store',\n",
       "       'Ice Cream Shop', 'Chocolate Shop', 'Cosmetics Shop',\n",
       "       'Sushi Restaurant', 'Toy / Game Store', 'Video Game Store',\n",
       "       'Flower Shop', 'Tunnel', 'Beer Store', 'Boat or Ferry',\n",
       "       'Waterfront', 'Other Great Outdoors', 'German Restaurant',\n",
       "       'Record Shop', 'Latin American Restaurant', 'Plaza',\n",
       "       'Shopping Mall', 'Vegetarian / Vegan Restaurant',\n",
       "       'Kitchen Supply Store', 'Stationery Store', 'Candy Store',\n",
       "       \"Women's Store\", 'Falafel Restaurant', 'Music Store',\n",
       "       'Jewelry Store', 'Kebab Restaurant', 'Public Art', 'Souvlaki Shop',\n",
       "       'Nightclub', 'Multiplex', 'Dry Cleaner',\n",
       "       'Financial or Legal Service', 'Wine Bar', 'Brazilian Restaurant',\n",
       "       'Music School', 'Beer Bar', 'Brewery', 'Go Kart Track',\n",
       "       'Steakhouse', 'Mediterranean Restaurant', 'Frame Store',\n",
       "       'Tapas Restaurant', 'Cocktail Bar', 'Auto Workshop', 'Office',\n",
       "       'Noodle House', 'Buffet', 'Lingerie Store', 'Art Gallery', 'Cave',\n",
       "       'Pet Café', 'Waste Facility', 'Shop & Service',\n",
       "       'Modern European Restaurant', 'Argentinian Restaurant',\n",
       "       'Juice Bar', 'Burrito Place', \"Men's Store\", 'Liquor Store',\n",
       "       'Indoor Play Area', 'Sri Lankan Restaurant', 'Skating Rink',\n",
       "       'Kids Store', 'Bike Shop', 'Himalayan Restaurant', 'Antique Shop',\n",
       "       'African Restaurant', 'Sculpture Garden', 'Track Stadium',\n",
       "       'Outdoor Sculpture', 'Rest Area', 'Fire Station', 'Brasserie',\n",
       "       'Bistro', 'Museum', 'Optical Shop', 'Butcher',\n",
       "       'Pakistani Restaurant', 'South Indian Restaurant',\n",
       "       'Ramen Restaurant', 'Gourmet Shop', 'Track', 'Jazz Club',\n",
       "       'Food & Drink Shop', 'Recreation Center', 'Farmers Market',\n",
       "       'Caribbean Restaurant', 'Design Studio', 'Vape Store',\n",
       "       'Accessories Store', 'Outdoors & Recreation', 'Lounge',\n",
       "       'Moroccan Restaurant', 'Yoga Studio', 'Greek Restaurant',\n",
       "       'Storage Facility', 'Auto Dealership', 'Betting Shop',\n",
       "       'Rugby Stadium', 'Stadium', 'Fish Market', 'Beer Garden',\n",
       "       'Caucasian Restaurant', 'Windmill', 'Tree', 'Social Club',\n",
       "       'Airport Lounge', 'Duty-free Shop', 'Border Crossing',\n",
       "       'Video Store', 'Hobby Shop', 'Herbs & Spices Store', 'Comedy Club',\n",
       "       'Comic Shop', 'Pier', 'Persian Restaurant', 'Spanish Restaurant',\n",
       "       'South American Restaurant', 'Chaat Place', 'Skate Park',\n",
       "       'Dim Sum Restaurant', 'Gay Bar', 'Indie Movie Theater',\n",
       "       'Street Art', 'New American Restaurant', 'Winery', 'Cupcake Shop',\n",
       "       'Okonomiyaki Restaurant', 'Dumpling Restaurant', 'Food Court',\n",
       "       'Cantonese Restaurant', 'Reservoir', 'Street Food Gathering',\n",
       "       'Hostel', 'Concert Hall', 'Champagne Bar', 'Souvenir Shop',\n",
       "       'Boutique', 'Leather Goods Store', 'Light Rail Station',\n",
       "       'Luggage Store', 'Building', 'Outlet Store', 'Heliport',\n",
       "       'Gymnastics Gym', 'Peruvian Restaurant', 'Tanning Salon',\n",
       "       'Xinjiang Restaurant', 'Szechuan Restaurant', 'Whisky Bar',\n",
       "       'Library', 'Castle', 'Fruit & Vegetable Store', 'General Travel',\n",
       "       'Intersection', 'Botanical Garden', 'Australian Restaurant',\n",
       "       'Monument / Landmark', 'Cycle Studio', 'Rock Climbing Spot',\n",
       "       'Speakeasy', 'Animal Shelter', 'Ethiopian Restaurant', 'Canal',\n",
       "       'Pie Shop', 'Observatory', 'Planetarium', 'Event Space',\n",
       "       'Canal Lock', 'Art Museum', 'Recording Studio', 'Wings Joint',\n",
       "       'Tennis Stadium', 'Indie Theater', 'Grilled Meat Restaurant',\n",
       "       'Residential Building (Apartment / Condo)', 'Boxing Gym',\n",
       "       'Bagel Shop', 'Boarding House', 'Perfume Shop', 'Tour Provider',\n",
       "       'Camera Store', 'Cheese Shop', 'Churrascaria', 'Basketball Court',\n",
       "       'Film Studio', 'Arepa Restaurant', 'Bike Rental / Bike Share',\n",
       "       'Carpet Store', 'Factory', 'Lighthouse', 'Entertainment Service',\n",
       "       'Arcade', 'Convention Center', 'Filipino Restaurant',\n",
       "       'Opera House', 'Piano Bar', 'Hot Dog Joint', 'Austrian Restaurant',\n",
       "       'Salad Place', 'University', 'Science Museum', 'Polish Restaurant',\n",
       "       'Poke Place', 'Pedestrian Plaza', 'Distillery',\n",
       "       'Indonesian Restaurant', 'Bridge', 'Bubble Tea Shop', 'Nail Salon',\n",
       "       'Golf Driving Range', 'Outlet Mall', 'Cable Car',\n",
       "       'Currency Exchange', 'Doner Restaurant',\n",
       "       'Southern / Soul Food Restaurant', 'Eastern European Restaurant',\n",
       "       'Roof Deck', 'Frozen Yogurt Shop', 'Food Stand',\n",
       "       'Volleyball Court', 'Watch Shop', 'Tailor Shop',\n",
       "       'Russian Restaurant', 'Israeli Restaurant', 'Church',\n",
       "       'Cuban Restaurant', 'North Indian Restaurant',\n",
       "       'Japanese Curry Restaurant', 'Outdoor Supply Store',\n",
       "       'Currywurst Joint', 'Soba Restaurant', 'Dive Bar', 'Beach',\n",
       "       'Rafting', 'Halal Restaurant', 'Baseball Field', 'Sake Bar',\n",
       "       'Snack Place', 'Casino', 'Radio Station', 'Medical School',\n",
       "       'College Residence Hall', 'Gluten-free Restaurant', 'College Gym',\n",
       "       'Taco Place', 'Soup Place', 'Jewish Restaurant', 'Pilates Studio',\n",
       "       'Cafeteria', 'Moving Target', 'Tourist Information Center',\n",
       "       'Rental Service', 'Mobility Store', 'Bus Line', 'Pool Hall',\n",
       "       'Paper / Office Supplies Store', 'School', 'Adult Boutique',\n",
       "       'Buddhist Temple', 'Arts & Entertainment', 'Theme Restaurant',\n",
       "       'Mamak Restaurant', 'Smoke Shop', 'Hunan Restaurant',\n",
       "       'Udon Restaurant', 'Gaming Cafe', 'Taiwanese Restaurant',\n",
       "       'Bulgarian Restaurant', 'Non-Profit', 'Travel & Transport',\n",
       "       'Shaanxi Restaurant', 'Health Food Store', 'Yakitori Restaurant',\n",
       "       'Costume Shop', 'Laser Tag', 'Car Wash', 'Military Base',\n",
       "       'Cemetery', 'Knitting Store', 'Summer Camp', 'Laundromat',\n",
       "       'Shabu-Shabu Restaurant', 'Kosher Restaurant', 'Water Park',\n",
       "       'Cigkofte Place', 'Student Center', 'Boat Rental',\n",
       "       'Afghan Restaurant', 'Food Service', 'Outdoor Gym',\n",
       "       'Recruiting Agency', 'Lawyer', 'RV Park'], dtype=object)"
      ]
     },
     "execution_count": 44,
     "metadata": {},
     "output_type": "execute_result"
    }
   ],
   "source": [
    "#Checking all the unique venue categories\n",
    "London_venues['Venue Category'].unique()"
   ]
  },
  {
   "cell_type": "code",
   "execution_count": 45,
   "metadata": {},
   "outputs": [
    {
     "data": {
      "text/plain": [
       "(466, (18886, 10))"
      ]
     },
     "execution_count": 45,
     "metadata": {},
     "output_type": "execute_result"
    }
   ],
   "source": [
    "len(London_venues['Venue Category'].unique()),London_venues.shape"
   ]
  },
  {
   "cell_type": "markdown",
   "metadata": {},
   "source": [
    "There seem to be quite a lot of venue categories, it is likely that not all of them are relevant in predicting housing price categories. Due to the large number of candidate features and its relatively large data size, we will use Random Forest, instead of Decision Tree to perform feature selection and calssification. "
   ]
  },
  {
   "cell_type": "code",
   "execution_count": 46,
   "metadata": {},
   "outputs": [],
   "source": [
    "#onehot_encoding: converting categorical variables into dummy variables\n",
    "ld_onehot=pd.get_dummies(London_venues[['Venue Category']],prefix=\"\",prefix_sep=\"\")\n"
   ]
  },
  {
   "cell_type": "code",
   "execution_count": 47,
   "metadata": {},
   "outputs": [
    {
     "data": {
      "text/html": [
       "<div>\n",
       "<style scoped>\n",
       "    .dataframe tbody tr th:only-of-type {\n",
       "        vertical-align: middle;\n",
       "    }\n",
       "\n",
       "    .dataframe tbody tr th {\n",
       "        vertical-align: top;\n",
       "    }\n",
       "\n",
       "    .dataframe thead th {\n",
       "        text-align: right;\n",
       "    }\n",
       "</style>\n",
       "<table border=\"1\" class=\"dataframe\">\n",
       "  <thead>\n",
       "    <tr style=\"text-align: right;\">\n",
       "      <th></th>\n",
       "      <th>Accessories Store</th>\n",
       "      <th>Adult Boutique</th>\n",
       "      <th>Afghan Restaurant</th>\n",
       "      <th>African Restaurant</th>\n",
       "      <th>Airport</th>\n",
       "      <th>Airport Lounge</th>\n",
       "      <th>Airport Service</th>\n",
       "      <th>Airport Terminal</th>\n",
       "      <th>American Restaurant</th>\n",
       "      <th>Animal Shelter</th>\n",
       "      <th>...</th>\n",
       "      <th>Wine Bar</th>\n",
       "      <th>Wine Shop</th>\n",
       "      <th>Winery</th>\n",
       "      <th>Wings Joint</th>\n",
       "      <th>Women's Store</th>\n",
       "      <th>Xinjiang Restaurant</th>\n",
       "      <th>Yakitori Restaurant</th>\n",
       "      <th>Yoga Studio</th>\n",
       "      <th>Zoo</th>\n",
       "      <th>Zoo Exhibit</th>\n",
       "    </tr>\n",
       "  </thead>\n",
       "  <tbody>\n",
       "    <tr>\n",
       "      <th>0</th>\n",
       "      <td>0</td>\n",
       "      <td>0</td>\n",
       "      <td>0</td>\n",
       "      <td>0</td>\n",
       "      <td>0</td>\n",
       "      <td>0</td>\n",
       "      <td>0</td>\n",
       "      <td>0</td>\n",
       "      <td>0</td>\n",
       "      <td>0</td>\n",
       "      <td>...</td>\n",
       "      <td>0</td>\n",
       "      <td>0</td>\n",
       "      <td>0</td>\n",
       "      <td>0</td>\n",
       "      <td>0</td>\n",
       "      <td>0</td>\n",
       "      <td>0</td>\n",
       "      <td>0</td>\n",
       "      <td>0</td>\n",
       "      <td>0</td>\n",
       "    </tr>\n",
       "    <tr>\n",
       "      <th>1</th>\n",
       "      <td>0</td>\n",
       "      <td>0</td>\n",
       "      <td>0</td>\n",
       "      <td>0</td>\n",
       "      <td>0</td>\n",
       "      <td>0</td>\n",
       "      <td>0</td>\n",
       "      <td>0</td>\n",
       "      <td>0</td>\n",
       "      <td>0</td>\n",
       "      <td>...</td>\n",
       "      <td>0</td>\n",
       "      <td>0</td>\n",
       "      <td>0</td>\n",
       "      <td>0</td>\n",
       "      <td>0</td>\n",
       "      <td>0</td>\n",
       "      <td>0</td>\n",
       "      <td>0</td>\n",
       "      <td>0</td>\n",
       "      <td>0</td>\n",
       "    </tr>\n",
       "    <tr>\n",
       "      <th>2</th>\n",
       "      <td>0</td>\n",
       "      <td>0</td>\n",
       "      <td>0</td>\n",
       "      <td>0</td>\n",
       "      <td>0</td>\n",
       "      <td>0</td>\n",
       "      <td>0</td>\n",
       "      <td>0</td>\n",
       "      <td>0</td>\n",
       "      <td>0</td>\n",
       "      <td>...</td>\n",
       "      <td>0</td>\n",
       "      <td>0</td>\n",
       "      <td>0</td>\n",
       "      <td>0</td>\n",
       "      <td>0</td>\n",
       "      <td>0</td>\n",
       "      <td>0</td>\n",
       "      <td>0</td>\n",
       "      <td>0</td>\n",
       "      <td>0</td>\n",
       "    </tr>\n",
       "    <tr>\n",
       "      <th>3</th>\n",
       "      <td>0</td>\n",
       "      <td>0</td>\n",
       "      <td>0</td>\n",
       "      <td>0</td>\n",
       "      <td>0</td>\n",
       "      <td>0</td>\n",
       "      <td>0</td>\n",
       "      <td>0</td>\n",
       "      <td>0</td>\n",
       "      <td>0</td>\n",
       "      <td>...</td>\n",
       "      <td>0</td>\n",
       "      <td>0</td>\n",
       "      <td>0</td>\n",
       "      <td>0</td>\n",
       "      <td>0</td>\n",
       "      <td>0</td>\n",
       "      <td>0</td>\n",
       "      <td>0</td>\n",
       "      <td>0</td>\n",
       "      <td>0</td>\n",
       "    </tr>\n",
       "    <tr>\n",
       "      <th>4</th>\n",
       "      <td>0</td>\n",
       "      <td>0</td>\n",
       "      <td>0</td>\n",
       "      <td>0</td>\n",
       "      <td>0</td>\n",
       "      <td>0</td>\n",
       "      <td>0</td>\n",
       "      <td>0</td>\n",
       "      <td>0</td>\n",
       "      <td>0</td>\n",
       "      <td>...</td>\n",
       "      <td>0</td>\n",
       "      <td>0</td>\n",
       "      <td>0</td>\n",
       "      <td>0</td>\n",
       "      <td>0</td>\n",
       "      <td>0</td>\n",
       "      <td>0</td>\n",
       "      <td>0</td>\n",
       "      <td>0</td>\n",
       "      <td>0</td>\n",
       "    </tr>\n",
       "  </tbody>\n",
       "</table>\n",
       "<p>5 rows × 466 columns</p>\n",
       "</div>"
      ],
      "text/plain": [
       "   Accessories Store  Adult Boutique  Afghan Restaurant  African Restaurant  \\\n",
       "0                  0               0                  0                   0   \n",
       "1                  0               0                  0                   0   \n",
       "2                  0               0                  0                   0   \n",
       "3                  0               0                  0                   0   \n",
       "4                  0               0                  0                   0   \n",
       "\n",
       "   Airport  Airport Lounge  Airport Service  Airport Terminal  \\\n",
       "0        0               0                0                 0   \n",
       "1        0               0                0                 0   \n",
       "2        0               0                0                 0   \n",
       "3        0               0                0                 0   \n",
       "4        0               0                0                 0   \n",
       "\n",
       "   American Restaurant  Animal Shelter     ...       Wine Bar  Wine Shop  \\\n",
       "0                    0               0     ...              0          0   \n",
       "1                    0               0     ...              0          0   \n",
       "2                    0               0     ...              0          0   \n",
       "3                    0               0     ...              0          0   \n",
       "4                    0               0     ...              0          0   \n",
       "\n",
       "   Winery  Wings Joint  Women's Store  Xinjiang Restaurant  \\\n",
       "0       0            0              0                    0   \n",
       "1       0            0              0                    0   \n",
       "2       0            0              0                    0   \n",
       "3       0            0              0                    0   \n",
       "4       0            0              0                    0   \n",
       "\n",
       "   Yakitori Restaurant  Yoga Studio  Zoo  Zoo Exhibit  \n",
       "0                    0            0    0            0  \n",
       "1                    0            0    0            0  \n",
       "2                    0            0    0            0  \n",
       "3                    0            0    0            0  \n",
       "4                    0            0    0            0  \n",
       "\n",
       "[5 rows x 466 columns]"
      ]
     },
     "execution_count": 47,
     "metadata": {},
     "output_type": "execute_result"
    }
   ],
   "source": [
    "ld_onehot.head()"
   ]
  },
  {
   "cell_type": "markdown",
   "metadata": {},
   "source": []
  },
  {
   "cell_type": "code",
   "execution_count": 48,
   "metadata": {},
   "outputs": [],
   "source": [
    "#Inserting back the relevant columns\n",
    "ld_onehot.insert(loc=0, column='Deprivation_index',value=London_venues['Deprivation_index'])\n",
    "ld_onehot.insert(loc=0,column='Venue Latitude',value=London_venues['Venue Latitude'])\n",
    "ld_onehot.insert(loc=0,column='Venue Longitude',value=London_venues['Venue Longitude'])\n",
    "ld_onehot.insert(loc=0,column='Price',value=London_venues['Price'])"
   ]
  },
  {
   "cell_type": "code",
   "execution_count": 49,
   "metadata": {},
   "outputs": [],
   "source": [
    "#creating a new price category feature by converting the price value into categorical variable by qualtiles\n",
    "PriceCategory=pd.qcut(London_venues['Price'],3,labels=['low','medium','high'])\n",
    "ld_onehot.insert(loc=0,column='PriceCategory',value=PriceCategory)"
   ]
  },
  {
   "cell_type": "code",
   "execution_count": 50,
   "metadata": {},
   "outputs": [
    {
     "data": {
      "text/html": [
       "<div>\n",
       "<style scoped>\n",
       "    .dataframe tbody tr th:only-of-type {\n",
       "        vertical-align: middle;\n",
       "    }\n",
       "\n",
       "    .dataframe tbody tr th {\n",
       "        vertical-align: top;\n",
       "    }\n",
       "\n",
       "    .dataframe thead th {\n",
       "        text-align: right;\n",
       "    }\n",
       "</style>\n",
       "<table border=\"1\" class=\"dataframe\">\n",
       "  <thead>\n",
       "    <tr style=\"text-align: right;\">\n",
       "      <th></th>\n",
       "      <th>PriceCategory</th>\n",
       "      <th>Price</th>\n",
       "      <th>Venue Longitude</th>\n",
       "      <th>Venue Latitude</th>\n",
       "      <th>Deprivation_index</th>\n",
       "      <th>Accessories Store</th>\n",
       "      <th>Adult Boutique</th>\n",
       "      <th>Afghan Restaurant</th>\n",
       "      <th>African Restaurant</th>\n",
       "      <th>Airport</th>\n",
       "      <th>...</th>\n",
       "      <th>Wine Bar</th>\n",
       "      <th>Wine Shop</th>\n",
       "      <th>Winery</th>\n",
       "      <th>Wings Joint</th>\n",
       "      <th>Women's Store</th>\n",
       "      <th>Xinjiang Restaurant</th>\n",
       "      <th>Yakitori Restaurant</th>\n",
       "      <th>Yoga Studio</th>\n",
       "      <th>Zoo</th>\n",
       "      <th>Zoo Exhibit</th>\n",
       "    </tr>\n",
       "  </thead>\n",
       "  <tbody>\n",
       "    <tr>\n",
       "      <th>0</th>\n",
       "      <td>medium</td>\n",
       "      <td>13.263071</td>\n",
       "      <td>0.056939</td>\n",
       "      <td>51.292974</td>\n",
       "      <td>9.889642</td>\n",
       "      <td>0</td>\n",
       "      <td>0</td>\n",
       "      <td>0</td>\n",
       "      <td>0</td>\n",
       "      <td>0</td>\n",
       "      <td>...</td>\n",
       "      <td>0</td>\n",
       "      <td>0</td>\n",
       "      <td>0</td>\n",
       "      <td>0</td>\n",
       "      <td>0</td>\n",
       "      <td>0</td>\n",
       "      <td>0</td>\n",
       "      <td>0</td>\n",
       "      <td>0</td>\n",
       "      <td>0</td>\n",
       "    </tr>\n",
       "    <tr>\n",
       "      <th>1</th>\n",
       "      <td>medium</td>\n",
       "      <td>13.263071</td>\n",
       "      <td>0.057968</td>\n",
       "      <td>51.289698</td>\n",
       "      <td>9.889642</td>\n",
       "      <td>0</td>\n",
       "      <td>0</td>\n",
       "      <td>0</td>\n",
       "      <td>0</td>\n",
       "      <td>0</td>\n",
       "      <td>...</td>\n",
       "      <td>0</td>\n",
       "      <td>0</td>\n",
       "      <td>0</td>\n",
       "      <td>0</td>\n",
       "      <td>0</td>\n",
       "      <td>0</td>\n",
       "      <td>0</td>\n",
       "      <td>0</td>\n",
       "      <td>0</td>\n",
       "      <td>0</td>\n",
       "    </tr>\n",
       "    <tr>\n",
       "      <th>2</th>\n",
       "      <td>medium</td>\n",
       "      <td>13.263071</td>\n",
       "      <td>0.058852</td>\n",
       "      <td>51.288883</td>\n",
       "      <td>9.889642</td>\n",
       "      <td>0</td>\n",
       "      <td>0</td>\n",
       "      <td>0</td>\n",
       "      <td>0</td>\n",
       "      <td>0</td>\n",
       "      <td>...</td>\n",
       "      <td>0</td>\n",
       "      <td>0</td>\n",
       "      <td>0</td>\n",
       "      <td>0</td>\n",
       "      <td>0</td>\n",
       "      <td>0</td>\n",
       "      <td>0</td>\n",
       "      <td>0</td>\n",
       "      <td>0</td>\n",
       "      <td>0</td>\n",
       "    </tr>\n",
       "    <tr>\n",
       "      <th>3</th>\n",
       "      <td>medium</td>\n",
       "      <td>13.263071</td>\n",
       "      <td>0.056939</td>\n",
       "      <td>51.293183</td>\n",
       "      <td>9.889642</td>\n",
       "      <td>0</td>\n",
       "      <td>0</td>\n",
       "      <td>0</td>\n",
       "      <td>0</td>\n",
       "      <td>0</td>\n",
       "      <td>...</td>\n",
       "      <td>0</td>\n",
       "      <td>0</td>\n",
       "      <td>0</td>\n",
       "      <td>0</td>\n",
       "      <td>0</td>\n",
       "      <td>0</td>\n",
       "      <td>0</td>\n",
       "      <td>0</td>\n",
       "      <td>0</td>\n",
       "      <td>0</td>\n",
       "    </tr>\n",
       "    <tr>\n",
       "      <th>4</th>\n",
       "      <td>low</td>\n",
       "      <td>12.844880</td>\n",
       "      <td>0.018773</td>\n",
       "      <td>51.303328</td>\n",
       "      <td>10.053200</td>\n",
       "      <td>0</td>\n",
       "      <td>0</td>\n",
       "      <td>0</td>\n",
       "      <td>0</td>\n",
       "      <td>0</td>\n",
       "      <td>...</td>\n",
       "      <td>0</td>\n",
       "      <td>0</td>\n",
       "      <td>0</td>\n",
       "      <td>0</td>\n",
       "      <td>0</td>\n",
       "      <td>0</td>\n",
       "      <td>0</td>\n",
       "      <td>0</td>\n",
       "      <td>0</td>\n",
       "      <td>0</td>\n",
       "    </tr>\n",
       "  </tbody>\n",
       "</table>\n",
       "<p>5 rows × 471 columns</p>\n",
       "</div>"
      ],
      "text/plain": [
       "  PriceCategory      Price  Venue Longitude  Venue Latitude  \\\n",
       "0        medium  13.263071         0.056939       51.292974   \n",
       "1        medium  13.263071         0.057968       51.289698   \n",
       "2        medium  13.263071         0.058852       51.288883   \n",
       "3        medium  13.263071         0.056939       51.293183   \n",
       "4           low  12.844880         0.018773       51.303328   \n",
       "\n",
       "   Deprivation_index  Accessories Store  Adult Boutique  Afghan Restaurant  \\\n",
       "0           9.889642                  0               0                  0   \n",
       "1           9.889642                  0               0                  0   \n",
       "2           9.889642                  0               0                  0   \n",
       "3           9.889642                  0               0                  0   \n",
       "4          10.053200                  0               0                  0   \n",
       "\n",
       "   African Restaurant  Airport     ...       Wine Bar  Wine Shop  Winery  \\\n",
       "0                   0        0     ...              0          0       0   \n",
       "1                   0        0     ...              0          0       0   \n",
       "2                   0        0     ...              0          0       0   \n",
       "3                   0        0     ...              0          0       0   \n",
       "4                   0        0     ...              0          0       0   \n",
       "\n",
       "   Wings Joint  Women's Store  Xinjiang Restaurant  Yakitori Restaurant  \\\n",
       "0            0              0                    0                    0   \n",
       "1            0              0                    0                    0   \n",
       "2            0              0                    0                    0   \n",
       "3            0              0                    0                    0   \n",
       "4            0              0                    0                    0   \n",
       "\n",
       "   Yoga Studio  Zoo  Zoo Exhibit  \n",
       "0            0    0            0  \n",
       "1            0    0            0  \n",
       "2            0    0            0  \n",
       "3            0    0            0  \n",
       "4            0    0            0  \n",
       "\n",
       "[5 rows x 471 columns]"
      ]
     },
     "execution_count": 50,
     "metadata": {},
     "output_type": "execute_result"
    }
   ],
   "source": [
    "ld_onehot.head()"
   ]
  },
  {
   "cell_type": "code",
   "execution_count": 51,
   "metadata": {},
   "outputs": [
    {
     "data": {
      "text/plain": [
       "(18886, 471)"
      ]
     },
     "execution_count": 51,
     "metadata": {},
     "output_type": "execute_result"
    }
   ],
   "source": [
    "ld_onehot.shape"
   ]
  },
  {
   "cell_type": "code",
   "execution_count": 52,
   "metadata": {},
   "outputs": [],
   "source": [
    "x_1=ld_onehot.iloc[:,2:]\n",
    "y_1=ld_onehot['PriceCategory']"
   ]
  },
  {
   "cell_type": "code",
   "execution_count": null,
   "metadata": {},
   "outputs": [],
   "source": []
  },
  {
   "cell_type": "markdown",
   "metadata": {},
   "source": [
    "## Modelling Stage: \n",
    "1. Apply the RandomForestClassifier to the whole dataset\n",
    "2. Record the accuracy score\n",
    "3. Select the important features\n",
    "4. Apply the RandomForestClassifier again using the important features\n",
    "5. Compare the accuracy score to the first model.\n",
    "6. Apply the K-NearestNeighbours and Support Vector Machines with the selected features.\n",
    "7. Record the accuracy of each model.\n",
    "8. Select the model with the best accuracy score."
   ]
  },
  {
   "cell_type": "code",
   "execution_count": 53,
   "metadata": {},
   "outputs": [],
   "source": [
    "from sklearn.ensemble import RandomForestClassifier\n",
    "from sklearn import preprocessing \n",
    "from sklearn.metrics import classification_report,confusion_matrix\n",
    "from sklearn.model_selection import train_test_split\n",
    "from sklearn.neighbors import KNeighborsClassifier\n",
    "from sklearn import svm\n",
    "from sklearn import metrics\n",
    "import matplotlib.pyplot as plt\n",
    "from sklearn.preprocessing import StandardScaler"
   ]
  },
  {
   "cell_type": "code",
   "execution_count": 54,
   "metadata": {},
   "outputs": [
    {
     "data": {
      "text/plain": [
       "0.9526204340921123"
      ]
     },
     "execution_count": 54,
     "metadata": {},
     "output_type": "execute_result"
    }
   ],
   "source": [
    "#Performing 20/80 train_test split\n",
    "x_train_1,x_test_1,y_train_1,y_test_1=train_test_split(x_1,y_1,test_size=0.2,random_state=4)\n",
    "\n",
    "# Applying RandomForest to the whole dataset\n",
    "rf=RandomForestClassifier(n_estimators=1000, n_jobs=-1)\n",
    "rf.fit(x_train_1,y_train_1)\n",
    "#Accuracy of the first RandomForest Model\n",
    "rf.score(x_test_1,y_test_1)"
   ]
  },
  {
   "cell_type": "code",
   "execution_count": 55,
   "metadata": {},
   "outputs": [],
   "source": [
    "#Generate a dataframe with the feature importance value array\n",
    "feature_importances = pd.DataFrame(rf.feature_importances_,\n",
    "                                   index = x_train_1.columns,\n",
    "                                    columns=['importance']).sort_values('importance',ascending=False)"
   ]
  },
  {
   "cell_type": "code",
   "execution_count": 56,
   "metadata": {},
   "outputs": [
    {
     "data": {
      "text/html": [
       "<div>\n",
       "<style scoped>\n",
       "    .dataframe tbody tr th:only-of-type {\n",
       "        vertical-align: middle;\n",
       "    }\n",
       "\n",
       "    .dataframe tbody tr th {\n",
       "        vertical-align: top;\n",
       "    }\n",
       "\n",
       "    .dataframe thead th {\n",
       "        text-align: right;\n",
       "    }\n",
       "</style>\n",
       "<table border=\"1\" class=\"dataframe\">\n",
       "  <thead>\n",
       "    <tr style=\"text-align: right;\">\n",
       "      <th></th>\n",
       "      <th>importance</th>\n",
       "    </tr>\n",
       "  </thead>\n",
       "  <tbody>\n",
       "    <tr>\n",
       "      <th>Tanning Salon</th>\n",
       "      <td>0.0</td>\n",
       "    </tr>\n",
       "    <tr>\n",
       "      <th>Watch Shop</th>\n",
       "      <td>0.0</td>\n",
       "    </tr>\n",
       "    <tr>\n",
       "      <th>Japanese Curry Restaurant</th>\n",
       "      <td>0.0</td>\n",
       "    </tr>\n",
       "    <tr>\n",
       "      <th>Mobility Store</th>\n",
       "      <td>0.0</td>\n",
       "    </tr>\n",
       "    <tr>\n",
       "      <th>Knitting Store</th>\n",
       "      <td>0.0</td>\n",
       "    </tr>\n",
       "  </tbody>\n",
       "</table>\n",
       "</div>"
      ],
      "text/plain": [
       "                           importance\n",
       "Tanning Salon                     0.0\n",
       "Watch Shop                        0.0\n",
       "Japanese Curry Restaurant         0.0\n",
       "Mobility Store                    0.0\n",
       "Knitting Store                    0.0"
      ]
     },
     "execution_count": 56,
     "metadata": {},
     "output_type": "execute_result"
    }
   ],
   "source": [
    "feature_importances.sort_values('importance',ascending=True).head()"
   ]
  },
  {
   "cell_type": "markdown",
   "metadata": {},
   "source": [
    "As we can see, there are quite a few features with zero importance values. We shall remove those first."
   ]
  },
  {
   "cell_type": "code",
   "execution_count": 57,
   "metadata": {},
   "outputs": [],
   "source": [
    "#Removing features with zero importance value\n",
    "important_feature=feature_importances[feature_importances['importance']!=0].reset_index()\n",
    "feature_list=list(important_feature['index'])\n",
    "\n",
    "#Modifying training and testing dataset accordingly.\n",
    "x_train_imp=x_train_1[feature_list]\n",
    "x_test_imp=x_test_1[feature_list]"
   ]
  },
  {
   "cell_type": "code",
   "execution_count": 58,
   "metadata": {},
   "outputs": [
    {
     "data": {
      "text/plain": [
       "0.9526204340921123"
      ]
     },
     "execution_count": 58,
     "metadata": {},
     "output_type": "execute_result"
    }
   ],
   "source": [
    "#Applying the RandomForest again with reduced feature set\n",
    "rf.fit(x_train_imp,y_train_1)\n",
    "rf.score(x_test_imp,y_test_1)"
   ]
  },
  {
   "cell_type": "code",
   "execution_count": 59,
   "metadata": {},
   "outputs": [
    {
     "data": {
      "text/plain": [
       "444"
      ]
     },
     "execution_count": 59,
     "metadata": {},
     "output_type": "execute_result"
    }
   ],
   "source": [
    "len(feature_list)"
   ]
  },
  {
   "cell_type": "markdown",
   "metadata": {},
   "source": [
    "Dropping features with zero importance only improved our model performance by a slight margin. This is within our expectations as we still have a large number of feature variables left, which might contains variables that provide little meaningful information for price categoriy prediction, thereby introducing noise to the model. We shall now examine the impact of further feature reduction on model performance."
   ]
  },
  {
   "cell_type": "code",
   "execution_count": null,
   "metadata": {},
   "outputs": [],
   "source": [
    "#Setting the feature selection threshold : importance_rank >= 0.0015\n",
    "impt_fea_2=list(feature_importances[feature_importances['importance']>=0.001].reset_index()['index'])\n",
    "len(impt_fea_2)\n",
    "x_impt_train_2=x_train_1[impt_fea_2]\n",
    "x_impt_test_2=x_test_1[impt_fea_2]"
   ]
  },
  {
   "cell_type": "code",
   "execution_count": 61,
   "metadata": {},
   "outputs": [
    {
     "data": {
      "text/plain": [
       "0.9788247750132345"
      ]
     },
     "execution_count": 61,
     "metadata": {},
     "output_type": "execute_result"
    }
   ],
   "source": [
    "rf.fit(x_impt_train_2,y_train_1)\n",
    "rf.score(x_impt_test_2,y_test_1)"
   ]
  },
  {
   "cell_type": "markdown",
   "metadata": {},
   "source": [
    "By further reducing the number of feature variables, we have significantly improved our model accuracy. Now we will apply KNN and SVM to the selected feature sets."
   ]
  },
  {
   "cell_type": "code",
   "execution_count": 62,
   "metadata": {},
   "outputs": [
    {
     "data": {
      "image/png": "[encoded data removed]",
      "text/plain": [
       "<Figure size 432x288 with 1 Axes>"
      ]
     },
     "metadata": {},
     "output_type": "display_data"
    },
    {
     "name": "stdout",
     "output_type": "stream",
     "text": [
      "The best accuracy was obtained when K= 1 with Jaccard score= 0.8724192694547379\n"
     ]
    }
   ],
   "source": [
    "#Applying KNN algorithm\n",
    "Ks=10\n",
    "mean_acc=np.zeros(9)\n",
    "std_acc=np.zeros(9)\n",
    "for n in range (1,Ks):\n",
    "    neigh=KNeighborsClassifier(n_neighbors=n).fit(x_impt_train_2,y_train_1)\n",
    "    yhat=neigh.predict(x_impt_test_2)\n",
    "    mean_acc[n-1]=metrics.accuracy_score(y_test_1,yhat)\n",
    "\n",
    "plt.plot(range(1,Ks), mean_acc, 'r')\n",
    "plt.legend('Accuracy')\n",
    "plt.ylabel('Accuracy')\n",
    "plt.xlabel('K values')\n",
    "plt.show()\n",
    "\n",
    "print( \"The best accuracy was obtained when K=\",  mean_acc.argmax()+1, \"with Jaccard score=\",mean_acc.max())"
   ]
  },
  {
   "cell_type": "code",
   "execution_count": 63,
   "metadata": {},
   "outputs": [],
   "source": [
    "def SVM(x_train,y_train,x_test,y_test,KERNEL):\n",
    "    svm_all=svm.SVC(kernel=KERNEL)\n",
    "    svm_all.fit(x_train,y_train)\n",
    "    yhat_svm_all=svm_all.predict(x_test)\n",
    "    print(metrics.accuracy_score(y_test,yhat))\n",
    "    svm_all_matrix=confusion_matrix(y_test,yhat_svm_all,labels=['high','medium','low'])\n",
    "    np.set_printoptions()\n",
    "    print(classification_report(y_test,yhat_svm_all))"
   ]
  },
  {
   "cell_type": "code",
   "execution_count": null,
   "metadata": {},
   "outputs": [],
   "source": [
    "#Applying SVM algorithm\n",
    "SVM(x_train=x_impt_train_2,y_train=y_train_1,x_test=x_impt_test_2,y_test=y_test_1,KERNEL='poly')"
   ]
  },
  {
   "cell_type": "markdown",
   "metadata": {},
   "source": [
    "Compared to KNN and SVMs, RandomForestClassifier yielded the highest accuracy score(97.91%). Therefore, it is chosen as the best classfication model. \n"
   ]
  },
  {
   "cell_type": "markdown",
   "metadata": {},
   "source": [
    "It is worth noticing, however, the relatively high accuracy score does not provide any direct evidence for the strong predictive power of nearby venue category data. This is because,as shown in the feature_importances dataframe, the feature with the highest contribution value is the index of multiple deprivation. More importantly, its associated contribution value exceeded the value of the second most important feature by quite a considerable margin. Therefore it is possible that, venue categories data played a relatively insignificant role in predicting housing price categories. There are several possible explanations for this result. \n",
    "\n",
    "Firstly, this could be attributed to the lack of relationship between housing price categories and its nearby venue categories. Secondly, since the price value did not perfectly fit the normal distribution, it is possible that converting price values into cateogircal variables by quartiles might have resulted in a loss of information. Thus, the resulting classification model might not be a perfect reflection of the actual relationship between housing price and its nearby venue categories. Thirdly, the nearby venue data is limited to its functional categories, which provide little information about its associated expenditure level, which could potentially be a better predictor of housing price categories. This information could be sourced using the 'get venue details' query, however, due to the relatively large data size,\n",
    "the number of API calls will exceed the quota of the current starndard Foursquare developer account. Therefore, future research with the additional focus on household expenditure level is suggested. Finally, only training and validation sets were used to evaluate prediction accuracy. If more time is allowed, a testing set will also be included to further examine the model generalisability, since it is possible the model will loose around 5% accuracy when applied to unseen data."
   ]
  },
  {
   "cell_type": "code",
   "execution_count": null,
   "metadata": {},
   "outputs": [],
   "source": [
    "feature_importances.sort_values('importance',ascending=False).head()"
   ]
  },
  {
   "cell_type": "markdown",
   "metadata": {},
   "source": [
    "## References\n",
    "Basu, S., & Thibodeau, T. G. (1998). Analysis of spatial autocorrelation in house prices. The Journal of Real Estate Finance and Economics, 17(1), 61-85.\n",
    "\n",
    "Islam, K. S., & Asami, Y. (2009, July). Housing market segmentation: a review. In Review of Urban & Regional Development Studies: Journal of the Applied Regional Science Conference (Vol. 21, No. 2‐3, pp. 93-109). Melbourne, Australia: Blackwell Publishing Asia.\n",
    "\n",
    "Margulis, H. L. (1998). Predicting the growth and filtering of at-risk housing: Structure ageing, poverty and redlining. Urban Studies, 35(8), 1231-1259.\n",
    "\n"
   ]
  },
  {
   "cell_type": "code",
   "execution_count": null,
   "metadata": {},
   "outputs": [],
   "source": []
  }
 ],
 "metadata": {
  "kernelspec": {
   "display_name": "Python 3",
   "language": "python",
   "name": "python3"
  },
  "language_info": {
   "codemirror_mode": {
    "name": "ipython",
    "version": 3
   },
   "file_extension": ".py",
   "mimetype": "text/x-python",
   "name": "python",
   "nbconvert_exporter": "python",
   "pygments_lexer": "ipython3",
   "version": "3.6.5"
  }
 },
 "nbformat": 4,
 "nbformat_minor": 2
}
