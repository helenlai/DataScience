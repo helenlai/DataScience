{
 "cells": [
  {
   "cell_type": "markdown",
   "metadata": {},
   "source": [
    "# Research Questions and Analytical Plan\n",
    "\n",
    "### Research Aim (Exploratory):\n",
    "- A review of literature has shown that house prices are often modeled using regression models whereby structural and locational attributes are used to explain variances in house prices. This is justified on the basis that houses often share similar strucutral features with their nearby properties (Basu & Thibodeau, 1998). In addition, poverty index has also been used to identify at-risk housing (Margulis, 1998). The current research aims to extend the literature by simultanously exploring the effect of deprivation index, quality rating, distance to station and nearby venue categories in predicting house price categories. \n",
    "    \n",
    "    - Candiate Independent Variable: Nearby Venue Categories, Index of Multiple Deprivation, Quality rating, Distance to Station\n",
    "    - Dependent Variable: Housing Price Categories\n",
    "    \n",
    "### Research Design:\n",
    "   1. Data Preparation:\n",
    "        -- Importing pre-existing datasets\n",
    "              - London housing price by ward code __ downloaded from public database\n",
    "              - London geographical coordinates _ downloaded from public database   \n",
    "        -- Data Wangling:\n",
    "              - Merge the three dataframe with the primary key: ward code \n",
    "              - Clean and simplify the dataset to reduce computation time\n",
    "        -- Exploratory Data Analysis:\n",
    "              - Explore the normality of target variable__ Housing Price and remove the outliers if there are any.\n",
    "              - Its association with three candidate feature variables\n",
    "                   1. Index of Multiple Deprivation\n",
    "                   2. Distance to Station\n",
    "                   3. Quality Rating\n",
    "              - Conduct normality test for variables that appear to be associated with the housing price value \n",
    "                  - modify the data accordingly based on its distribution plot\n",
    "              - Compute the correlation coefficient and its associated statistical significance\n",
    "         \n",
    "         -- Further data sourcing:\n",
    "              - Fetch venue category data for each geographical coordinate using Foursquare API\n",
    "         -- Further data wangling:\n",
    "              - Convert Housing Price into categorical variable (low, medium, high)\n",
    "              - Converting venue data into dummy variables using one-hot encoding \n",
    "    \n",
    "   2. Modelling \n",
    "        -- Further feature selection:\n",
    "            - apply Randomforest classifier to the entire dataset\n",
    "            - generate a dataframe containing all the feature variables with its associated feature importance value\n",
    "            - drop the features that failed to provide sufficient meaningful information\n",
    "        -- Find the best classification model\n",
    "            - apply Random Forest, K-Nearest Neighbors and Support Vector Machine using the selected feature variables\n",
    "            - compute the accuracy score of each mode\n",
    "            - select the one the highest accuracy score\n",
    "            \n",
    "   3. Results Interpretation and Discussion          \n",
    "   "
   ]
  }
 ],
 "metadata": {
  "kernelspec": {
   "display_name": "Python 3",
   "language": "python",
   "name": "python3"
  },
  "language_info": {
   "codemirror_mode": {
    "name": "ipython",
    "version": 3
   },
   "file_extension": ".py",
   "mimetype": "text/x-python",
   "name": "python",
   "nbconvert_exporter": "python",
   "pygments_lexer": "ipython3",
   "version": "3.6.5"
  }
 },
 "nbformat": 4,
 "nbformat_minor": 2
}
